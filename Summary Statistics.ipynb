{
 "metadata": {
  "name": ""
 },
 "nbformat": 3,
 "nbformat_minor": 0,
 "worksheets": [
  {
   "cells": [
    {
     "cell_type": "code",
     "collapsed": false,
     "input": [
      "run Downloads/grades.py"
     ],
     "language": "python",
     "metadata": {},
     "outputs": [
      {
       "output_type": "stream",
       "stream": "stdout",
       "text": [
        "quizzes\n",
        "     Q1  Q2  Q3  Q4\n",
        "Bob  60  64  69  65\n",
        "Jim  52  57  59  55\n",
        "Kim  70  75  77  73\n",
        "Sue  90  93  97  95\n",
        "Tom  81  82  84  88\n",
        "\n",
        "lessons\n",
        "     L1  L2  L3  L4\n",
        "Bob  61  67  68  62\n",
        "Jim  56  54  52  53\n",
        "Kim  71  76  72  78\n",
        "Sue  91  92  93  97\n",
        "Tom  80  89  87  89\n",
        "\n",
        "tests\n",
        "     T1  T2  T3\n",
        "Bob  67  63  65\n",
        "Jim  52  51  58\n",
        "Kim  70  74  73\n",
        "Sue  98  97  92\n",
        "Tom  81  86  83\n",
        "\n",
        "weights\n",
        "lessons    0.3\n",
        "quizzes    0.3\n",
        "tests      0.4\n",
        "dtype: float64\n",
        "\n",
        "ID\n",
        "1290    Kim\n",
        "3331    Tom\n",
        "4915    Bob\n",
        "5567    Sue\n",
        "6518    Jim\n",
        "dtype: object\n",
        "\n",
        "year\n",
        "1290    sophomore\n",
        "3331     freshman\n",
        "4915    sophomore\n",
        "5567    sophomore\n",
        "6518     freshman\n",
        "dtype: object\n",
        "\n",
        "major\n",
        "1290    computer science\n",
        "3331    computer science\n",
        "4915    computer science\n",
        "5567         mathematics\n",
        "6518         mathematics\n",
        "dtype: object\n",
        "\n"
       ]
      }
     ],
     "prompt_number": 1
    },
    {
     "cell_type": "code",
     "collapsed": false,
     "input": [
      "tests.describe()"
     ],
     "language": "python",
     "metadata": {},
     "outputs": [
      {
       "html": [
        "<div style=\"max-height:1000px;max-width:1500px;overflow:auto;\">\n",
        "<table border=\"1\" class=\"dataframe\">\n",
        "  <thead>\n",
        "    <tr style=\"text-align: right;\">\n",
        "      <th></th>\n",
        "      <th>T1</th>\n",
        "      <th>T2</th>\n",
        "      <th>T3</th>\n",
        "    </tr>\n",
        "  </thead>\n",
        "  <tbody>\n",
        "    <tr>\n",
        "      <th>count</th>\n",
        "      <td>  5.000000</td>\n",
        "      <td>  5.000000</td>\n",
        "      <td>  5.000000</td>\n",
        "    </tr>\n",
        "    <tr>\n",
        "      <th>mean</th>\n",
        "      <td> 73.600000</td>\n",
        "      <td> 74.200000</td>\n",
        "      <td> 74.200000</td>\n",
        "    </tr>\n",
        "    <tr>\n",
        "      <th>std</th>\n",
        "      <td> 17.126004</td>\n",
        "      <td> 18.185159</td>\n",
        "      <td> 13.627179</td>\n",
        "    </tr>\n",
        "    <tr>\n",
        "      <th>min</th>\n",
        "      <td> 52.000000</td>\n",
        "      <td> 51.000000</td>\n",
        "      <td> 58.000000</td>\n",
        "    </tr>\n",
        "    <tr>\n",
        "      <th>25%</th>\n",
        "      <td> 67.000000</td>\n",
        "      <td> 63.000000</td>\n",
        "      <td> 65.000000</td>\n",
        "    </tr>\n",
        "    <tr>\n",
        "      <th>50%</th>\n",
        "      <td> 70.000000</td>\n",
        "      <td> 74.000000</td>\n",
        "      <td> 73.000000</td>\n",
        "    </tr>\n",
        "    <tr>\n",
        "      <th>75%</th>\n",
        "      <td> 81.000000</td>\n",
        "      <td> 86.000000</td>\n",
        "      <td> 83.000000</td>\n",
        "    </tr>\n",
        "    <tr>\n",
        "      <th>max</th>\n",
        "      <td> 98.000000</td>\n",
        "      <td> 97.000000</td>\n",
        "      <td> 92.000000</td>\n",
        "    </tr>\n",
        "  </tbody>\n",
        "</table>\n",
        "</div>"
       ],
       "metadata": {},
       "output_type": "pyout",
       "prompt_number": 3,
       "text": [
        "              T1         T2         T3\n",
        "count   5.000000   5.000000   5.000000\n",
        "mean   73.600000  74.200000  74.200000\n",
        "std    17.126004  18.185159  13.627179\n",
        "min    52.000000  51.000000  58.000000\n",
        "25%    67.000000  63.000000  65.000000\n",
        "50%    70.000000  74.000000  73.000000\n",
        "75%    81.000000  86.000000  83.000000\n",
        "max    98.000000  97.000000  92.000000"
       ]
      }
     ],
     "prompt_number": 3
    },
    {
     "cell_type": "code",
     "collapsed": false,
     "input": [
      "tests.T.describe()"
     ],
     "language": "python",
     "metadata": {},
     "outputs": [
      {
       "html": [
        "<div style=\"max-height:1000px;max-width:1500px;overflow:auto;\">\n",
        "<table border=\"1\" class=\"dataframe\">\n",
        "  <thead>\n",
        "    <tr style=\"text-align: right;\">\n",
        "      <th></th>\n",
        "      <th>Bob</th>\n",
        "      <th>Jim</th>\n",
        "      <th>Kim</th>\n",
        "      <th>Sue</th>\n",
        "      <th>Tom</th>\n",
        "    </tr>\n",
        "  </thead>\n",
        "  <tbody>\n",
        "    <tr>\n",
        "      <th>count</th>\n",
        "      <td>  3</td>\n",
        "      <td>  3.000000</td>\n",
        "      <td>  3.000000</td>\n",
        "      <td>  3.000000</td>\n",
        "      <td>  3.000000</td>\n",
        "    </tr>\n",
        "    <tr>\n",
        "      <th>mean</th>\n",
        "      <td> 65</td>\n",
        "      <td> 53.666667</td>\n",
        "      <td> 72.333333</td>\n",
        "      <td> 95.666667</td>\n",
        "      <td> 83.333333</td>\n",
        "    </tr>\n",
        "    <tr>\n",
        "      <th>std</th>\n",
        "      <td>  2</td>\n",
        "      <td>  3.785939</td>\n",
        "      <td>  2.081666</td>\n",
        "      <td>  3.214550</td>\n",
        "      <td>  2.516611</td>\n",
        "    </tr>\n",
        "    <tr>\n",
        "      <th>min</th>\n",
        "      <td> 63</td>\n",
        "      <td> 51.000000</td>\n",
        "      <td> 70.000000</td>\n",
        "      <td> 92.000000</td>\n",
        "      <td> 81.000000</td>\n",
        "    </tr>\n",
        "    <tr>\n",
        "      <th>25%</th>\n",
        "      <td> 64</td>\n",
        "      <td> 51.500000</td>\n",
        "      <td> 71.500000</td>\n",
        "      <td> 94.500000</td>\n",
        "      <td> 82.000000</td>\n",
        "    </tr>\n",
        "    <tr>\n",
        "      <th>50%</th>\n",
        "      <td> 65</td>\n",
        "      <td> 52.000000</td>\n",
        "      <td> 73.000000</td>\n",
        "      <td> 97.000000</td>\n",
        "      <td> 83.000000</td>\n",
        "    </tr>\n",
        "    <tr>\n",
        "      <th>75%</th>\n",
        "      <td> 66</td>\n",
        "      <td> 55.000000</td>\n",
        "      <td> 73.500000</td>\n",
        "      <td> 97.500000</td>\n",
        "      <td> 84.500000</td>\n",
        "    </tr>\n",
        "    <tr>\n",
        "      <th>max</th>\n",
        "      <td> 67</td>\n",
        "      <td> 58.000000</td>\n",
        "      <td> 74.000000</td>\n",
        "      <td> 98.000000</td>\n",
        "      <td> 86.000000</td>\n",
        "    </tr>\n",
        "  </tbody>\n",
        "</table>\n",
        "</div>"
       ],
       "metadata": {},
       "output_type": "pyout",
       "prompt_number": 4,
       "text": [
        "       Bob        Jim        Kim        Sue        Tom\n",
        "count    3   3.000000   3.000000   3.000000   3.000000\n",
        "mean    65  53.666667  72.333333  95.666667  83.333333\n",
        "std      2   3.785939   2.081666   3.214550   2.516611\n",
        "min     63  51.000000  70.000000  92.000000  81.000000\n",
        "25%     64  51.500000  71.500000  94.500000  82.000000\n",
        "50%     65  52.000000  73.000000  97.000000  83.000000\n",
        "75%     66  55.000000  73.500000  97.500000  84.500000\n",
        "max     67  58.000000  74.000000  98.000000  86.000000"
       ]
      }
     ],
     "prompt_number": 4
    },
    {
     "cell_type": "code",
     "collapsed": false,
     "input": [
      "tests.median(axis=1)"
     ],
     "language": "python",
     "metadata": {},
     "outputs": [
      {
       "metadata": {},
       "output_type": "pyout",
       "prompt_number": 5,
       "text": [
        "Bob    65\n",
        "Jim    52\n",
        "Kim    73\n",
        "Sue    97\n",
        "Tom    83\n",
        "dtype: float64"
       ]
      }
     ],
     "prompt_number": 5
    },
    {
     "cell_type": "code",
     "collapsed": false,
     "input": [
      "a=tests.stack()"
     ],
     "language": "python",
     "metadata": {},
     "outputs": [],
     "prompt_number": 7
    },
    {
     "cell_type": "code",
     "collapsed": false,
     "input": [
      "a"
     ],
     "language": "python",
     "metadata": {},
     "outputs": [
      {
       "metadata": {},
       "output_type": "pyout",
       "prompt_number": 8,
       "text": [
        "Bob  T1    67\n",
        "     T2    63\n",
        "     T3    65\n",
        "Jim  T1    52\n",
        "     T2    51\n",
        "     T3    58\n",
        "Kim  T1    70\n",
        "     T2    74\n",
        "     T3    73\n",
        "Sue  T1    98\n",
        "     T2    97\n",
        "     T3    92\n",
        "Tom  T1    81\n",
        "     T2    86\n",
        "     T3    83\n",
        "dtype: int64"
       ]
      }
     ],
     "prompt_number": 8
    },
    {
     "cell_type": "code",
     "collapsed": false,
     "input": [],
     "language": "python",
     "metadata": {},
     "outputs": [
      {
       "ename": "AttributeError",
       "evalue": "'Series' object has no attribute 'major'",
       "output_type": "pyerr",
       "traceback": [
        "\u001b[1;31m---------------------------------------------------------------------------\u001b[0m\n\u001b[1;31mAttributeError\u001b[0m                            Traceback (most recent call last)",
        "\u001b[1;32m<ipython-input-12-642840de5f12>\u001b[0m in \u001b[0;36m<module>\u001b[1;34m()\u001b[0m\n\u001b[1;32m----> 1\u001b[1;33m \u001b[0ma\u001b[0m\u001b[1;33m.\u001b[0m\u001b[0mmajor\u001b[0m\u001b[1;33m(\u001b[0m\u001b[1;33m)\u001b[0m\u001b[1;33m\u001b[0m\u001b[0m\n\u001b[0m",
        "\u001b[1;31mAttributeError\u001b[0m: 'Series' object has no attribute 'major'"
       ]
      }
     ],
     "prompt_number": 12
    },
    {
     "cell_type": "code",
     "collapsed": false,
     "input": [],
     "language": "python",
     "metadata": {},
     "outputs": []
    }
   ],
   "metadata": {}
  }
 ]
}