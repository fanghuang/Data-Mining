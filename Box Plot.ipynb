{
 "metadata": {
  "name": ""
 },
 "nbformat": 3,
 "nbformat_minor": 0,
 "worksheets": [
  {
   "cells": [
    {
     "cell_type": "code",
     "collapsed": false,
     "input": [
      "import pandas as pd\n",
      "finalA = pd.read_csv('Documents/grades/finalA.csv',index_col = 0)\n",
      "finalB = pd.read_csv('Documents/grades/finalB.csv',index_col = 0)\n",
      "homeworkA = pd.read_csv('Documents/grades/homeworkA.csv',index_col = 0)\n",
      "homeworkB = pd.read_csv('Documents/grades/homeworkB.csv',index_col = 0)\n",
      "lessonsA = pd.read_csv('Documents/grades/lessonsA.csv',index_col = 0)\n",
      "lessonsB = pd.read_csv('Documents/grades/lessonsB.csv',index_col = 0)\n",
      "quizzesA2 = pd.read_csv('Documents/grades/quizzesA2.csv',index_col = 0)\n",
      "quizzesB2 = pd.read_csv('Documents/grades/quizzesB2.csv',index_col = 0)\n",
      "testsA = pd.read_csv('Documents/grades/testsA.csv',index_col = 0)\n",
      "testsB = pd.read_csv('Documents/grades/testsB.csv',index_col = 0)\n",
      "MaxScore = pd.read_csv('Documents/grades/MaxScore.csv',header= None,index_col = 0)\n",
      "weights = pd.read_csv('Documents/grades/weights.csv',header= None,index_col = 0,squeeze=True)"
     ],
     "language": "python",
     "metadata": {},
     "outputs": [],
     "prompt_number": 1
    },
    {
     "cell_type": "code",
     "collapsed": false,
     "input": [
      "testsA.describe()"
     ],
     "language": "python",
     "metadata": {},
     "outputs": [
      {
       "html": [
        "<div style=\"max-height:1000px;max-width:1500px;overflow:auto;\">\n",
        "<table border=\"1\" class=\"dataframe\">\n",
        "  <thead>\n",
        "    <tr style=\"text-align: right;\">\n",
        "      <th></th>\n",
        "      <th>T1</th>\n",
        "      <th>T2</th>\n",
        "      <th>T3</th>\n",
        "    </tr>\n",
        "  </thead>\n",
        "  <tbody>\n",
        "    <tr>\n",
        "      <th>count</th>\n",
        "      <td> 20.000000</td>\n",
        "      <td> 20.000000</td>\n",
        "      <td> 20.000000</td>\n",
        "    </tr>\n",
        "    <tr>\n",
        "      <th>mean</th>\n",
        "      <td> 35.450000</td>\n",
        "      <td> 27.600000</td>\n",
        "      <td> 28.600000</td>\n",
        "    </tr>\n",
        "    <tr>\n",
        "      <th>std</th>\n",
        "      <td>  4.260899</td>\n",
        "      <td>  6.628487</td>\n",
        "      <td>  6.908424</td>\n",
        "    </tr>\n",
        "    <tr>\n",
        "      <th>min</th>\n",
        "      <td> 24.000000</td>\n",
        "      <td> 14.000000</td>\n",
        "      <td> 15.000000</td>\n",
        "    </tr>\n",
        "    <tr>\n",
        "      <th>25%</th>\n",
        "      <td> 34.500000</td>\n",
        "      <td> 23.500000</td>\n",
        "      <td> 23.500000</td>\n",
        "    </tr>\n",
        "    <tr>\n",
        "      <th>50%</th>\n",
        "      <td> 37.000000</td>\n",
        "      <td> 28.000000</td>\n",
        "      <td> 31.000000</td>\n",
        "    </tr>\n",
        "    <tr>\n",
        "      <th>75%</th>\n",
        "      <td> 38.000000</td>\n",
        "      <td> 33.000000</td>\n",
        "      <td> 34.000000</td>\n",
        "    </tr>\n",
        "    <tr>\n",
        "      <th>max</th>\n",
        "      <td> 40.000000</td>\n",
        "      <td> 39.000000</td>\n",
        "      <td> 38.000000</td>\n",
        "    </tr>\n",
        "  </tbody>\n",
        "</table>\n",
        "</div>"
       ],
       "metadata": {},
       "output_type": "pyout",
       "prompt_number": 2,
       "text": [
        "              T1         T2         T3\n",
        "count  20.000000  20.000000  20.000000\n",
        "mean   35.450000  27.600000  28.600000\n",
        "std     4.260899   6.628487   6.908424\n",
        "min    24.000000  14.000000  15.000000\n",
        "25%    34.500000  23.500000  23.500000\n",
        "50%    37.000000  28.000000  31.000000\n",
        "75%    38.000000  33.000000  34.000000\n",
        "max    40.000000  39.000000  38.000000"
       ]
      }
     ],
     "prompt_number": 2
    },
    {
     "cell_type": "code",
     "collapsed": false,
     "input": [
      "(100*testsA/40.0).mean(axis=1).describe()"
     ],
     "language": "python",
     "metadata": {},
     "outputs": [
      {
       "metadata": {},
       "output_type": "pyout",
       "prompt_number": 3,
       "text": [
        "count    20.000000\n",
        "mean     76.375000\n",
        "std      11.720661\n",
        "min      50.833333\n",
        "25%      68.125000\n",
        "50%      77.083333\n",
        "75%      85.625000\n",
        "max      94.166667\n",
        "dtype: float64"
       ]
      }
     ],
     "prompt_number": 3
    },
    {
     "cell_type": "code",
     "collapsed": false,
     "input": [],
     "language": "python",
     "metadata": {},
     "outputs": []
    }
   ],
   "metadata": {}
  }
 ]
}