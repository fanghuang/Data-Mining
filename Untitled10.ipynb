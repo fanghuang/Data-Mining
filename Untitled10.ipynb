{
 "metadata": {
  "name": ""
 },
 "nbformat": 3,
 "nbformat_minor": 0,
 "worksheets": [
  {
   "cells": [
    {
     "cell_type": "code",
     "collapsed": false,
     "input": [
      "for i in range(k):\n",
      "            C[i,:] = X[clusters==i,:].mean(axis = 0)\n",
      "        iter = iter +1\n",
      "        err = np.abs(C-CO).max()\n",
      "        CO = C.copy()"
     ],
     "language": "python",
     "metadata": {},
     "outputs": []
    }
   ],
   "metadata": {}
  }
 ]
}