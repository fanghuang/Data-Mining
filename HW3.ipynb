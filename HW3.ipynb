{
 "metadata": {
  "name": ""
 },
 "nbformat": 3,
 "nbformat_minor": 0,
 "worksheets": [
  {
   "cells": [
    {
     "cell_type": "code",
     "collapsed": false,
     "input": [
      "import pandas as pd\n",
      "Towed_Vehicles = pd.read_csv('Downloads/Towed_Vehicles.csv')\n",
      "Towed_Vehicles"
     ],
     "language": "python",
     "metadata": {},
     "outputs": [
      {
       "html": [
        "<pre>\n",
        "&lt;class 'pandas.core.frame.DataFrame'&gt;\n",
        "Int64Index: 5465 entries, 0 to 5464\n",
        "Data columns (total 10 columns):\n",
        "Tow Date              5465  non-null values\n",
        "Make                  5424  non-null values\n",
        "Style                 5441  non-null values\n",
        "Model                 1077  non-null values\n",
        "Color                 5389  non-null values\n",
        "Plate                 4820  non-null values\n",
        "State                 5410  non-null values\n",
        "Towed to Address      5465  non-null values\n",
        "Tow Facility Phone    5458  non-null values\n",
        "Inventory Number      5465  non-null values\n",
        "dtypes: int64(1), object(9)\n",
        "</pre>"
       ],
       "metadata": {},
       "output_type": "pyout",
       "prompt_number": 2,
       "text": [
        "<class 'pandas.core.frame.DataFrame'>\n",
        "Int64Index: 5465 entries, 0 to 5464\n",
        "Data columns (total 10 columns):\n",
        "Tow Date              5465  non-null values\n",
        "Make                  5424  non-null values\n",
        "Style                 5441  non-null values\n",
        "Model                 1077  non-null values\n",
        "Color                 5389  non-null values\n",
        "Plate                 4820  non-null values\n",
        "State                 5410  non-null values\n",
        "Towed to Address      5465  non-null values\n",
        "Tow Facility Phone    5458  non-null values\n",
        "Inventory Number      5465  non-null values\n",
        "dtypes: int64(1), object(9)"
       ]
      }
     ],
     "prompt_number": 2
    },
    {
     "cell_type": "code",
     "collapsed": false,
     "input": [
      "Towed_Vehicles['State'].value_counts().idxmax()"
     ],
     "language": "python",
     "metadata": {},
     "outputs": [
      {
       "metadata": {},
       "output_type": "pyout",
       "prompt_number": 3,
       "text": [
        "'IL'"
       ]
      }
     ],
     "prompt_number": 3
    },
    {
     "cell_type": "code",
     "collapsed": false,
     "input": [
      "Towed_Vehicles['Tow Date'].value_counts().idxmax()"
     ],
     "language": "python",
     "metadata": {},
     "outputs": [
      {
       "metadata": {},
       "output_type": "pyout",
       "prompt_number": 4,
       "text": [
        "'10/05/2013'"
       ]
      }
     ],
     "prompt_number": 4
    },
    {
     "cell_type": "code",
     "collapsed": false,
     "input": [
      "Number_of_Towed = Towed_Vehicles['Tow Date'].value_counts()"
     ],
     "language": "python",
     "metadata": {},
     "outputs": [],
     "prompt_number": 5
    },
    {
     "cell_type": "code",
     "collapsed": false,
     "input": [
      "Number_of_Towed.head(5)"
     ],
     "language": "python",
     "metadata": {},
     "outputs": [
      {
       "metadata": {},
       "output_type": "pyout",
       "prompt_number": 6,
       "text": [
        "10/05/2013    179\n",
        "10/04/2013    151\n",
        "10/02/2013    150\n",
        "10/03/2013    128\n",
        "09/28/2013    118\n",
        "dtype: int64"
       ]
      }
     ],
     "prompt_number": 6
    },
    {
     "cell_type": "code",
     "collapsed": false,
     "input": [
      "Number_of_Towed.tail(5)"
     ],
     "language": "python",
     "metadata": {},
     "outputs": [
      {
       "metadata": {},
       "output_type": "pyout",
       "prompt_number": 7,
       "text": [
        "07/30/2013    23\n",
        "07/15/2013    22\n",
        "07/28/2013    21\n",
        "07/22/2013    21\n",
        "07/08/2013    16\n",
        "dtype: int64"
       ]
      }
     ],
     "prompt_number": 7
    },
    {
     "cell_type": "code",
     "collapsed": false,
     "input": [
      "Towed_Vehicles.Plate.value_counts()"
     ],
     "language": "python",
     "metadata": {},
     "outputs": [
      {
       "metadata": {},
       "output_type": "pyout",
       "prompt_number": 8,
       "text": [
        "K729542    11\n",
        "N915946     7\n",
        "K549380     6\n",
        "K717936     5\n",
        "N221207     4\n",
        "5985135     2\n",
        "R689907     2\n",
        "N617153     2\n",
        "P335796     2\n",
        "N569609     2\n",
        "R612234     1\n",
        "N757323     1\n",
        "R441777     1\n",
        "707P203     1\n",
        "P340897     1\n",
        "...\n",
        "859102     1\n",
        "N755326    1\n",
        "R209234    1\n",
        "806EF      1\n",
        "2159951    1\n",
        "N579264    1\n",
        "L349931    1\n",
        "N812711    1\n",
        "CJH1602    1\n",
        "P630383    1\n",
        "1029548    1\n",
        "N786498    1\n",
        "R133763    1\n",
        "123TXV     1\n",
        "R907265    1\n",
        "Length: 4787, dtype: int64"
       ]
      }
     ],
     "prompt_number": 8
    },
    {
     "cell_type": "code",
     "collapsed": false,
     "input": [],
     "language": "python",
     "metadata": {},
     "outputs": [],
     "prompt_number": 8
    }
   ],
   "metadata": {}
  }
 ]
}