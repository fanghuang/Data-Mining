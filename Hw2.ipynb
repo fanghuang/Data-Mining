{
 "metadata": {
  "name": ""
 },
 "nbformat": 3,
 "nbformat_minor": 0,
 "worksheets": [
  {
   "cells": [
    {
     "cell_type": "code",
     "collapsed": false,
     "input": [
      "import pandas as pd\n",
      "finalA = pd.read_csv('Documents/grades/finalA.csv',index_col = 0)\n",
      "finalB = pd.read_csv('Documents/grades/finalB.csv',index_col = 0)\n",
      "homeworkA = pd.read_csv('Documents/grades/homeworkA.csv',index_col = 0)\n",
      "homeworkB = pd.read_csv('Documents/grades/homeworkB.csv',index_col = 0)\n",
      "lessonsA = pd.read_csv('Documents/grades/lessonsA.csv',index_col = 0)\n",
      "lessonsB = pd.read_csv('Documents/grades/lessonsB.csv',index_col = 0)\n",
      "quizzesA2 = pd.read_csv('Documents/grades/quizzesA2.csv',index_col = 0)\n",
      "quizzesB2 = pd.read_csv('Documents/grades/quizzesB2.csv',index_col = 0)\n",
      "testsA = pd.read_csv('Documents/grades/testsA.csv',index_col = 0)\n",
      "testsB = pd.read_csv('Documents/grades/testsB.csv',index_col = 0)\n",
      "MaxScore = pd.read_csv('Documents/grades/MaxScore.csv',header= None,index_col = 0)\n",
      "weights = pd.read_csv('Documents/grades/weights.csv',header= None,index_col = 0,squeeze=True)"
     ],
     "language": "python",
     "metadata": {},
     "outputs": [],
     "prompt_number": 76
    },
    {
     "cell_type": "code",
     "collapsed": false,
     "input": [
      "fAmean = finalA.mean(axis=1)\n",
      "fBmean = finalB.mean(axis=1)\n",
      "hAmean = homeworkA.mean(axis=1)\n",
      "hBmean = homeworkB.mean(axis=1)\n",
      "lAmean = lessonsA.mean(axis=1)\n",
      "lBmean = lessonsB.mean(axis=1)\n",
      "qAmean = quizzesA2.mean(axis=1)\n",
      "qBmean = quizzesB2.mean(axis=1)\n",
      "tAmean = testsA.mean(axis=1)\n",
      "tBmean = testsB.mean(axis=1)\n",
      "maxmean = MaxScore.mean(axis=1)\n",
      "weightmean = weights.mean(axis=1)\n",
      "maxmean"
     ],
     "language": "python",
     "metadata": {},
     "outputs": [
      {
       "metadata": {},
       "output_type": "pyout",
       "prompt_number": 77,
       "text": [
        "0\n",
        "T1     40\n",
        "T2     40\n",
        "T3     40\n",
        "F1     25\n",
        "F2     46\n",
        "L1     10\n",
        "L2     10\n",
        "L3     10\n",
        "L4     10\n",
        "L5      5\n",
        "L6     10\n",
        "Q1     10\n",
        "Q2     10\n",
        "Q3     10\n",
        "Q4     10\n",
        "Q5      5\n",
        "Q6     10\n",
        "H1     20\n",
        "H2     42\n",
        "H3     40\n",
        "H4     24\n",
        "H5     33\n",
        "H6     30\n",
        "H7     29\n",
        "H8     19\n",
        "H9     21\n",
        "H10    38\n",
        "H11    30\n",
        "H12    36\n",
        "H13    32\n",
        "H14    10\n",
        "H15    39\n",
        "dtype: float64"
       ]
      }
     ],
     "prompt_number": 77
    },
    {
     "cell_type": "code",
     "collapsed": false,
     "input": [
      "lAweighted = lAmean * weights['lessons']\n",
      "lBweighted = lBmean * weights['lessons']\n",
      "qAweighted = qAmean * weights['quizzes']\n",
      "qBweighted = qBmean * weights['quizzes']\n",
      "hAweighted = hAmean * weights['homework']\n",
      "hBweighted = hBmean * weights['homework']\n",
      "tAweighted = tAmean * weights['tests']\n",
      "tBweighted = tBmean * weights['tests']\n",
      "fAweighted = fAmean * weights['final']\n",
      "fBweighted = fBmean * weights['final']"
     ],
     "language": "python",
     "metadata": {},
     "outputs": [],
     "prompt_number": 78
    },
    {
     "cell_type": "code",
     "collapsed": false,
     "input": [
      "sum (lAweighted+qAweighted+hAweighted+tAweighted+fAweighted)"
     ],
     "language": "python",
     "metadata": {},
     "outputs": [
      {
       "metadata": {},
       "output_type": "pyout",
       "prompt_number": 79,
       "text": [
        "505.41784340659336"
       ]
      }
     ],
     "prompt_number": 79
    },
    {
     "cell_type": "code",
     "collapsed": false,
     "input": [],
     "language": "python",
     "metadata": {},
     "outputs": [
      {
       "metadata": {},
       "output_type": "pyout",
       "prompt_number": 62,
       "text": [
        "0.45000000000000001"
       ]
      }
     ],
     "prompt_number": 62
    },
    {
     "cell_type": "code",
     "collapsed": false,
     "input": [
      "AcourseAve = "
     ],
     "language": "python",
     "metadata": {},
     "outputs": []
    }
   ],
   "metadata": {}
  }
 ]
}