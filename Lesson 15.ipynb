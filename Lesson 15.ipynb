{
 "metadata": {
  "name": ""
 },
 "nbformat": 3,
 "nbformat_minor": 0,
 "worksheets": [
  {
   "cells": [
    {
     "cell_type": "code",
     "collapsed": false,
     "input": [
      "# kmeans.py\n",
      "\n",
      "import numpy as np\n",
      "import pylab as pl\n",
      "\n",
      "def DistSqr (X, C):\n",
      "    m = X.shape[0]\n",
      "    n = C.shape[0]\n",
      "    D2 = np.zeros((m,n))\n",
      "    for i in np.arange(2):\n",
      "        DX = np.tile(X[:,i],(n,1))\n",
      "        DC = np.tile(C[:,i],(m,1))\n",
      "        D = DX.T - DC\n",
      "        D2 = D2 + D*D\n",
      "    return D2"
     ],
     "language": "python",
     "metadata": {},
     "outputs": [],
     "prompt_number": 1
    },
    {
     "cell_type": "code",
     "collapsed": false,
     "input": [
      "def kmeans(X, k, tol, itermax):\n",
      "    # select centroids\n",
      "    minimum = X.min(axis = 0)\n",
      "    maximum = X.max(axis = 0)\n",
      "    cx = np.random.uniform(low=minimum[0],high=maximum[0],size=k)\n",
      "    cy = np.random.uniform(low=minimum[1],high=maximum[1],size=k)\n",
      "    C = np.array([cx,cy]).T\n",
      "    \n",
      "    iter = 0\n",
      "    err = tol\n",
      "    CO = C.copy()\n",
      "    while (iter <= itermax) & (err >= tol):\n",
      "        D2 = DistSqr(X,C)\n",
      "        clusters = D2.argmin(axis=1)\n",
      "        for i in range(k):\n",
      "            C[i,:] = X[clusters==i,:].mean(axis=0)\n",
      "        iter=iter+1\n",
      "        err = abs(C-CO).max()\n",
      "        CO = C.copy()\n",
      "            \n",
      "    return clusters, iter"
     ],
     "language": "python",
     "metadata": {},
     "outputs": [],
     "prompt_number": 2
    },
    {
     "cell_type": "code",
     "collapsed": false,
     "input": [
      "X = np.random.rand(1000,2)\n",
      "k = 2\n",
      "tol = 0.0001\n",
      "itermax = 100\n",
      "\n",
      "clusters, iter =  kmeans(X,k,tol,itermax)\n",
      "print iter\n",
      "pl.scatter(X[:,0],X[:,1],c=clusters,s=100)\n",
      "pl.show()"
     ],
     "language": "python",
     "metadata": {},
     "outputs": [
      {
       "output_type": "stream",
       "stream": "stdout",
       "text": [
        "18\n"
       ]
      }
     ],
     "prompt_number": 3
    },
    {
     "cell_type": "code",
     "collapsed": false,
     "input": [],
     "language": "python",
     "metadata": {},
     "outputs": [],
     "prompt_number": 3
    },
    {
     "cell_type": "code",
     "collapsed": false,
     "input": [],
     "language": "python",
     "metadata": {},
     "outputs": [],
     "prompt_number": 3
    }
   ],
   "metadata": {}
  }
 ]
}