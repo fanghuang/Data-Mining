{
 "metadata": {
  "name": ""
 },
 "nbformat": 3,
 "nbformat_minor": 0,
 "worksheets": [
  {
   "cells": [
    {
     "cell_type": "code",
     "collapsed": false,
     "input": [
      "import random\n",
      "import matplotlib.pyplot as plt\n",
      "#starting point\n",
      "plt.scatter(0,0)\n",
      "#food source\n",
      "plt.scatter(100,0)\n",
      "#bear knows the food always on the right\n",
      "position = 0\n",
      "walk = [position]\n",
      "#random wind up and down\n",
      "for i in range(100):\n",
      "    step = random.randint(-10, 10)\n",
      "    position += step\n",
      "    walk.append(position)\n",
      "    \n",
      "plt.plot(walk)\n",
      "plt.show()"
     ],
     "language": "python",
     "metadata": {},
     "outputs": [],
     "prompt_number": 19
    },
    {
     "cell_type": "code",
     "collapsed": false,
     "input": [],
     "language": "python",
     "metadata": {},
     "outputs": [],
     "prompt_number": 13
    },
    {
     "cell_type": "code",
     "collapsed": false,
     "input": [],
     "language": "python",
     "metadata": {},
     "outputs": []
    }
   ],
   "metadata": {}
  }
 ]
}