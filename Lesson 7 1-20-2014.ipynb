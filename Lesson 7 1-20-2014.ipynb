{
 "metadata": {
  "name": ""
 },
 "nbformat": 3,
 "nbformat_minor": 0,
 "worksheets": [
  {
   "cells": [
    {
     "cell_type": "code",
     "collapsed": false,
     "input": [
      "import numpy as np\n",
      "%pylab inline"
     ],
     "language": "python",
     "metadata": {},
     "outputs": [
      {
       "output_type": "stream",
       "stream": "stdout",
       "text": [
        "Populating the interactive namespace from numpy and matplotlib\n"
       ]
      },
      {
       "output_type": "stream",
       "stream": "stderr",
       "text": [
        "WARNING: pylab import has clobbered these variables: ['clf']\n",
        "`%pylab --no-import-all` prevents importing * from pylab and numpy\n"
       ]
      }
     ],
     "prompt_number": 309
    },
    {
     "cell_type": "code",
     "collapsed": false,
     "input": [
      "np.random.permutation(10)"
     ],
     "language": "python",
     "metadata": {},
     "outputs": [
      {
       "metadata": {},
       "output_type": "pyout",
       "prompt_number": 310,
       "text": [
        "array([7, 8, 2, 9, 5, 4, 1, 6, 3, 0])"
       ]
      }
     ],
     "prompt_number": 310
    },
    {
     "cell_type": "code",
     "collapsed": false,
     "input": [
      "from sklearn import datasets"
     ],
     "language": "python",
     "metadata": {},
     "outputs": [],
     "prompt_number": 311
    },
    {
     "cell_type": "code",
     "collapsed": false,
     "input": [
      "iris = datasets.load_iris()"
     ],
     "language": "python",
     "metadata": {},
     "outputs": [],
     "prompt_number": 312
    },
    {
     "cell_type": "code",
     "collapsed": false,
     "input": [
      "iris.data.shape"
     ],
     "language": "python",
     "metadata": {},
     "outputs": [
      {
       "metadata": {},
       "output_type": "pyout",
       "prompt_number": 313,
       "text": [
        "(150, 4)"
       ]
      }
     ],
     "prompt_number": 313
    },
    {
     "cell_type": "code",
     "collapsed": false,
     "input": [
      "iris.target.shape"
     ],
     "language": "python",
     "metadata": {},
     "outputs": [
      {
       "metadata": {},
       "output_type": "pyout",
       "prompt_number": 314,
       "text": [
        "(150,)"
       ]
      }
     ],
     "prompt_number": 314
    },
    {
     "cell_type": "code",
     "collapsed": false,
     "input": [
      "idx = np.random.permutation(150)"
     ],
     "language": "python",
     "metadata": {},
     "outputs": [],
     "prompt_number": 315
    },
    {
     "cell_type": "code",
     "collapsed": false,
     "input": [
      "idx"
     ],
     "language": "python",
     "metadata": {},
     "outputs": [
      {
       "metadata": {},
       "output_type": "pyout",
       "prompt_number": 316,
       "text": [
        "array([ 12,  61,  85,  18, 101,  68,  10, 139,  94,  78, 145, 137,  89,\n",
        "         3,  95, 115,  92, 147,   0,  81, 127,  29, 120,  80,  83,  63,\n",
        "        57, 133, 136, 121,  38, 113,  51, 104,  59,  27,  41, 112,  40,\n",
        "        96,  52, 148,  56,  45, 119, 122,  16,  20,   7,  31,  72, 129,\n",
        "       117, 106, 111,  33, 109,  48, 143, 110,  44, 126,  24,  77,  79,\n",
        "        54,  13,  62, 108,   2,  66,  22,  15,  43,  65, 128, 146,  93,\n",
        "        82,  67, 149,  25,  34,  39,  74,  87,  30,  23,  46, 107,  90,\n",
        "        35, 118,  32,  64,  14,   9,  60,  84, 135,   6, 103,  97, 105,\n",
        "        17,  86,  21, 142, 114,  58,  37,  99, 123,  70,   5,  36, 100,\n",
        "       124,  73, 116, 141,  11,  19,   1,  55, 144, 132,  88,  71,  26,\n",
        "       131,  91,   8, 134,  76, 102, 125, 130, 138,  98,  28,   4,  49,\n",
        "        42,  53,  50, 140,  69,  75,  47])"
       ]
      }
     ],
     "prompt_number": 316
    },
    {
     "cell_type": "code",
     "collapsed": false,
     "input": [
      "idx[:100]"
     ],
     "language": "python",
     "metadata": {},
     "outputs": [
      {
       "metadata": {},
       "output_type": "pyout",
       "prompt_number": 317,
       "text": [
        "array([ 12,  61,  85,  18, 101,  68,  10, 139,  94,  78, 145, 137,  89,\n",
        "         3,  95, 115,  92, 147,   0,  81, 127,  29, 120,  80,  83,  63,\n",
        "        57, 133, 136, 121,  38, 113,  51, 104,  59,  27,  41, 112,  40,\n",
        "        96,  52, 148,  56,  45, 119, 122,  16,  20,   7,  31,  72, 129,\n",
        "       117, 106, 111,  33, 109,  48, 143, 110,  44, 126,  24,  77,  79,\n",
        "        54,  13,  62, 108,   2,  66,  22,  15,  43,  65, 128, 146,  93,\n",
        "        82,  67, 149,  25,  34,  39,  74,  87,  30,  23,  46, 107,  90,\n",
        "        35, 118,  32,  64,  14,   9,  60,  84, 135])"
       ]
      }
     ],
     "prompt_number": 317
    },
    {
     "cell_type": "code",
     "collapsed": false,
     "input": [
      "data_train = iris.data[idx[:100],:]\n",
      "data_train.shape"
     ],
     "language": "python",
     "metadata": {},
     "outputs": [
      {
       "metadata": {},
       "output_type": "pyout",
       "prompt_number": 318,
       "text": [
        "(100, 4)"
       ]
      }
     ],
     "prompt_number": 318
    },
    {
     "cell_type": "code",
     "collapsed": false,
     "input": [
      "target_train = iris.target[idx[:100],:]"
     ],
     "language": "python",
     "metadata": {},
     "outputs": [],
     "prompt_number": 319
    },
    {
     "cell_type": "code",
     "collapsed": false,
     "input": [
      "data_test = iris.data[idx[100:]]\n",
      "data_test.shape"
     ],
     "language": "python",
     "metadata": {},
     "outputs": [
      {
       "metadata": {},
       "output_type": "pyout",
       "prompt_number": 320,
       "text": [
        "(50, 4)"
       ]
      }
     ],
     "prompt_number": 320
    },
    {
     "cell_type": "code",
     "collapsed": false,
     "input": [
      "target_test = iris.target[idx[100:]]"
     ],
     "language": "python",
     "metadata": {},
     "outputs": [],
     "prompt_number": 321
    },
    {
     "cell_type": "code",
     "collapsed": false,
     "input": [
      "from sklearn import tree"
     ],
     "language": "python",
     "metadata": {},
     "outputs": [],
     "prompt_number": 322
    },
    {
     "cell_type": "code",
     "collapsed": false,
     "input": [
      "clf = tree.DecisionTreeClassifier()"
     ],
     "language": "python",
     "metadata": {},
     "outputs": [],
     "prompt_number": 323
    },
    {
     "cell_type": "code",
     "collapsed": false,
     "input": [
      "#clf.fit(data_train, target_train)\n",
      "#clf = clf.fit(target_train)\n",
      "#clf.predict()\n",
      "target_test"
     ],
     "language": "python",
     "metadata": {},
     "outputs": [
      {
       "metadata": {},
       "output_type": "pyout",
       "prompt_number": 324,
       "text": [
        "array([0, 2, 1, 2, 0, 1, 0, 2, 2, 1, 0, 1, 2, 1, 0, 0, 2, 2, 1, 2, 2, 0, 0,\n",
        "       0, 1, 2, 2, 1, 1, 0, 2, 1, 0, 2, 1, 2, 2, 2, 2, 1, 0, 0, 0, 0, 1, 1,\n",
        "       2, 1, 1, 0])"
       ]
      }
     ],
     "prompt_number": 324
    },
    {
     "cell_type": "code",
     "collapsed": false,
     "input": [
      "clf = clf.fit(data_train[:,0:2], target_train)\n",
      "clf.predict(data_train[:,0:2])"
     ],
     "language": "python",
     "metadata": {},
     "outputs": [
      {
       "metadata": {},
       "output_type": "pyout",
       "prompt_number": 325,
       "text": [
        "array([0, 1, 1, 0, 1, 1, 0, 1, 1, 1, 1, 2, 1, 0, 1, 1, 1, 2, 0, 1, 2, 0, 2,\n",
        "       1, 1, 1, 1, 2, 2, 2, 0, 2, 1, 2, 1, 0, 0, 2, 0, 1, 1, 2, 1, 0, 1, 2,\n",
        "       0, 0, 0, 0, 1, 2, 2, 2, 2, 0, 2, 0, 2, 2, 0, 2, 0, 1, 1, 1, 0, 1, 2,\n",
        "       0, 1, 0, 0, 0, 1, 2, 1, 1, 1, 1, 1, 0, 0, 0, 1, 1, 0, 0, 0, 2, 1, 0,\n",
        "       2, 0, 1, 0, 0, 1, 1, 2])"
       ]
      }
     ],
     "prompt_number": 325
    },
    {
     "cell_type": "code",
     "collapsed": false,
     "input": [
      "100.0 * np.sum(clf.predict(data_train[:,0:2])!=target_train)/len(target_train)"
     ],
     "language": "python",
     "metadata": {},
     "outputs": [
      {
       "metadata": {},
       "output_type": "pyout",
       "prompt_number": 326,
       "text": [
        "7.0"
       ]
      }
     ],
     "prompt_number": 326
    },
    {
     "cell_type": "code",
     "collapsed": false,
     "input": [
      "#clf = clf.fit(data_test[], target_test)\n",
      "#clf.predict(data_test)"
     ],
     "language": "python",
     "metadata": {},
     "outputs": [],
     "prompt_number": 327
    },
    {
     "cell_type": "code",
     "collapsed": false,
     "input": [
      "100.0 * np.sum(clf.predict(data_test[:,0:2])!=target_test)/len(target_test)"
     ],
     "language": "python",
     "metadata": {},
     "outputs": [
      {
       "metadata": {},
       "output_type": "pyout",
       "prompt_number": 328,
       "text": [
        "38.0"
       ]
      }
     ],
     "prompt_number": 328
    },
    {
     "cell_type": "code",
     "collapsed": false,
     "input": [
      "arrayA = []\n",
      "for i in range(2, 101):\n",
      "    clf = tree.DecisionTreeClassifier(min_samples_split = i)\n",
      "    clf = clf.fit(data_train[:,0:2], target_train)\n",
      "    clf.predict(data_test[:,0:2])\n",
      "    x = 100.0 * np.sum(clf.predict(data_test[:,0:2])!=target_test)/len(target_test)\n",
      "    arrayA.append(x)"
     ],
     "language": "python",
     "metadata": {},
     "outputs": [],
     "prompt_number": 329
    },
    {
     "cell_type": "code",
     "collapsed": false,
     "input": [
      "print arrayA"
     ],
     "language": "python",
     "metadata": {},
     "outputs": [
      {
       "output_type": "stream",
       "stream": "stdout",
       "text": [
        "[38.0, 36.0, 34.0, 34.0, 34.0, 32.0, 30.0, 32.0, 32.0, 34.0, 34.0, 34.0, 34.0, 34.0, 34.0, 34.0, 34.0, 34.0, 32.0, 32.0, 32.0, 32.0, 32.0, 32.0, 32.0, 26.0, 26.0, 26.0, 26.0, 26.0, 26.0, 26.0, 26.0, 26.0, 26.0, 28.0, 28.0, 28.0, 28.0, 28.0, 28.0, 28.0, 28.0, 28.0, 28.0, 28.0, 28.0, 28.0, 28.0, 28.0, 28.0, 28.0, 28.0, 28.0, 28.0, 28.0, 28.0, 28.0, 28.0, 28.0, 28.0, 28.0, 28.0, 34.0, 34.0, 34.0, 34.0, 34.0, 34.0, 34.0, 34.0, 34.0, 34.0, 34.0, 34.0, 34.0, 34.0, 34.0, 34.0, 34.0, 34.0, 34.0, 34.0, 34.0, 34.0, 34.0, 34.0, 34.0, 34.0, 34.0, 34.0, 34.0, 34.0, 34.0, 34.0, 34.0, 34.0, 34.0, 34.0]\n"
       ]
      }
     ],
     "prompt_number": 330
    },
    {
     "cell_type": "code",
     "collapsed": false,
     "input": [
      "plot(arrayA)"
     ],
     "language": "python",
     "metadata": {},
     "outputs": [
      {
       "metadata": {},
       "output_type": "pyout",
       "prompt_number": 331,
       "text": [
        "[<matplotlib.lines.Line2D at 0x631a850>]"
       ]
      },
      {
       "metadata": {},
       "output_type": "display_data",
       "png": "[encoded data removed]",
       "text": [
        "<matplotlib.figure.Figure at 0x6035ed0>"
       ]
      }
     ],
     "prompt_number": 331
    },
    {
     "cell_type": "code",
     "collapsed": false,
     "input": [
      "arrayB = []\n",
      "for i in range(2, 101):\n",
      "    clf = tree.DecisionTreeClassifier(min_samples_split = i)\n",
      "    clf = clf.fit(data_train[:,0:2], target_train)\n",
      "    clf.predict(data_train[:,0:2])\n",
      "    x = 100.0 * np.sum(clf.predict(data_train[:,0:2])!=target_train)/len(target_train)\n",
      "    arrayB.append(x)"
     ],
     "language": "python",
     "metadata": {},
     "outputs": [],
     "prompt_number": 332
    },
    {
     "cell_type": "code",
     "collapsed": false,
     "input": [
      "print arrayB"
     ],
     "language": "python",
     "metadata": {},
     "outputs": [
      {
       "output_type": "stream",
       "stream": "stdout",
       "text": [
        "[7.0, 9.0, 9.0, 9.0, 10.0, 11.0, 12.0, 13.0, 13.0, 15.0, 15.0, 15.0, 15.0, 15.0, 15.0, 15.0, 15.0, 15.0, 16.0, 16.0, 16.0, 16.0, 16.0, 16.0, 16.0, 17.0, 21.0, 21.0, 21.0, 21.0, 21.0, 21.0, 21.0, 21.0, 21.0, 24.0, 26.0, 26.0, 26.0, 26.0, 26.0, 26.0, 26.0, 26.0, 26.0, 26.0, 26.0, 26.0, 26.0, 26.0, 26.0, 26.0, 26.0, 26.0, 26.0, 26.0, 26.0, 26.0, 26.0, 26.0, 26.0, 26.0, 26.0, 39.0, 39.0, 39.0, 39.0, 39.0, 39.0, 39.0, 39.0, 39.0, 39.0, 39.0, 39.0, 39.0, 39.0, 39.0, 39.0, 39.0, 39.0, 39.0, 39.0, 39.0, 39.0, 39.0, 39.0, 39.0, 39.0, 39.0, 39.0, 39.0, 39.0, 39.0, 39.0, 39.0, 39.0, 39.0, 39.0]\n"
       ]
      }
     ],
     "prompt_number": 333
    },
    {
     "cell_type": "code",
     "collapsed": false,
     "input": [
      "plot(arrayB)"
     ],
     "language": "python",
     "metadata": {},
     "outputs": [
      {
       "metadata": {},
       "output_type": "pyout",
       "prompt_number": 334,
       "text": [
        "[<matplotlib.lines.Line2D at 0x638e1d0>]"
       ]
      },
      {
       "metadata": {},
       "output_type": "display_data",
       "png": "[encoded data removed]",
       "text": [
        "<matplotlib.figure.Figure at 0x6301e90>"
       ]
      }
     ],
     "prompt_number": 334
    },
    {
     "cell_type": "code",
     "collapsed": false,
     "input": [
      "ww = add(arrayA,arrayB)\n",
      "ww"
     ],
     "language": "python",
     "metadata": {},
     "outputs": [
      {
       "metadata": {},
       "output_type": "pyout",
       "prompt_number": 335,
       "text": [
        "array([ 45.,  45.,  43.,  43.,  44.,  43.,  42.,  45.,  45.,  49.,  49.,\n",
        "        49.,  49.,  49.,  49.,  49.,  49.,  49.,  48.,  48.,  48.,  48.,\n",
        "        48.,  48.,  48.,  43.,  47.,  47.,  47.,  47.,  47.,  47.,  47.,\n",
        "        47.,  47.,  52.,  54.,  54.,  54.,  54.,  54.,  54.,  54.,  54.,\n",
        "        54.,  54.,  54.,  54.,  54.,  54.,  54.,  54.,  54.,  54.,  54.,\n",
        "        54.,  54.,  54.,  54.,  54.,  54.,  54.,  54.,  73.,  73.,  73.,\n",
        "        73.,  73.,  73.,  73.,  73.,  73.,  73.,  73.,  73.,  73.,  73.,\n",
        "        73.,  73.,  73.,  73.,  73.,  73.,  73.,  73.,  73.,  73.,  73.,\n",
        "        73.,  73.,  73.,  73.,  73.,  73.,  73.,  73.,  73.,  73.,  73.])"
       ]
      }
     ],
     "prompt_number": 335
    },
    {
     "cell_type": "code",
     "collapsed": false,
     "input": [
      "argmin(ww)"
     ],
     "language": "python",
     "metadata": {},
     "outputs": [
      {
       "metadata": {},
       "output_type": "pyout",
       "prompt_number": 336,
       "text": [
        "6"
       ]
      }
     ],
     "prompt_number": 336
    },
    {
     "cell_type": "code",
     "collapsed": false,
     "input": [],
     "language": "python",
     "metadata": {},
     "outputs": [],
     "prompt_number": 336
    }
   ],
   "metadata": {}
  }
 ]
}