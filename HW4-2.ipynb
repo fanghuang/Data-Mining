{
 "metadata": {
  "name": ""
 },
 "nbformat": 3,
 "nbformat_minor": 0,
 "worksheets": [
  {
   "cells": [
    {
     "cell_type": "code",
     "collapsed": false,
     "input": [
      "import pandas as pd\n",
      "import matplotlib.pyplot as plt\n",
      "crime = pd.read_csv('Crimes_-_2001_to_present.csv')\n",
      "crime"
     ],
     "language": "python",
     "metadata": {},
     "outputs": [
      {
       "html": [
        "<pre>\n",
        "&lt;class 'pandas.core.frame.DataFrame'&gt;\n",
        "Int64Index: 5351512 entries, 0 to 5351511\n",
        "Columns: 22 entries, ID to Location\n",
        "dtypes: bool(2), float64(5), int64(3), object(12)\n",
        "</pre>"
       ],
       "metadata": {},
       "output_type": "pyout",
       "prompt_number": 3,
       "text": [
        "<class 'pandas.core.frame.DataFrame'>\n",
        "Int64Index: 5351512 entries, 0 to 5351511\n",
        "Columns: 22 entries, ID to Location\n",
        "dtypes: bool(2), float64(5), int64(3), object(12)"
       ]
      }
     ],
     "prompt_number": 3
    },
    {
     "cell_type": "code",
     "collapsed": false,
     "input": [
      "from pylab import *\n",
      "figure(3, figsize=(4,4))\n",
      "axes([0.1, 0.1, 0.8, 0.8])"
     ],
     "language": "python",
     "metadata": {},
     "outputs": [
      {
       "metadata": {},
       "output_type": "pyout",
       "prompt_number": 4,
       "text": [
        "<matplotlib.axes.Axes at 0x4804d90>"
       ]
      }
     ],
     "prompt_number": 4
    },
    {
     "cell_type": "code",
     "collapsed": false,
     "input": [
      "crime['Date']"
     ],
     "language": "python",
     "metadata": {},
     "outputs": [
      {
       "metadata": {},
       "output_type": "pyout",
       "prompt_number": 7,
       "text": [
        "0     09/28/2013 05:00:00 AM\n",
        "1     09/28/2013 05:00:00 AM\n",
        "2     09/28/2013 03:20:00 AM\n",
        "3     09/28/2013 03:00:00 AM\n",
        "4     09/28/2013 03:00:00 AM\n",
        "5     09/28/2013 02:32:00 AM\n",
        "6     09/28/2013 02:30:00 AM\n",
        "7     09/28/2013 02:28:00 AM\n",
        "8     09/28/2013 02:25:00 AM\n",
        "9     09/28/2013 02:12:00 AM\n",
        "10    09/28/2013 02:00:00 AM\n",
        "11    09/28/2013 01:20:00 AM\n",
        "12    09/28/2013 01:00:00 AM\n",
        "13    09/28/2013 01:00:00 AM\n",
        "14    09/28/2013 01:00:00 AM\n",
        "...\n",
        "5351497    01/01/2001 12:00:00 AM\n",
        "5351498    01/01/2001 12:00:00 AM\n",
        "5351499    01/01/2001 12:00:00 AM\n",
        "5351500    01/01/2001 12:00:00 AM\n",
        "5351501    01/01/2001 12:00:00 AM\n",
        "5351502    01/01/2001 12:00:00 AM\n",
        "5351503    01/01/2001 12:00:00 AM\n",
        "5351504    01/01/2001 12:00:00 AM\n",
        "5351505    01/01/2001 12:00:00 AM\n",
        "5351506    01/01/2001 12:00:00 AM\n",
        "5351507    01/01/2001 12:00:00 AM\n",
        "5351508    01/01/2001 12:00:00 AM\n",
        "5351509    01/01/2001 12:00:00 AM\n",
        "5351510    01/01/2001 12:00:00 AM\n",
        "5351511    01/01/2001 12:00:00 AM\n",
        "Name: Date, Length: 5351512, dtype: object"
       ]
      }
     ],
     "prompt_number": 7
    },
    {
     "cell_type": "code",
     "collapsed": false,
     "input": [
      "crime['Date'].value_counts()"
     ],
     "language": "python",
     "metadata": {},
     "outputs": [
      {
       "metadata": {},
       "output_type": "pyout",
       "prompt_number": 11,
       "text": [
        "01/01/2008 12:01:00 AM    264\n",
        "01/01/2007 12:01:00 AM    225\n",
        "01/01/2006 12:01:00 AM    208\n",
        "01/01/2003 12:01:00 AM    204\n",
        "01/01/2004 12:00:00 AM    200\n",
        "01/01/2005 12:01:00 AM    191\n",
        "01/01/2003 12:00:00 AM    191\n",
        "01/01/2007 12:00:00 AM    177\n",
        "01/01/2005 12:00:00 AM    166\n",
        "01/01/2008 12:00:00 AM    166\n",
        "01/01/2004 12:01:00 AM    162\n",
        "01/01/2002 12:01:00 AM    161\n",
        "01/01/2009 12:01:00 AM    158\n",
        "01/01/2006 12:00:00 AM    154\n",
        "01/01/2002 12:00:00 AM    152\n",
        "...\n",
        "11/22/2008 12:35:00 AM    1\n",
        "07/02/2009 03:06:48 PM    1\n",
        "10/04/2001 04:10:00 AM    1\n",
        "10/11/2004 09:05:00 PM    1\n",
        "05/23/2002 03:35:46 PM    1\n",
        "12/25/2004 07:35:00 PM    1\n",
        "07/10/2006 10:34:00 PM    1\n",
        "07/07/2007 04:15:00 PM    1\n",
        "09/19/2005 06:45:05 PM    1\n",
        "07/30/2010 01:29:00 AM    1\n",
        "06/24/2001 03:39:31 PM    1\n",
        "06/18/2010 12:11:42 PM    1\n",
        "03/02/2007 04:22:03 PM    1\n",
        "03/30/2003 06:05:58 AM    1\n",
        "06/23/2007 02:36:09 AM    1\n",
        "Length: 2106236, dtype: int64"
       ]
      }
     ],
     "prompt_number": 11
    },
    {
     "cell_type": "code",
     "collapsed": false,
     "input": [
      "a=crime['Location Description'].value_counts()\n",
      "a"
     ],
     "language": "python",
     "metadata": {},
     "outputs": [
      {
       "metadata": {},
       "output_type": "pyout",
       "prompt_number": 12,
       "text": [
        "STREET                            1456547\n",
        "RESIDENCE                          910055\n",
        "SIDEWALK                           534146\n",
        "APARTMENT                          518394\n",
        "OTHER                              199355\n",
        "PARKING LOT/GARAGE(NON.RESID.)     153462\n",
        "ALLEY                              122479\n",
        "SCHOOL, PUBLIC, BUILDING           120904\n",
        "RESIDENCE-GARAGE                   108066\n",
        "RESIDENCE PORCH/HALLWAY             93708\n",
        "SMALL RETAIL STORE                  87668\n",
        "VEHICLE NON-COMMERCIAL              83492\n",
        "RESTAURANT                          75406\n",
        "GROCERY FOOD STORE                  70841\n",
        "DEPARTMENT STORE                    61477\n",
        "...\n",
        "PUBLIC HIGH SCHOOL        2\n",
        "COUNTY JAIL               2\n",
        "CHURCH PROPERTY           2\n",
        "FACTORY                   2\n",
        "LIVERY AUTO               1\n",
        "ROOMING HOUSE             1\n",
        "CTA  L  PLATFORM          1\n",
        "TRUCKING TERMINAL         1\n",
        "BANQUET HALL              1\n",
        "LAUNDRY ROOM              1\n",
        "CTA \"L\" TRAIN             1\n",
        "JUNK YARD/GARBAGE DUMP    1\n",
        "LOADING DOCK              1\n",
        "FUNERAL PARLOR            1\n",
        "PUBLIC GRAMMAR SCHOOL     1\n",
        "Length: 163, dtype: int64"
       ]
      }
     ],
     "prompt_number": 12
    },
    {
     "cell_type": "code",
     "collapsed": false,
     "input": [
      "array=[]\n",
      "for i in range(a.size):\n",
      "    b=a.index[i];\n",
      "    array.append(b)\n",
      "print array\n"
     ],
     "language": "python",
     "metadata": {},
     "outputs": [
      {
       "output_type": "stream",
       "stream": "stdout",
       "text": [
        "['STREET', 'RESIDENCE', 'SIDEWALK', 'APARTMENT', 'OTHER', 'PARKING LOT/GARAGE(NON.RESID.)', 'ALLEY', 'SCHOOL, PUBLIC, BUILDING', 'RESIDENCE-GARAGE', 'RESIDENCE PORCH/HALLWAY', 'SMALL RETAIL STORE', 'VEHICLE NON-COMMERCIAL', 'RESTAURANT', 'GROCERY FOOD STORE', 'DEPARTMENT STORE', 'GAS STATION', 'CHA PARKING LOT/GROUNDS', 'RESIDENTIAL YARD (FRONT/BACK)', 'PARK PROPERTY', 'COMMERCIAL / BUSINESS OFFICE', 'CHA APARTMENT', 'CTA PLATFORM', 'BAR OR TAVERN', 'DRUG STORE', 'CHA HALLWAY/STAIRWELL/ELEVATOR', 'SCHOOL, PUBLIC, GROUNDS', 'BANK', 'HOTEL/MOTEL', 'TAVERN/LIQUOR STORE', 'VACANT LOT/LAND', 'CTA BUS', 'CTA TRAIN', 'DRIVEWAY - RESIDENTIAL', 'AIRPORT/AIRCRAFT', 'HOSPITAL BUILDING/GROUNDS', 'POLICE FACILITY/VEH PARKING LOT', 'CHURCH/SYNAGOGUE/PLACE OF WORSHIP', 'GOVERNMENT BUILDING/PROPERTY', 'CONSTRUCTION SITE', 'SCHOOL, PRIVATE, BUILDING', 'NURSING HOME/RETIREMENT HOME', 'ABANDONED BUILDING', 'CURRENCY EXCHANGE', 'CTA GARAGE / OTHER PROPERTY', 'CONVENIENCE STORE', 'WAREHOUSE', 'BARBERSHOP', 'FACTORY/MANUFACTURING BUILDING', 'MEDICAL/DENTAL OFFICE', 'ATHLETIC CLUB', 'ATM (AUTOMATIC TELLER MACHINE)', 'TAXICAB', 'COLLEGE/UNIVERSITY GROUNDS', 'OTHER RAILROAD PROP / TRAIN DEPOT', 'LIBRARY', 'CLEANING STORE', 'VEHICLE-COMMERCIAL', 'SPORTS ARENA/STADIUM', 'SCHOOL, PRIVATE, GROUNDS', 'CTA BUS STOP', 'OTHER COMMERCIAL TRANSPORTATION', 'CAR WASH', 'MOVIE HOUSE/THEATER', 'DAY CARE CENTER', 'AIRPORT TERMINAL UPPER LEVEL - SECURE AREA', 'APPLIANCE STORE', 'COLLEGE/UNIVERSITY RESIDENCE HALL', 'DELIVERY TRUCK', 'COIN OPERATED MACHINE', 'AUTO', 'FIRE STATION', 'HIGHWAY/EXPRESSWAY', 'LAKEFRONT/WATERFRONT/RIVERBANK', 'AIRPORT TERMINAL LOWER LEVEL - NON-SECURE AREA', 'JAIL / LOCK-UP FACILITY', 'FEDERAL BUILDING', 'POOL ROOM', 'BOWLING ALLEY', 'BOAT/WATERCRAFT', 'ANIMAL HOSPITAL', 'CREDIT UNION', 'HOUSE', 'FOREST PRESERVE', 'AIRPORT EXTERIOR - NON-SECURE AREA', 'AIRPORT BUILDING NON-TERMINAL - NON-SECURE AREA', 'SAVINGS AND LOAN', 'AIRPORT TERMINAL UPPER LEVEL - NON-SECURE AREA', 'PAWN SHOP', 'CEMETARY', 'AIRPORT PARKING LOT', 'BRIDGE', 'AIRPORT TERMINAL LOWER LEVEL - SECURE AREA', 'NEWSSTAND', 'AIRPORT VENDING ESTABLISHMENT', 'PORCH', 'AIRCRAFT', 'AIRPORT BUILDING NON-TERMINAL - SECURE AREA', 'YARD', 'PARKING LOT', 'AIRPORT EXTERIOR - SECURE AREA', 'VACANT LOT', 'HALLWAY', 'RETAIL STORE', 'GANGWAY', 'GARAGE', 'CHA GROUNDS', 'GAS STATION DRIVE/PROP.', 'CHA HALLWAY', 'AIRPORT TRANSPORTATION SYSTEM (ATS)', 'AIRPORT TERMINAL MEZZANINE - NON-SECURE AREA', 'CHA PARKING LOT', 'BASEMENT', 'TAVERN', 'HOTEL', 'CLUB', 'STAIRWELL', 'VESTIBULE', 'OFFICE', 'RAILROAD PROPERTY', 'BARBER SHOP/BEAUTY SALON', 'DRIVEWAY', 'CHA STAIRWELL', 'GARAGE/AUTO REPAIR', 'SCHOOL YARD', 'TRUCK', 'DUMPSTER', 'TAXI CAB', 'CHA LOBBY', 'WOODED AREA', 'MOTEL', 'LIQUOR STORE', 'CHURCH', 'RIVER', 'LAKE', 'CHA BREEZEWAY', 'HOSPITAL', 'CHA PLAY LOT', 'TRAILER', 'COACH HOUSE', 'NURSING HOME', 'CTA PROPERTY', 'CHA ELEVATOR', 'SEWER', 'LIVERY STAND OFFICE', 'CTA \"L\" PLATFORM', 'RIVER BANK', 'PRAIRIE', 'YMCA', 'PUBLIC HIGH SCHOOL', 'COUNTY JAIL', 'CHURCH PROPERTY', 'FACTORY', 'LIVERY AUTO', 'ROOMING HOUSE', 'CTA  L  PLATFORM', 'TRUCKING TERMINAL', 'BANQUET HALL', 'LAUNDRY ROOM', 'CTA \"L\" TRAIN', 'JUNK YARD/GARBAGE DUMP', 'LOADING DOCK', 'FUNERAL PARLOR', 'PUBLIC GRAMMAR SCHOOL']\n"
       ]
      }
     ],
     "prompt_number": 31
    },
    {
     "cell_type": "code",
     "collapsed": false,
     "input": [
      "pie(a,labels=array)\n",
      "show()"
     ],
     "language": "python",
     "metadata": {},
     "outputs": [],
     "prompt_number": 33
    },
    {
     "cell_type": "code",
     "collapsed": false,
     "input": [
      "crime['Description'].value_counts()"
     ],
     "language": "python",
     "metadata": {},
     "outputs": [
      {
       "metadata": {},
       "output_type": "pyout",
       "prompt_number": 34,
       "text": [
        "SIMPLE                          651333\n",
        "DOMESTIC BATTERY SIMPLE         394688\n",
        "$300 AND UNDER                  336404\n",
        "TO VEHICLE                      301098\n",
        "TO PROPERTY                     285453\n",
        "POSS: CANNABIS 30GMS OR LESS    243023\n",
        "OVER $300                       229325\n",
        "FORCIBLE ENTRY                  219846\n",
        "AUTOMOBILE                      199737\n",
        "FROM BUILDING                   178925\n",
        "RETAIL THEFT                    119272\n",
        "TELEPHONE THREAT                113123\n",
        "POSS: CRACK                     110888\n",
        "TO LAND                          98936\n",
        "HARASSMENT BY TELEPHONE          85291\n",
        "...\n",
        "USE OF METAL PIERCING BULLETS                   3\n",
        "AGG RIT MUT: HANDS/FIST/FEET NO/MINOR INJURY    3\n",
        "ALTER COINS                                     3\n",
        "REGISTER FED GAMBLING STAMP                     2\n",
        "NATIONAL LOTTERY                                2\n",
        "MARRYING A BIGAMIST                             2\n",
        "ATTEMPT AGG: OTHER FIREARM                      2\n",
        "NOTIFICATION OF CIVIL NO CONTACT ORDER          2\n",
        "SPORTS TAMPERING                                1\n",
        "DOMESTIC VIOLENCE                               1\n",
        "FOID - REVOCATION                               1\n",
        "DISCLOSE DV VICTIM LOCATION                     1\n",
        "FOUND PASSPORT                                  1\n",
        "KEEP PLACE OF JUV PROSTITUTION                  1\n",
        "LOTTERY/PARI-MUTUEL                             1\n",
        "Length: 359, dtype: int64"
       ]
      }
     ],
     "prompt_number": 34
    },
    {
     "cell_type": "code",
     "collapsed": false,
     "input": [
      "crime['Primary Type'].value_counts()"
     ],
     "language": "python",
     "metadata": {},
     "outputs": [
      {
       "metadata": {},
       "output_type": "pyout",
       "prompt_number": 35,
       "text": [
        "THEFT                               1091432\n",
        "BATTERY                              982034\n",
        "CRIMINAL DAMAGE                      623137\n",
        "NARCOTICS                            612539\n",
        "OTHER OFFENSE                        330119\n",
        "ASSAULT                              322722\n",
        "BURGLARY                             317294\n",
        "MOTOR VEHICLE THEFT                  259428\n",
        "ROBBERY                              200414\n",
        "DECEPTIVE PRACTICE                   170196\n",
        "CRIMINAL TRESPASS                    158292\n",
        "PROSTITUTION                          62846\n",
        "WEAPONS VIOLATION                     50502\n",
        "PUBLIC PEACE VIOLATION                37429\n",
        "OFFENSE INVOLVING CHILDREN            32278\n",
        "SEX OFFENSE                           19570\n",
        "CRIM SEXUAL ASSAULT                   18895\n",
        "GAMBLING                              13042\n",
        "LIQUOR LAW VIOLATION                  12601\n",
        "ARSON                                  8930\n",
        "HOMICIDE                               6434\n",
        "INTERFERE WITH PUBLIC OFFICER          6172\n",
        "KIDNAPPING                             5689\n",
        "INTIMIDATION                           3255\n",
        "INTERFERENCE WITH PUBLIC OFFICER       2827\n",
        "STALKING                               2486\n",
        "OFFENSES INVOLVING CHILDREN             439\n",
        "OBSCENITY                               266\n",
        "PUBLIC INDECENCY                        104\n",
        "OTHER NARCOTIC VIOLATION                 91\n",
        "RITUALISM                                23\n",
        "NON-CRIMINAL                             17\n",
        "OTHER OFFENSE                             5\n",
        "NON-CRIMINAL (SUBJECT SPECIFIED)          2\n",
        "NON - CRIMINAL                            1\n",
        "DOMESTIC VIOLENCE                         1\n",
        "dtype: int64"
       ]
      }
     ],
     "prompt_number": 35
    },
    {
     "cell_type": "code",
     "collapsed": false,
     "input": [],
     "language": "python",
     "metadata": {},
     "outputs": [],
     "prompt_number": 35
    },
    {
     "cell_type": "code",
     "collapsed": false,
     "input": [],
     "language": "python",
     "metadata": {},
     "outputs": []
    }
   ],
   "metadata": {}
  }
 ]
}