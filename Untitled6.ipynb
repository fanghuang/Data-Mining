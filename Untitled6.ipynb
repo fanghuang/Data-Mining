{
 "metadata": {
  "name": ""
 },
 "nbformat": 3,
 "nbformat_minor": 0,
 "worksheets": [
  {
   "cells": [
    {
     "cell_type": "code",
     "collapsed": false,
     "input": [
      "import random\n",
      "import matplotlib.pyplot as plt\n",
      "import numpy as np\n",
      "\n",
      "plt.scatter(0,0)\n",
      "plt.scatter(1000,1000)\n",
      "\n",
      "x=0\n",
      "y=0\n",
      "for i in range(100):\n",
      "    xstep = np.random.rand(10)*100\n",
      "    ystep = np.random.rand(10)*100\n",
      "    x += xstep\n",
      "    y += ystep\n",
      "    \n",
      "    x = xstep.cumsum()\n",
      "    y = ystep.cumsum()\n",
      "    \n",
      "plt.plot(x,y)\n",
      "plt.show()"
     ],
     "language": "python",
     "metadata": {},
     "outputs": [],
     "prompt_number": 20
    },
    {
     "cell_type": "code",
     "collapsed": false,
     "input": [
      "np.random.rand(10)*10"
     ],
     "language": "python",
     "metadata": {},
     "outputs": [
      {
       "metadata": {},
       "output_type": "pyout",
       "prompt_number": 18,
       "text": [
        "array([ 6.58397486,  5.32992929,  9.59098599,  3.13896978,  0.05534116,\n",
        "        0.70027183,  2.47375433,  6.29127612,  7.16172847,  2.3717947 ])"
       ]
      }
     ],
     "prompt_number": 18
    },
    {
     "cell_type": "code",
     "collapsed": false,
     "input": [],
     "language": "python",
     "metadata": {},
     "outputs": []
    }
   ],
   "metadata": {}
  }
 ]
}