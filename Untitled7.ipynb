{
 "metadata": {
  "name": ""
 },
 "nbformat": 3,
 "nbformat_minor": 0,
 "worksheets": [
  {
   "cells": [
    {
     "cell_type": "code",
     "collapsed": false,
     "input": [
      "run \"Downloads/grades.py\""
     ],
     "language": "python",
     "metadata": {},
     "outputs": [
      {
       "output_type": "stream",
       "stream": "stdout",
       "text": [
        "quizzes\n",
        "     Q1  Q2  Q3  Q4\n",
        "Bob  60  64  69  65\n",
        "Jim  52  57  59  55\n",
        "Kim  70  75  77  73\n",
        "Sue  90  93  97  95\n",
        "Tom  81  82  84  88\n",
        "\n",
        "lessons\n",
        "     L1  L2  L3  L4\n",
        "Bob  61  67  68  62\n",
        "Jim  56  54  52  53\n",
        "Kim  71  76  72  78\n",
        "Sue  91  92  93  97\n",
        "Tom  80  89  87  89\n",
        "\n",
        "tests\n",
        "     T1  T2  T3\n",
        "Bob  67  63  65\n",
        "Jim  52  51  58\n",
        "Kim  70  74  73\n",
        "Sue  98  97  92\n",
        "Tom  81  86  83\n",
        "\n",
        "weights\n",
        "lessons    0.3\n",
        "quizzes    0.3\n",
        "tests      0.4\n",
        "dtype: float64\n",
        "\n",
        "ID\n",
        "1290    Kim\n",
        "3331    Tom\n",
        "4915    Bob\n",
        "5567    Sue\n",
        "6518    Jim\n",
        "dtype: object\n",
        "\n",
        "year\n",
        "1290    sophomore\n",
        "3331     freshman\n",
        "4915    sophomore\n",
        "5567    sophomore\n",
        "6518     freshman\n",
        "dtype: object\n",
        "\n",
        "major\n",
        "1290    computer science\n",
        "3331    computer science\n",
        "4915    computer science\n",
        "5567         mathematics\n",
        "6518         mathematics\n",
        "dtype: object\n",
        "\n"
       ]
      }
     ],
     "prompt_number": 6
    },
    {
     "cell_type": "code",
     "collapsed": false,
     "input": [
      "weights['tests']"
     ],
     "language": "python",
     "metadata": {},
     "outputs": [
      {
       "metadata": {},
       "output_type": "pyout",
       "prompt_number": 7,
       "text": [
        "0.40000000000000002"
       ]
      }
     ],
     "prompt_number": 7
    },
    {
     "cell_type": "code",
     "collapsed": false,
     "input": [
      "weights[weights==0.3]"
     ],
     "language": "python",
     "metadata": {},
     "outputs": [
      {
       "metadata": {},
       "output_type": "pyout",
       "prompt_number": 8,
       "text": [
        "lessons    0.3\n",
        "quizzes    0.3\n",
        "dtype: float64"
       ]
      }
     ],
     "prompt_number": 8
    },
    {
     "cell_type": "code",
     "collapsed": false,
     "input": [
      "quizzes[['Q1','Q3']]"
     ],
     "language": "python",
     "metadata": {},
     "outputs": [
      {
       "html": [
        "<div style=\"max-height:1000px;max-width:1500px;overflow:auto;\">\n",
        "<table border=\"1\" class=\"dataframe\">\n",
        "  <thead>\n",
        "    <tr style=\"text-align: right;\">\n",
        "      <th></th>\n",
        "      <th>Q1</th>\n",
        "      <th>Q3</th>\n",
        "    </tr>\n",
        "  </thead>\n",
        "  <tbody>\n",
        "    <tr>\n",
        "      <th>Bob</th>\n",
        "      <td> 60</td>\n",
        "      <td> 69</td>\n",
        "    </tr>\n",
        "    <tr>\n",
        "      <th>Jim</th>\n",
        "      <td> 52</td>\n",
        "      <td> 59</td>\n",
        "    </tr>\n",
        "    <tr>\n",
        "      <th>Kim</th>\n",
        "      <td> 70</td>\n",
        "      <td> 77</td>\n",
        "    </tr>\n",
        "    <tr>\n",
        "      <th>Sue</th>\n",
        "      <td> 90</td>\n",
        "      <td> 97</td>\n",
        "    </tr>\n",
        "    <tr>\n",
        "      <th>Tom</th>\n",
        "      <td> 81</td>\n",
        "      <td> 84</td>\n",
        "    </tr>\n",
        "  </tbody>\n",
        "</table>\n",
        "</div>"
       ],
       "metadata": {},
       "output_type": "pyout",
       "prompt_number": 9,
       "text": [
        "     Q1  Q3\n",
        "Bob  60  69\n",
        "Jim  52  59\n",
        "Kim  70  77\n",
        "Sue  90  97\n",
        "Tom  81  84"
       ]
      }
     ],
     "prompt_number": 9
    },
    {
     "cell_type": "code",
     "collapsed": false,
     "input": [
      "quizzes.ix[:,'Q1':'Q3']"
     ],
     "language": "python",
     "metadata": {},
     "outputs": [
      {
       "html": [
        "<div style=\"max-height:1000px;max-width:1500px;overflow:auto;\">\n",
        "<table border=\"1\" class=\"dataframe\">\n",
        "  <thead>\n",
        "    <tr style=\"text-align: right;\">\n",
        "      <th></th>\n",
        "      <th>Q1</th>\n",
        "      <th>Q2</th>\n",
        "      <th>Q3</th>\n",
        "    </tr>\n",
        "  </thead>\n",
        "  <tbody>\n",
        "    <tr>\n",
        "      <th>Bob</th>\n",
        "      <td> 60</td>\n",
        "      <td> 64</td>\n",
        "      <td> 69</td>\n",
        "    </tr>\n",
        "    <tr>\n",
        "      <th>Jim</th>\n",
        "      <td> 52</td>\n",
        "      <td> 57</td>\n",
        "      <td> 59</td>\n",
        "    </tr>\n",
        "    <tr>\n",
        "      <th>Kim</th>\n",
        "      <td> 70</td>\n",
        "      <td> 75</td>\n",
        "      <td> 77</td>\n",
        "    </tr>\n",
        "    <tr>\n",
        "      <th>Sue</th>\n",
        "      <td> 90</td>\n",
        "      <td> 93</td>\n",
        "      <td> 97</td>\n",
        "    </tr>\n",
        "    <tr>\n",
        "      <th>Tom</th>\n",
        "      <td> 81</td>\n",
        "      <td> 82</td>\n",
        "      <td> 84</td>\n",
        "    </tr>\n",
        "  </tbody>\n",
        "</table>\n",
        "</div>"
       ],
       "metadata": {},
       "output_type": "pyout",
       "prompt_number": 14,
       "text": [
        "     Q1  Q2  Q3\n",
        "Bob  60  64  69\n",
        "Jim  52  57  59\n",
        "Kim  70  75  77\n",
        "Sue  90  93  97\n",
        "Tom  81  82  84"
       ]
      }
     ],
     "prompt_number": 14
    },
    {
     "cell_type": "code",
     "collapsed": false,
     "input": [
      "quizzes.Q1"
     ],
     "language": "python",
     "metadata": {},
     "outputs": [
      {
       "metadata": {},
       "output_type": "pyout",
       "prompt_number": 15,
       "text": [
        "Bob    60\n",
        "Jim    52\n",
        "Kim    70\n",
        "Sue    90\n",
        "Tom    81\n",
        "Name: Q1, dtype: int64"
       ]
      }
     ],
     "prompt_number": 15
    },
    {
     "cell_type": "code",
     "collapsed": false,
     "input": [
      "quizzes.Q3"
     ],
     "language": "python",
     "metadata": {},
     "outputs": [
      {
       "metadata": {},
       "output_type": "pyout",
       "prompt_number": 16,
       "text": [
        "Bob    69\n",
        "Jim    59\n",
        "Kim    77\n",
        "Sue    97\n",
        "Tom    84\n",
        "Name: Q3, dtype: int64"
       ]
      }
     ],
     "prompt_number": 16
    },
    {
     "cell_type": "code",
     "collapsed": false,
     "input": [
      "quizzes.ix['Sue','Q2']=99"
     ],
     "language": "python",
     "metadata": {},
     "outputs": [],
     "prompt_number": 19
    },
    {
     "cell_type": "code",
     "collapsed": false,
     "input": [
      "quizzes.ix['Sue',:]"
     ],
     "language": "python",
     "metadata": {},
     "outputs": [
      {
       "metadata": {},
       "output_type": "pyout",
       "prompt_number": 20,
       "text": [
        "Q1    90\n",
        "Q2    99\n",
        "Q3    97\n",
        "Q4    95\n",
        "Name: Sue, dtype: int64"
       ]
      }
     ],
     "prompt_number": 20
    },
    {
     "cell_type": "code",
     "collapsed": false,
     "input": [
      "tests.T2"
     ],
     "language": "python",
     "metadata": {},
     "outputs": [
      {
       "metadata": {},
       "output_type": "pyout",
       "prompt_number": 21,
       "text": [
        "Bob    63\n",
        "Jim    51\n",
        "Kim    74\n",
        "Sue    97\n",
        "Tom    86\n",
        "Name: T2, dtype: int64"
       ]
      }
     ],
     "prompt_number": 21
    },
    {
     "cell_type": "code",
     "collapsed": false,
     "input": [
      "tests.T2 > 70"
     ],
     "language": "python",
     "metadata": {},
     "outputs": [
      {
       "metadata": {},
       "output_type": "pyout",
       "prompt_number": 22,
       "text": [
        "Bob    False\n",
        "Jim    False\n",
        "Kim     True\n",
        "Sue     True\n",
        "Tom     True\n",
        "Name: T2, dtype: bool"
       ]
      }
     ],
     "prompt_number": 22
    },
    {
     "cell_type": "code",
     "collapsed": false,
     "input": [
      "tests"
     ],
     "language": "python",
     "metadata": {},
     "outputs": [
      {
       "html": [
        "<div style=\"max-height:1000px;max-width:1500px;overflow:auto;\">\n",
        "<table border=\"1\" class=\"dataframe\">\n",
        "  <thead>\n",
        "    <tr style=\"text-align: right;\">\n",
        "      <th></th>\n",
        "      <th>T1</th>\n",
        "      <th>T2</th>\n",
        "      <th>T3</th>\n",
        "    </tr>\n",
        "  </thead>\n",
        "  <tbody>\n",
        "    <tr>\n",
        "      <th>Bob</th>\n",
        "      <td> 67</td>\n",
        "      <td> 63</td>\n",
        "      <td> 65</td>\n",
        "    </tr>\n",
        "    <tr>\n",
        "      <th>Jim</th>\n",
        "      <td> 52</td>\n",
        "      <td> 51</td>\n",
        "      <td> 58</td>\n",
        "    </tr>\n",
        "    <tr>\n",
        "      <th>Kim</th>\n",
        "      <td> 70</td>\n",
        "      <td> 74</td>\n",
        "      <td> 73</td>\n",
        "    </tr>\n",
        "    <tr>\n",
        "      <th>Sue</th>\n",
        "      <td> 98</td>\n",
        "      <td> 97</td>\n",
        "      <td> 92</td>\n",
        "    </tr>\n",
        "    <tr>\n",
        "      <th>Tom</th>\n",
        "      <td> 81</td>\n",
        "      <td> 86</td>\n",
        "      <td> 83</td>\n",
        "    </tr>\n",
        "  </tbody>\n",
        "</table>\n",
        "</div>"
       ],
       "metadata": {},
       "output_type": "pyout",
       "prompt_number": 24,
       "text": [
        "     T1  T2  T3\n",
        "Bob  67  63  65\n",
        "Jim  52  51  58\n",
        "Kim  70  74  73\n",
        "Sue  98  97  92\n",
        "Tom  81  86  83"
       ]
      }
     ],
     "prompt_number": 24
    },
    {
     "cell_type": "code",
     "collapsed": false,
     "input": [
      "test4 = Series({'Kim':75,'Bob':62,'Jim':57,'Sam':100})"
     ],
     "language": "python",
     "metadata": {},
     "outputs": [],
     "prompt_number": 27
    },
    {
     "cell_type": "code",
     "collapsed": false,
     "input": [
      "tests['T4']=test4"
     ],
     "language": "python",
     "metadata": {},
     "outputs": [],
     "prompt_number": 28
    },
    {
     "cell_type": "code",
     "collapsed": false,
     "input": [
      "tests"
     ],
     "language": "python",
     "metadata": {},
     "outputs": [
      {
       "html": [
        "<div style=\"max-height:1000px;max-width:1500px;overflow:auto;\">\n",
        "<table border=\"1\" class=\"dataframe\">\n",
        "  <thead>\n",
        "    <tr style=\"text-align: right;\">\n",
        "      <th></th>\n",
        "      <th>T1</th>\n",
        "      <th>T2</th>\n",
        "      <th>T3</th>\n",
        "      <th>T4</th>\n",
        "    </tr>\n",
        "  </thead>\n",
        "  <tbody>\n",
        "    <tr>\n",
        "      <th>Bob</th>\n",
        "      <td> 67</td>\n",
        "      <td> 63</td>\n",
        "      <td> 65</td>\n",
        "      <td> 62</td>\n",
        "    </tr>\n",
        "    <tr>\n",
        "      <th>Jim</th>\n",
        "      <td> 52</td>\n",
        "      <td> 51</td>\n",
        "      <td> 58</td>\n",
        "      <td> 57</td>\n",
        "    </tr>\n",
        "    <tr>\n",
        "      <th>Kim</th>\n",
        "      <td> 70</td>\n",
        "      <td> 74</td>\n",
        "      <td> 73</td>\n",
        "      <td> 75</td>\n",
        "    </tr>\n",
        "    <tr>\n",
        "      <th>Sue</th>\n",
        "      <td> 98</td>\n",
        "      <td> 97</td>\n",
        "      <td> 92</td>\n",
        "      <td>NaN</td>\n",
        "    </tr>\n",
        "    <tr>\n",
        "      <th>Tom</th>\n",
        "      <td> 81</td>\n",
        "      <td> 86</td>\n",
        "      <td> 83</td>\n",
        "      <td>NaN</td>\n",
        "    </tr>\n",
        "  </tbody>\n",
        "</table>\n",
        "</div>"
       ],
       "metadata": {},
       "output_type": "pyout",
       "prompt_number": 30,
       "text": [
        "     T1  T2  T3  T4\n",
        "Bob  67  63  65  62\n",
        "Jim  52  51  58  57\n",
        "Kim  70  74  73  75\n",
        "Sue  98  97  92 NaN\n",
        "Tom  81  86  83 NaN"
       ]
      }
     ],
     "prompt_number": 30
    },
    {
     "cell_type": "code",
     "collapsed": false,
     "input": [
      "test4"
     ],
     "language": "python",
     "metadata": {},
     "outputs": [
      {
       "metadata": {},
       "output_type": "pyout",
       "prompt_number": 31,
       "text": [
        "Bob     62\n",
        "Jim     57\n",
        "Kim     75\n",
        "Sam    100\n",
        "dtype: int64"
       ]
      }
     ],
     "prompt_number": 31
    },
    {
     "cell_type": "code",
     "collapsed": false,
     "input": [
      "BobTests = tests.ix['Bob']"
     ],
     "language": "python",
     "metadata": {},
     "outputs": [],
     "prompt_number": 33
    },
    {
     "cell_type": "code",
     "collapsed": false,
     "input": [
      "BobTests"
     ],
     "language": "python",
     "metadata": {},
     "outputs": [
      {
       "metadata": {},
       "output_type": "pyout",
       "prompt_number": 34,
       "text": [
        "T1    67\n",
        "T2    63\n",
        "T3    65\n",
        "T4    62\n",
        "Name: Bob, dtype: float64"
       ]
      }
     ],
     "prompt_number": 34
    },
    {
     "cell_type": "code",
     "collapsed": false,
     "input": [
      "tests - BobTests"
     ],
     "language": "python",
     "metadata": {},
     "outputs": [
      {
       "html": [
        "<div style=\"max-height:1000px;max-width:1500px;overflow:auto;\">\n",
        "<table border=\"1\" class=\"dataframe\">\n",
        "  <thead>\n",
        "    <tr style=\"text-align: right;\">\n",
        "      <th></th>\n",
        "      <th>T1</th>\n",
        "      <th>T2</th>\n",
        "      <th>T3</th>\n",
        "      <th>T4</th>\n",
        "    </tr>\n",
        "  </thead>\n",
        "  <tbody>\n",
        "    <tr>\n",
        "      <th>Bob</th>\n",
        "      <td>  0</td>\n",
        "      <td>  0</td>\n",
        "      <td>  0</td>\n",
        "      <td>  0</td>\n",
        "    </tr>\n",
        "    <tr>\n",
        "      <th>Jim</th>\n",
        "      <td>-15</td>\n",
        "      <td>-12</td>\n",
        "      <td> -7</td>\n",
        "      <td> -5</td>\n",
        "    </tr>\n",
        "    <tr>\n",
        "      <th>Kim</th>\n",
        "      <td>  3</td>\n",
        "      <td> 11</td>\n",
        "      <td>  8</td>\n",
        "      <td> 13</td>\n",
        "    </tr>\n",
        "    <tr>\n",
        "      <th>Sue</th>\n",
        "      <td> 31</td>\n",
        "      <td> 34</td>\n",
        "      <td> 27</td>\n",
        "      <td>NaN</td>\n",
        "    </tr>\n",
        "    <tr>\n",
        "      <th>Tom</th>\n",
        "      <td> 14</td>\n",
        "      <td> 23</td>\n",
        "      <td> 18</td>\n",
        "      <td>NaN</td>\n",
        "    </tr>\n",
        "  </tbody>\n",
        "</table>\n",
        "</div>"
       ],
       "metadata": {},
       "output_type": "pyout",
       "prompt_number": 35,
       "text": [
        "     T1  T2  T3  T4\n",
        "Bob   0   0   0   0\n",
        "Jim -15 -12  -7  -5\n",
        "Kim   3  11   8  13\n",
        "Sue  31  34  27 NaN\n",
        "Tom  14  23  18 NaN"
       ]
      }
     ],
     "prompt_number": 35
    },
    {
     "cell_type": "code",
     "collapsed": false,
     "input": [
      "tests.sub(tests.T1,axis=0)"
     ],
     "language": "python",
     "metadata": {},
     "outputs": [
      {
       "html": [
        "<div style=\"max-height:1000px;max-width:1500px;overflow:auto;\">\n",
        "<table border=\"1\" class=\"dataframe\">\n",
        "  <thead>\n",
        "    <tr style=\"text-align: right;\">\n",
        "      <th></th>\n",
        "      <th>T1</th>\n",
        "      <th>T2</th>\n",
        "      <th>T3</th>\n",
        "      <th>T4</th>\n",
        "    </tr>\n",
        "  </thead>\n",
        "  <tbody>\n",
        "    <tr>\n",
        "      <th>Bob</th>\n",
        "      <td> 0</td>\n",
        "      <td>-4</td>\n",
        "      <td>-2</td>\n",
        "      <td> -5</td>\n",
        "    </tr>\n",
        "    <tr>\n",
        "      <th>Jim</th>\n",
        "      <td> 0</td>\n",
        "      <td>-1</td>\n",
        "      <td> 6</td>\n",
        "      <td>  5</td>\n",
        "    </tr>\n",
        "    <tr>\n",
        "      <th>Kim</th>\n",
        "      <td> 0</td>\n",
        "      <td> 4</td>\n",
        "      <td> 3</td>\n",
        "      <td>  5</td>\n",
        "    </tr>\n",
        "    <tr>\n",
        "      <th>Sue</th>\n",
        "      <td> 0</td>\n",
        "      <td>-1</td>\n",
        "      <td>-6</td>\n",
        "      <td>NaN</td>\n",
        "    </tr>\n",
        "    <tr>\n",
        "      <th>Tom</th>\n",
        "      <td> 0</td>\n",
        "      <td> 5</td>\n",
        "      <td> 2</td>\n",
        "      <td>NaN</td>\n",
        "    </tr>\n",
        "  </tbody>\n",
        "</table>\n",
        "</div>"
       ],
       "metadata": {},
       "output_type": "pyout",
       "prompt_number": 36,
       "text": [
        "     T1  T2  T3  T4\n",
        "Bob   0  -4  -2  -5\n",
        "Jim   0  -1   6   5\n",
        "Kim   0   4   3   5\n",
        "Sue   0  -1  -6 NaN\n",
        "Tom   0   5   2 NaN"
       ]
      }
     ],
     "prompt_number": 36
    },
    {
     "cell_type": "code",
     "collapsed": false,
     "input": [
      "tests.mean()"
     ],
     "language": "python",
     "metadata": {},
     "outputs": [
      {
       "metadata": {},
       "output_type": "pyout",
       "prompt_number": 37,
       "text": [
        "T1    73.600000\n",
        "T2    74.200000\n",
        "T3    74.200000\n",
        "T4    64.666667\n",
        "dtype: float64"
       ]
      }
     ],
     "prompt_number": 37
    },
    {
     "cell_type": "code",
     "collapsed": false,
     "input": [
      "tests.mean(axis=1)"
     ],
     "language": "python",
     "metadata": {},
     "outputs": [
      {
       "metadata": {},
       "output_type": "pyout",
       "prompt_number": 41,
       "text": [
        "Bob    64.250000\n",
        "Jim    54.500000\n",
        "Kim    73.000000\n",
        "Sue    95.666667\n",
        "Tom    83.333333\n",
        "dtype: float64"
       ]
      }
     ],
     "prompt_number": 41
    },
    {
     "cell_type": "code",
     "collapsed": false,
     "input": [
      "import numpy as np"
     ],
     "language": "python",
     "metadata": {},
     "outputs": [],
     "prompt_number": 42
    },
    {
     "cell_type": "code",
     "collapsed": false,
     "input": [
      "tests.applymap(np.sqrt)"
     ],
     "language": "python",
     "metadata": {},
     "outputs": [
      {
       "html": [
        "<div style=\"max-height:1000px;max-width:1500px;overflow:auto;\">\n",
        "<table border=\"1\" class=\"dataframe\">\n",
        "  <thead>\n",
        "    <tr style=\"text-align: right;\">\n",
        "      <th></th>\n",
        "      <th>T1</th>\n",
        "      <th>T2</th>\n",
        "      <th>T3</th>\n",
        "      <th>T4</th>\n",
        "    </tr>\n",
        "  </thead>\n",
        "  <tbody>\n",
        "    <tr>\n",
        "      <th>Bob</th>\n",
        "      <td> 8.185353</td>\n",
        "      <td> 7.937254</td>\n",
        "      <td> 8.062258</td>\n",
        "      <td> 7.874008</td>\n",
        "    </tr>\n",
        "    <tr>\n",
        "      <th>Jim</th>\n",
        "      <td> 7.211103</td>\n",
        "      <td> 7.141428</td>\n",
        "      <td> 7.615773</td>\n",
        "      <td> 7.549834</td>\n",
        "    </tr>\n",
        "    <tr>\n",
        "      <th>Kim</th>\n",
        "      <td> 8.366600</td>\n",
        "      <td> 8.602325</td>\n",
        "      <td> 8.544004</td>\n",
        "      <td> 8.660254</td>\n",
        "    </tr>\n",
        "    <tr>\n",
        "      <th>Sue</th>\n",
        "      <td> 9.899495</td>\n",
        "      <td> 9.848858</td>\n",
        "      <td> 9.591663</td>\n",
        "      <td>      NaN</td>\n",
        "    </tr>\n",
        "    <tr>\n",
        "      <th>Tom</th>\n",
        "      <td> 9.000000</td>\n",
        "      <td> 9.273618</td>\n",
        "      <td> 9.110434</td>\n",
        "      <td>      NaN</td>\n",
        "    </tr>\n",
        "  </tbody>\n",
        "</table>\n",
        "</div>"
       ],
       "metadata": {},
       "output_type": "pyout",
       "prompt_number": 43,
       "text": [
        "           T1        T2        T3        T4\n",
        "Bob  8.185353  7.937254  8.062258  7.874008\n",
        "Jim  7.211103  7.141428  7.615773  7.549834\n",
        "Kim  8.366600  8.602325  8.544004  8.660254\n",
        "Sue  9.899495  9.848858  9.591663       NaN\n",
        "Tom  9.000000  9.273618  9.110434       NaN"
       ]
      }
     ],
     "prompt_number": 43
    },
    {
     "cell_type": "code",
     "collapsed": false,
     "input": [
      "format = lambda x: '%.0f%%' % x"
     ],
     "language": "python",
     "metadata": {},
     "outputs": [],
     "prompt_number": 47
    },
    {
     "cell_type": "code",
     "collapsed": false,
     "input": [
      "format(75)"
     ],
     "language": "python",
     "metadata": {},
     "outputs": [
      {
       "metadata": {},
       "output_type": "pyout",
       "prompt_number": 48,
       "text": [
        "'75%'"
       ]
      }
     ],
     "prompt_number": 48
    },
    {
     "cell_type": "code",
     "collapsed": false,
     "input": [
      "format(100)"
     ],
     "language": "python",
     "metadata": {},
     "outputs": [
      {
       "metadata": {},
       "output_type": "pyout",
       "prompt_number": 49,
       "text": [
        "'100%'"
       ]
      }
     ],
     "prompt_number": 49
    },
    {
     "cell_type": "code",
     "collapsed": false,
     "input": [
      "tests.applymap(format)"
     ],
     "language": "python",
     "metadata": {},
     "outputs": [
      {
       "html": [
        "<div style=\"max-height:1000px;max-width:1500px;overflow:auto;\">\n",
        "<table border=\"1\" class=\"dataframe\">\n",
        "  <thead>\n",
        "    <tr style=\"text-align: right;\">\n",
        "      <th></th>\n",
        "      <th>T1</th>\n",
        "      <th>T2</th>\n",
        "      <th>T3</th>\n",
        "      <th>T4</th>\n",
        "    </tr>\n",
        "  </thead>\n",
        "  <tbody>\n",
        "    <tr>\n",
        "      <th>Bob</th>\n",
        "      <td> 67%</td>\n",
        "      <td> 63%</td>\n",
        "      <td> 65%</td>\n",
        "      <td>  62%</td>\n",
        "    </tr>\n",
        "    <tr>\n",
        "      <th>Jim</th>\n",
        "      <td> 52%</td>\n",
        "      <td> 51%</td>\n",
        "      <td> 58%</td>\n",
        "      <td>  57%</td>\n",
        "    </tr>\n",
        "    <tr>\n",
        "      <th>Kim</th>\n",
        "      <td> 70%</td>\n",
        "      <td> 74%</td>\n",
        "      <td> 73%</td>\n",
        "      <td>  75%</td>\n",
        "    </tr>\n",
        "    <tr>\n",
        "      <th>Sue</th>\n",
        "      <td> 98%</td>\n",
        "      <td> 97%</td>\n",
        "      <td> 92%</td>\n",
        "      <td> nan%</td>\n",
        "    </tr>\n",
        "    <tr>\n",
        "      <th>Tom</th>\n",
        "      <td> 81%</td>\n",
        "      <td> 86%</td>\n",
        "      <td> 83%</td>\n",
        "      <td> nan%</td>\n",
        "    </tr>\n",
        "  </tbody>\n",
        "</table>\n",
        "</div>"
       ],
       "metadata": {},
       "output_type": "pyout",
       "prompt_number": 51,
       "text": [
        "      T1   T2   T3    T4\n",
        "Bob  67%  63%  65%   62%\n",
        "Jim  52%  51%  58%   57%\n",
        "Kim  70%  74%  73%   75%\n",
        "Sue  98%  97%  92%  nan%\n",
        "Tom  81%  86%  83%  nan%"
       ]
      }
     ],
     "prompt_number": 51
    },
    {
     "cell_type": "code",
     "collapsed": false,
     "input": [
      "tests.rank()"
     ],
     "language": "python",
     "metadata": {},
     "outputs": [
      {
       "html": [
        "<div style=\"max-height:1000px;max-width:1500px;overflow:auto;\">\n",
        "<table border=\"1\" class=\"dataframe\">\n",
        "  <thead>\n",
        "    <tr style=\"text-align: right;\">\n",
        "      <th></th>\n",
        "      <th>T1</th>\n",
        "      <th>T2</th>\n",
        "      <th>T3</th>\n",
        "      <th>T4</th>\n",
        "    </tr>\n",
        "  </thead>\n",
        "  <tbody>\n",
        "    <tr>\n",
        "      <th>Bob</th>\n",
        "      <td> 2</td>\n",
        "      <td> 2</td>\n",
        "      <td> 2</td>\n",
        "      <td>  2</td>\n",
        "    </tr>\n",
        "    <tr>\n",
        "      <th>Jim</th>\n",
        "      <td> 1</td>\n",
        "      <td> 1</td>\n",
        "      <td> 1</td>\n",
        "      <td>  1</td>\n",
        "    </tr>\n",
        "    <tr>\n",
        "      <th>Kim</th>\n",
        "      <td> 3</td>\n",
        "      <td> 3</td>\n",
        "      <td> 3</td>\n",
        "      <td>  3</td>\n",
        "    </tr>\n",
        "    <tr>\n",
        "      <th>Sue</th>\n",
        "      <td> 5</td>\n",
        "      <td> 5</td>\n",
        "      <td> 5</td>\n",
        "      <td>NaN</td>\n",
        "    </tr>\n",
        "    <tr>\n",
        "      <th>Tom</th>\n",
        "      <td> 4</td>\n",
        "      <td> 4</td>\n",
        "      <td> 4</td>\n",
        "      <td>NaN</td>\n",
        "    </tr>\n",
        "  </tbody>\n",
        "</table>\n",
        "</div>"
       ],
       "metadata": {},
       "output_type": "pyout",
       "prompt_number": 52,
       "text": [
        "     T1  T2  T3  T4\n",
        "Bob   2   2   2   2\n",
        "Jim   1   1   1   1\n",
        "Kim   3   3   3   3\n",
        "Sue   5   5   5 NaN\n",
        "Tom   4   4   4 NaN"
       ]
      }
     ],
     "prompt_number": 52
    },
    {
     "cell_type": "code",
     "collapsed": false,
     "input": [
      "tests.rank?"
     ],
     "language": "python",
     "metadata": {},
     "outputs": [],
     "prompt_number": 53
    },
    {
     "cell_type": "code",
     "collapsed": false,
     "input": [
      "quizzes"
     ],
     "language": "python",
     "metadata": {},
     "outputs": [
      {
       "html": [
        "<div style=\"max-height:1000px;max-width:1500px;overflow:auto;\">\n",
        "<table border=\"1\" class=\"dataframe\">\n",
        "  <thead>\n",
        "    <tr style=\"text-align: right;\">\n",
        "      <th></th>\n",
        "      <th>Q1</th>\n",
        "      <th>Q2</th>\n",
        "      <th>Q3</th>\n",
        "      <th>Q4</th>\n",
        "    </tr>\n",
        "  </thead>\n",
        "  <tbody>\n",
        "    <tr>\n",
        "      <th>Bob</th>\n",
        "      <td> 60</td>\n",
        "      <td> 64</td>\n",
        "      <td> 69</td>\n",
        "      <td> 65</td>\n",
        "    </tr>\n",
        "    <tr>\n",
        "      <th>Jim</th>\n",
        "      <td> 52</td>\n",
        "      <td> 57</td>\n",
        "      <td> 59</td>\n",
        "      <td> 55</td>\n",
        "    </tr>\n",
        "    <tr>\n",
        "      <th>Kim</th>\n",
        "      <td> 70</td>\n",
        "      <td> 75</td>\n",
        "      <td> 77</td>\n",
        "      <td> 73</td>\n",
        "    </tr>\n",
        "    <tr>\n",
        "      <th>Sue</th>\n",
        "      <td> 90</td>\n",
        "      <td> 99</td>\n",
        "      <td> 97</td>\n",
        "      <td> 95</td>\n",
        "    </tr>\n",
        "    <tr>\n",
        "      <th>Tom</th>\n",
        "      <td> 81</td>\n",
        "      <td> 82</td>\n",
        "      <td> 84</td>\n",
        "      <td> 88</td>\n",
        "    </tr>\n",
        "  </tbody>\n",
        "</table>\n",
        "</div>"
       ],
       "metadata": {},
       "output_type": "pyout",
       "prompt_number": 55,
       "text": [
        "     Q1  Q2  Q3  Q4\n",
        "Bob  60  64  69  65\n",
        "Jim  52  57  59  55\n",
        "Kim  70  75  77  73\n",
        "Sue  90  99  97  95\n",
        "Tom  81  82  84  88"
       ]
      }
     ],
     "prompt_number": 55
    },
    {
     "cell_type": "code",
     "collapsed": false,
     "input": [
      "lessons"
     ],
     "language": "python",
     "metadata": {},
     "outputs": [
      {
       "html": [
        "<div style=\"max-height:1000px;max-width:1500px;overflow:auto;\">\n",
        "<table border=\"1\" class=\"dataframe\">\n",
        "  <thead>\n",
        "    <tr style=\"text-align: right;\">\n",
        "      <th></th>\n",
        "      <th>L1</th>\n",
        "      <th>L2</th>\n",
        "      <th>L3</th>\n",
        "      <th>L4</th>\n",
        "    </tr>\n",
        "  </thead>\n",
        "  <tbody>\n",
        "    <tr>\n",
        "      <th>Bob</th>\n",
        "      <td> 61</td>\n",
        "      <td> 67</td>\n",
        "      <td> 68</td>\n",
        "      <td> 62</td>\n",
        "    </tr>\n",
        "    <tr>\n",
        "      <th>Jim</th>\n",
        "      <td> 56</td>\n",
        "      <td> 54</td>\n",
        "      <td> 52</td>\n",
        "      <td> 53</td>\n",
        "    </tr>\n",
        "    <tr>\n",
        "      <th>Kim</th>\n",
        "      <td> 71</td>\n",
        "      <td> 76</td>\n",
        "      <td> 72</td>\n",
        "      <td> 78</td>\n",
        "    </tr>\n",
        "    <tr>\n",
        "      <th>Sue</th>\n",
        "      <td> 91</td>\n",
        "      <td> 92</td>\n",
        "      <td> 93</td>\n",
        "      <td> 97</td>\n",
        "    </tr>\n",
        "    <tr>\n",
        "      <th>Tom</th>\n",
        "      <td> 80</td>\n",
        "      <td> 89</td>\n",
        "      <td> 87</td>\n",
        "      <td> 89</td>\n",
        "    </tr>\n",
        "  </tbody>\n",
        "</table>\n",
        "</div>"
       ],
       "metadata": {},
       "output_type": "pyout",
       "prompt_number": 56,
       "text": [
        "     L1  L2  L3  L4\n",
        "Bob  61  67  68  62\n",
        "Jim  56  54  52  53\n",
        "Kim  71  76  72  78\n",
        "Sue  91  92  93  97\n",
        "Tom  80  89  87  89"
       ]
      }
     ],
     "prompt_number": 56
    },
    {
     "cell_type": "code",
     "collapsed": false,
     "input": [
      "tests"
     ],
     "language": "python",
     "metadata": {},
     "outputs": [
      {
       "html": [
        "<div style=\"max-height:1000px;max-width:1500px;overflow:auto;\">\n",
        "<table border=\"1\" class=\"dataframe\">\n",
        "  <thead>\n",
        "    <tr style=\"text-align: right;\">\n",
        "      <th></th>\n",
        "      <th>T1</th>\n",
        "      <th>T2</th>\n",
        "      <th>T3</th>\n",
        "      <th>T4</th>\n",
        "    </tr>\n",
        "  </thead>\n",
        "  <tbody>\n",
        "    <tr>\n",
        "      <th>Bob</th>\n",
        "      <td> 67</td>\n",
        "      <td> 63</td>\n",
        "      <td> 65</td>\n",
        "      <td> 62</td>\n",
        "    </tr>\n",
        "    <tr>\n",
        "      <th>Jim</th>\n",
        "      <td> 52</td>\n",
        "      <td> 51</td>\n",
        "      <td> 58</td>\n",
        "      <td> 57</td>\n",
        "    </tr>\n",
        "    <tr>\n",
        "      <th>Kim</th>\n",
        "      <td> 70</td>\n",
        "      <td> 74</td>\n",
        "      <td> 73</td>\n",
        "      <td> 75</td>\n",
        "    </tr>\n",
        "    <tr>\n",
        "      <th>Sue</th>\n",
        "      <td> 98</td>\n",
        "      <td> 97</td>\n",
        "      <td> 92</td>\n",
        "      <td>NaN</td>\n",
        "    </tr>\n",
        "    <tr>\n",
        "      <th>Tom</th>\n",
        "      <td> 81</td>\n",
        "      <td> 86</td>\n",
        "      <td> 83</td>\n",
        "      <td>NaN</td>\n",
        "    </tr>\n",
        "  </tbody>\n",
        "</table>\n",
        "</div>"
       ],
       "metadata": {},
       "output_type": "pyout",
       "prompt_number": 57,
       "text": [
        "     T1  T2  T3  T4\n",
        "Bob  67  63  65  62\n",
        "Jim  52  51  58  57\n",
        "Kim  70  74  73  75\n",
        "Sue  98  97  92 NaN\n",
        "Tom  81  86  83 NaN"
       ]
      }
     ],
     "prompt_number": 57
    },
    {
     "cell_type": "code",
     "collapsed": false,
     "input": [
      "pd.concat([quizzes,lessons,tests],axis=1)"
     ],
     "language": "python",
     "metadata": {},
     "outputs": [
      {
       "html": [
        "<div style=\"max-height:1000px;max-width:1500px;overflow:auto;\">\n",
        "<table border=\"1\" class=\"dataframe\">\n",
        "  <thead>\n",
        "    <tr style=\"text-align: right;\">\n",
        "      <th></th>\n",
        "      <th>Q1</th>\n",
        "      <th>Q2</th>\n",
        "      <th>Q3</th>\n",
        "      <th>Q4</th>\n",
        "      <th>L1</th>\n",
        "      <th>L2</th>\n",
        "      <th>L3</th>\n",
        "      <th>L4</th>\n",
        "      <th>T1</th>\n",
        "      <th>T2</th>\n",
        "      <th>T3</th>\n",
        "      <th>T4</th>\n",
        "    </tr>\n",
        "  </thead>\n",
        "  <tbody>\n",
        "    <tr>\n",
        "      <th>Bob</th>\n",
        "      <td> 60</td>\n",
        "      <td> 64</td>\n",
        "      <td> 69</td>\n",
        "      <td> 65</td>\n",
        "      <td> 61</td>\n",
        "      <td> 67</td>\n",
        "      <td> 68</td>\n",
        "      <td> 62</td>\n",
        "      <td> 67</td>\n",
        "      <td> 63</td>\n",
        "      <td> 65</td>\n",
        "      <td> 62</td>\n",
        "    </tr>\n",
        "    <tr>\n",
        "      <th>Jim</th>\n",
        "      <td> 52</td>\n",
        "      <td> 57</td>\n",
        "      <td> 59</td>\n",
        "      <td> 55</td>\n",
        "      <td> 56</td>\n",
        "      <td> 54</td>\n",
        "      <td> 52</td>\n",
        "      <td> 53</td>\n",
        "      <td> 52</td>\n",
        "      <td> 51</td>\n",
        "      <td> 58</td>\n",
        "      <td> 57</td>\n",
        "    </tr>\n",
        "    <tr>\n",
        "      <th>Kim</th>\n",
        "      <td> 70</td>\n",
        "      <td> 75</td>\n",
        "      <td> 77</td>\n",
        "      <td> 73</td>\n",
        "      <td> 71</td>\n",
        "      <td> 76</td>\n",
        "      <td> 72</td>\n",
        "      <td> 78</td>\n",
        "      <td> 70</td>\n",
        "      <td> 74</td>\n",
        "      <td> 73</td>\n",
        "      <td> 75</td>\n",
        "    </tr>\n",
        "    <tr>\n",
        "      <th>Sue</th>\n",
        "      <td> 90</td>\n",
        "      <td> 99</td>\n",
        "      <td> 97</td>\n",
        "      <td> 95</td>\n",
        "      <td> 91</td>\n",
        "      <td> 92</td>\n",
        "      <td> 93</td>\n",
        "      <td> 97</td>\n",
        "      <td> 98</td>\n",
        "      <td> 97</td>\n",
        "      <td> 92</td>\n",
        "      <td>NaN</td>\n",
        "    </tr>\n",
        "    <tr>\n",
        "      <th>Tom</th>\n",
        "      <td> 81</td>\n",
        "      <td> 82</td>\n",
        "      <td> 84</td>\n",
        "      <td> 88</td>\n",
        "      <td> 80</td>\n",
        "      <td> 89</td>\n",
        "      <td> 87</td>\n",
        "      <td> 89</td>\n",
        "      <td> 81</td>\n",
        "      <td> 86</td>\n",
        "      <td> 83</td>\n",
        "      <td>NaN</td>\n",
        "    </tr>\n",
        "  </tbody>\n",
        "</table>\n",
        "</div>"
       ],
       "metadata": {},
       "output_type": "pyout",
       "prompt_number": 58,
       "text": [
        "     Q1  Q2  Q3  Q4  L1  L2  L3  L4  T1  T2  T3  T4\n",
        "Bob  60  64  69  65  61  67  68  62  67  63  65  62\n",
        "Jim  52  57  59  55  56  54  52  53  52  51  58  57\n",
        "Kim  70  75  77  73  71  76  72  78  70  74  73  75\n",
        "Sue  90  99  97  95  91  92  93  97  98  97  92 NaN\n",
        "Tom  81  82  84  88  80  89  87  89  81  86  83 NaN"
       ]
      }
     ],
     "prompt_number": 58
    },
    {
     "cell_type": "code",
     "collapsed": false,
     "input": [
      "ID"
     ],
     "language": "python",
     "metadata": {},
     "outputs": [
      {
       "metadata": {},
       "output_type": "pyout",
       "prompt_number": 59,
       "text": [
        "1290    Kim\n",
        "3331    Tom\n",
        "4915    Bob\n",
        "5567    Sue\n",
        "6518    Jim\n",
        "dtype: object"
       ]
      }
     ],
     "prompt_number": 59
    },
    {
     "cell_type": "code",
     "collapsed": false,
     "input": [
      "year"
     ],
     "language": "python",
     "metadata": {},
     "outputs": [
      {
       "metadata": {},
       "output_type": "pyout",
       "prompt_number": 60,
       "text": [
        "1290    sophomore\n",
        "3331     freshman\n",
        "4915    sophomore\n",
        "5567    sophomore\n",
        "6518     freshman\n",
        "dtype: object"
       ]
      }
     ],
     "prompt_number": 60
    },
    {
     "cell_type": "code",
     "collapsed": false,
     "input": [
      "major"
     ],
     "language": "python",
     "metadata": {},
     "outputs": [
      {
       "metadata": {},
       "output_type": "pyout",
       "prompt_number": 61,
       "text": [
        "1290    computer science\n",
        "3331    computer science\n",
        "4915    computer science\n",
        "5567         mathematics\n",
        "6518         mathematics\n",
        "dtype: object"
       ]
      }
     ],
     "prompt_number": 61
    },
    {
     "cell_type": "code",
     "collapsed": false,
     "input": [
      "students= pd.concat([ID,year,major],axis=1,keys=['name','year','major'])"
     ],
     "language": "python",
     "metadata": {},
     "outputs": [],
     "prompt_number": 63
    },
    {
     "cell_type": "code",
     "collapsed": false,
     "input": [
      "students"
     ],
     "language": "python",
     "metadata": {},
     "outputs": [
      {
       "html": [
        "<div style=\"max-height:1000px;max-width:1500px;overflow:auto;\">\n",
        "<table border=\"1\" class=\"dataframe\">\n",
        "  <thead>\n",
        "    <tr style=\"text-align: right;\">\n",
        "      <th></th>\n",
        "      <th>name</th>\n",
        "      <th>year</th>\n",
        "      <th>major</th>\n",
        "    </tr>\n",
        "  </thead>\n",
        "  <tbody>\n",
        "    <tr>\n",
        "      <th>1290</th>\n",
        "      <td> Kim</td>\n",
        "      <td> sophomore</td>\n",
        "      <td> computer science</td>\n",
        "    </tr>\n",
        "    <tr>\n",
        "      <th>3331</th>\n",
        "      <td> Tom</td>\n",
        "      <td>  freshman</td>\n",
        "      <td> computer science</td>\n",
        "    </tr>\n",
        "    <tr>\n",
        "      <th>4915</th>\n",
        "      <td> Bob</td>\n",
        "      <td> sophomore</td>\n",
        "      <td> computer science</td>\n",
        "    </tr>\n",
        "    <tr>\n",
        "      <th>5567</th>\n",
        "      <td> Sue</td>\n",
        "      <td> sophomore</td>\n",
        "      <td>      mathematics</td>\n",
        "    </tr>\n",
        "    <tr>\n",
        "      <th>6518</th>\n",
        "      <td> Jim</td>\n",
        "      <td>  freshman</td>\n",
        "      <td>      mathematics</td>\n",
        "    </tr>\n",
        "  </tbody>\n",
        "</table>\n",
        "</div>"
       ],
       "metadata": {},
       "output_type": "pyout",
       "prompt_number": 64,
       "text": [
        "     name       year             major\n",
        "1290  Kim  sophomore  computer science\n",
        "3331  Tom   freshman  computer science\n",
        "4915  Bob  sophomore  computer science\n",
        "5567  Sue  sophomore       mathematics\n",
        "6518  Jim   freshman       mathematics"
       ]
      }
     ],
     "prompt_number": 64
    },
    {
     "cell_type": "code",
     "collapsed": false,
     "input": [
      "pd.concat([ID,year,major],axis=1)"
     ],
     "language": "python",
     "metadata": {},
     "outputs": [
      {
       "html": [
        "<div style=\"max-height:1000px;max-width:1500px;overflow:auto;\">\n",
        "<table border=\"1\" class=\"dataframe\">\n",
        "  <thead>\n",
        "    <tr style=\"text-align: right;\">\n",
        "      <th></th>\n",
        "      <th>0</th>\n",
        "      <th>1</th>\n",
        "      <th>2</th>\n",
        "    </tr>\n",
        "  </thead>\n",
        "  <tbody>\n",
        "    <tr>\n",
        "      <th>1290</th>\n",
        "      <td> Kim</td>\n",
        "      <td> sophomore</td>\n",
        "      <td> computer science</td>\n",
        "    </tr>\n",
        "    <tr>\n",
        "      <th>3331</th>\n",
        "      <td> Tom</td>\n",
        "      <td>  freshman</td>\n",
        "      <td> computer science</td>\n",
        "    </tr>\n",
        "    <tr>\n",
        "      <th>4915</th>\n",
        "      <td> Bob</td>\n",
        "      <td> sophomore</td>\n",
        "      <td> computer science</td>\n",
        "    </tr>\n",
        "    <tr>\n",
        "      <th>5567</th>\n",
        "      <td> Sue</td>\n",
        "      <td> sophomore</td>\n",
        "      <td>      mathematics</td>\n",
        "    </tr>\n",
        "    <tr>\n",
        "      <th>6518</th>\n",
        "      <td> Jim</td>\n",
        "      <td>  freshman</td>\n",
        "      <td>      mathematics</td>\n",
        "    </tr>\n",
        "  </tbody>\n",
        "</table>\n",
        "</div>"
       ],
       "metadata": {},
       "output_type": "pyout",
       "prompt_number": 65,
       "text": [
        "        0          1                 2\n",
        "1290  Kim  sophomore  computer science\n",
        "3331  Tom   freshman  computer science\n",
        "4915  Bob  sophomore  computer science\n",
        "5567  Sue  sophomore       mathematics\n",
        "6518  Jim   freshman       mathematics"
       ]
      }
     ],
     "prompt_number": 65
    },
    {
     "cell_type": "code",
     "collapsed": false,
     "input": [
      "students= pd.concat([ID,year,major],axis=1,keys=['name','year','major'])"
     ],
     "language": "python",
     "metadata": {},
     "outputs": [],
     "prompt_number": 67
    },
    {
     "cell_type": "code",
     "collapsed": false,
     "input": [
      "pd.get_dummies(students.year)"
     ],
     "language": "python",
     "metadata": {},
     "outputs": [
      {
       "html": [
        "<div style=\"max-height:1000px;max-width:1500px;overflow:auto;\">\n",
        "<table border=\"1\" class=\"dataframe\">\n",
        "  <thead>\n",
        "    <tr style=\"text-align: right;\">\n",
        "      <th></th>\n",
        "      <th>freshman</th>\n",
        "      <th>sophomore</th>\n",
        "    </tr>\n",
        "  </thead>\n",
        "  <tbody>\n",
        "    <tr>\n",
        "      <th>1290</th>\n",
        "      <td> 0</td>\n",
        "      <td> 1</td>\n",
        "    </tr>\n",
        "    <tr>\n",
        "      <th>3331</th>\n",
        "      <td> 1</td>\n",
        "      <td> 0</td>\n",
        "    </tr>\n",
        "    <tr>\n",
        "      <th>4915</th>\n",
        "      <td> 0</td>\n",
        "      <td> 1</td>\n",
        "    </tr>\n",
        "    <tr>\n",
        "      <th>5567</th>\n",
        "      <td> 0</td>\n",
        "      <td> 1</td>\n",
        "    </tr>\n",
        "    <tr>\n",
        "      <th>6518</th>\n",
        "      <td> 1</td>\n",
        "      <td> 0</td>\n",
        "    </tr>\n",
        "  </tbody>\n",
        "</table>\n",
        "</div>"
       ],
       "metadata": {},
       "output_type": "pyout",
       "prompt_number": 78,
       "text": [
        "      freshman  sophomore\n",
        "1290         0          1\n",
        "3331         1          0\n",
        "4915         0          1\n",
        "5567         0          1\n",
        "6518         1          0"
       ]
      }
     ],
     "prompt_number": 78
    },
    {
     "cell_type": "code",
     "collapsed": false,
     "input": [
      "students1 = students.stack()"
     ],
     "language": "python",
     "metadata": {},
     "outputs": [],
     "prompt_number": 79
    },
    {
     "cell_type": "code",
     "collapsed": false,
     "input": [
      "students1.unstack()"
     ],
     "language": "python",
     "metadata": {},
     "outputs": [
      {
       "html": [
        "<div style=\"max-height:1000px;max-width:1500px;overflow:auto;\">\n",
        "<table border=\"1\" class=\"dataframe\">\n",
        "  <thead>\n",
        "    <tr style=\"text-align: right;\">\n",
        "      <th></th>\n",
        "      <th>name</th>\n",
        "      <th>year</th>\n",
        "      <th>major</th>\n",
        "    </tr>\n",
        "  </thead>\n",
        "  <tbody>\n",
        "    <tr>\n",
        "      <th>1290</th>\n",
        "      <td> Kim</td>\n",
        "      <td> sophomore</td>\n",
        "      <td> computer science</td>\n",
        "    </tr>\n",
        "    <tr>\n",
        "      <th>3331</th>\n",
        "      <td> Tom</td>\n",
        "      <td>  freshman</td>\n",
        "      <td> computer science</td>\n",
        "    </tr>\n",
        "    <tr>\n",
        "      <th>4915</th>\n",
        "      <td> Bob</td>\n",
        "      <td> sophomore</td>\n",
        "      <td> computer science</td>\n",
        "    </tr>\n",
        "    <tr>\n",
        "      <th>5567</th>\n",
        "      <td> Sue</td>\n",
        "      <td> sophomore</td>\n",
        "      <td>      mathematics</td>\n",
        "    </tr>\n",
        "    <tr>\n",
        "      <th>6518</th>\n",
        "      <td> Jim</td>\n",
        "      <td>  freshman</td>\n",
        "      <td>      mathematics</td>\n",
        "    </tr>\n",
        "  </tbody>\n",
        "</table>\n",
        "</div>"
       ],
       "metadata": {},
       "output_type": "pyout",
       "prompt_number": 80,
       "text": [
        "     name       year             major\n",
        "1290  Kim  sophomore  computer science\n",
        "3331  Tom   freshman  computer science\n",
        "4915  Bob  sophomore  computer science\n",
        "5567  Sue  sophomore       mathematics\n",
        "6518  Jim   freshman       mathematics"
       ]
      }
     ],
     "prompt_number": 80
    },
    {
     "cell_type": "code",
     "collapsed": false,
     "input": [
      "pd.melt(students,id_vars='name')"
     ],
     "language": "python",
     "metadata": {},
     "outputs": [
      {
       "html": [
        "<div style=\"max-height:1000px;max-width:1500px;overflow:auto;\">\n",
        "<table border=\"1\" class=\"dataframe\">\n",
        "  <thead>\n",
        "    <tr style=\"text-align: right;\">\n",
        "      <th></th>\n",
        "      <th>name</th>\n",
        "      <th>variable</th>\n",
        "      <th>value</th>\n",
        "    </tr>\n",
        "  </thead>\n",
        "  <tbody>\n",
        "    <tr>\n",
        "      <th>0</th>\n",
        "      <td> Kim</td>\n",
        "      <td>  year</td>\n",
        "      <td>        sophomore</td>\n",
        "    </tr>\n",
        "    <tr>\n",
        "      <th>1</th>\n",
        "      <td> Tom</td>\n",
        "      <td>  year</td>\n",
        "      <td>         freshman</td>\n",
        "    </tr>\n",
        "    <tr>\n",
        "      <th>2</th>\n",
        "      <td> Bob</td>\n",
        "      <td>  year</td>\n",
        "      <td>        sophomore</td>\n",
        "    </tr>\n",
        "    <tr>\n",
        "      <th>3</th>\n",
        "      <td> Sue</td>\n",
        "      <td>  year</td>\n",
        "      <td>        sophomore</td>\n",
        "    </tr>\n",
        "    <tr>\n",
        "      <th>4</th>\n",
        "      <td> Jim</td>\n",
        "      <td>  year</td>\n",
        "      <td>         freshman</td>\n",
        "    </tr>\n",
        "    <tr>\n",
        "      <th>5</th>\n",
        "      <td> Kim</td>\n",
        "      <td> major</td>\n",
        "      <td> computer science</td>\n",
        "    </tr>\n",
        "    <tr>\n",
        "      <th>6</th>\n",
        "      <td> Tom</td>\n",
        "      <td> major</td>\n",
        "      <td> computer science</td>\n",
        "    </tr>\n",
        "    <tr>\n",
        "      <th>7</th>\n",
        "      <td> Bob</td>\n",
        "      <td> major</td>\n",
        "      <td> computer science</td>\n",
        "    </tr>\n",
        "    <tr>\n",
        "      <th>8</th>\n",
        "      <td> Sue</td>\n",
        "      <td> major</td>\n",
        "      <td>      mathematics</td>\n",
        "    </tr>\n",
        "    <tr>\n",
        "      <th>9</th>\n",
        "      <td> Jim</td>\n",
        "      <td> major</td>\n",
        "      <td>      mathematics</td>\n",
        "    </tr>\n",
        "  </tbody>\n",
        "</table>\n",
        "</div>"
       ],
       "metadata": {},
       "output_type": "pyout",
       "prompt_number": 83,
       "text": [
        "  name variable             value\n",
        "0  Kim     year         sophomore\n",
        "1  Tom     year          freshman\n",
        "2  Bob     year         sophomore\n",
        "3  Sue     year         sophomore\n",
        "4  Jim     year          freshman\n",
        "5  Kim    major  computer science\n",
        "6  Tom    major  computer science\n",
        "7  Bob    major  computer science\n",
        "8  Sue    major       mathematics\n",
        "9  Jim    major       mathematics"
       ]
      }
     ],
     "prompt_number": 83
    },
    {
     "cell_type": "code",
     "collapsed": false,
     "input": [],
     "language": "python",
     "metadata": {},
     "outputs": []
    }
   ],
   "metadata": {}
  }
 ]
}