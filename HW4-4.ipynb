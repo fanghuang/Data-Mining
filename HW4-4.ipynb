{
 "metadata": {
  "name": ""
 },
 "nbformat": 3,
 "nbformat_minor": 0,
 "worksheets": [
  {
   "cells": [
    {
     "cell_type": "code",
     "collapsed": false,
     "input": [
      "import pandas as pd\n",
      "import matplotlib.pyplot as plt\n",
      "crime = pd.read_csv('Crimes_-_2001_to_present.csv')\n",
      "crime"
     ],
     "language": "python",
     "metadata": {},
     "outputs": [
      {
       "html": [
        "<pre>\n",
        "&lt;class 'pandas.core.frame.DataFrame'&gt;\n",
        "Int64Index: 5351512 entries, 0 to 5351511\n",
        "Columns: 22 entries, ID to Location\n",
        "dtypes: bool(2), float64(5), int64(3), object(12)\n",
        "</pre>"
       ],
       "metadata": {},
       "output_type": "pyout",
       "prompt_number": 1,
       "text": [
        "<class 'pandas.core.frame.DataFrame'>\n",
        "Int64Index: 5351512 entries, 0 to 5351511\n",
        "Columns: 22 entries, ID to Location\n",
        "dtypes: bool(2), float64(5), int64(3), object(12)"
       ]
      }
     ],
     "prompt_number": 1
    },
    {
     "cell_type": "code",
     "collapsed": false,
     "input": [
      "plt.plot(crime['Longitude'],crime['Latitude'],'ro')"
     ],
     "language": "python",
     "metadata": {},
     "outputs": [
      {
       "metadata": {},
       "output_type": "pyout",
       "prompt_number": 3,
       "text": [
        "[<matplotlib.lines.Line2D at 0x6f228350>]"
       ]
      }
     ],
     "prompt_number": 3
    },
    {
     "cell_type": "code",
     "collapsed": false,
     "input": [
      "plt.show()"
     ],
     "language": "python",
     "metadata": {},
     "outputs": [],
     "prompt_number": "*"
    },
    {
     "cell_type": "code",
     "collapsed": false,
     "input": [
      "a=crime['Date']\n",
      "a"
     ],
     "language": "python",
     "metadata": {},
     "outputs": [
      {
       "metadata": {},
       "output_type": "pyout",
       "prompt_number": 9,
       "text": [
        "0     09/28/2013 05:00:00 AM\n",
        "1     09/28/2013 05:00:00 AM\n",
        "2     09/28/2013 03:20:00 AM\n",
        "3     09/28/2013 03:00:00 AM\n",
        "4     09/28/2013 03:00:00 AM\n",
        "5     09/28/2013 02:32:00 AM\n",
        "6     09/28/2013 02:30:00 AM\n",
        "7     09/28/2013 02:28:00 AM\n",
        "8     09/28/2013 02:25:00 AM\n",
        "9     09/28/2013 02:12:00 AM\n",
        "10    09/28/2013 02:00:00 AM\n",
        "11    09/28/2013 01:20:00 AM\n",
        "12    09/28/2013 01:00:00 AM\n",
        "13    09/28/2013 01:00:00 AM\n",
        "14    09/28/2013 01:00:00 AM\n",
        "...\n",
        "5351497    01/01/2001 12:00:00 AM\n",
        "5351498    01/01/2001 12:00:00 AM\n",
        "5351499    01/01/2001 12:00:00 AM\n",
        "5351500    01/01/2001 12:00:00 AM\n",
        "5351501    01/01/2001 12:00:00 AM\n",
        "5351502    01/01/2001 12:00:00 AM\n",
        "5351503    01/01/2001 12:00:00 AM\n",
        "5351504    01/01/2001 12:00:00 AM\n",
        "5351505    01/01/2001 12:00:00 AM\n",
        "5351506    01/01/2001 12:00:00 AM\n",
        "5351507    01/01/2001 12:00:00 AM\n",
        "5351508    01/01/2001 12:00:00 AM\n",
        "5351509    01/01/2001 12:00:00 AM\n",
        "5351510    01/01/2001 12:00:00 AM\n",
        "5351511    01/01/2001 12:00:00 AM\n",
        "Name: Date, Length: 5351512, dtype: object"
       ]
      }
     ],
     "prompt_number": 9
    },
    {
     "cell_type": "code",
     "collapsed": false,
     "input": [
      "a.value_counts()"
     ],
     "language": "python",
     "metadata": {},
     "outputs": [
      {
       "metadata": {},
       "output_type": "pyout",
       "prompt_number": 11,
       "text": [
        "01/01/2008 12:01:00 AM    264\n",
        "01/01/2007 12:01:00 AM    225\n",
        "01/01/2006 12:01:00 AM    208\n",
        "01/01/2003 12:01:00 AM    204\n",
        "01/01/2004 12:00:00 AM    200\n",
        "01/01/2005 12:01:00 AM    191\n",
        "01/01/2003 12:00:00 AM    191\n",
        "01/01/2007 12:00:00 AM    177\n",
        "01/01/2005 12:00:00 AM    166\n",
        "01/01/2008 12:00:00 AM    166\n",
        "01/01/2004 12:01:00 AM    162\n",
        "01/01/2002 12:01:00 AM    161\n",
        "01/01/2009 12:01:00 AM    158\n",
        "01/01/2006 12:00:00 AM    154\n",
        "01/01/2002 12:00:00 AM    152\n",
        "...\n",
        "11/22/2008 12:35:00 AM    1\n",
        "07/02/2009 03:06:48 PM    1\n",
        "10/04/2001 04:10:00 AM    1\n",
        "10/11/2004 09:05:00 PM    1\n",
        "05/23/2002 03:35:46 PM    1\n",
        "12/25/2004 07:35:00 PM    1\n",
        "07/10/2006 10:34:00 PM    1\n",
        "07/07/2007 04:15:00 PM    1\n",
        "09/19/2005 06:45:05 PM    1\n",
        "07/30/2010 01:29:00 AM    1\n",
        "06/24/2001 03:39:31 PM    1\n",
        "06/18/2010 12:11:42 PM    1\n",
        "03/02/2007 04:22:03 PM    1\n",
        "03/30/2003 06:05:58 AM    1\n",
        "06/23/2007 02:36:09 AM    1\n",
        "Length: 2106236, dtype: int64"
       ]
      }
     ],
     "prompt_number": 11
    },
    {
     "cell_type": "code",
     "collapsed": false,
     "input": [],
     "language": "python",
     "metadata": {},
     "outputs": []
    }
   ],
   "metadata": {}
  }
 ]
}