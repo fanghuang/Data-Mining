{
 "metadata": {
  "name": ""
 },
 "nbformat": 3,
 "nbformat_minor": 0,
 "worksheets": [
  {
   "cells": [
    {
     "cell_type": "code",
     "collapsed": false,
     "input": [
      "import pandas as pd\n",
      "import matplotlib.pyplot as plt\n",
      "tips=pd.read_csv('./Downloads/tips.csv',index_col=0)"
     ],
     "language": "python",
     "metadata": {},
     "outputs": [],
     "prompt_number": 1
    },
    {
     "cell_type": "code",
     "collapsed": false,
     "input": [
      "tips"
     ],
     "language": "python",
     "metadata": {},
     "outputs": [
      {
       "html": [
        "<pre>\n",
        "&lt;class 'pandas.core.frame.DataFrame'&gt;\n",
        "Int64Index: 244 entries, 1 to 244\n",
        "Data columns (total 7 columns):\n",
        "total_bill    244  non-null values\n",
        "tip           244  non-null values\n",
        "sex           244  non-null values\n",
        "smoker        244  non-null values\n",
        "day           244  non-null values\n",
        "time          244  non-null values\n",
        "size          244  non-null values\n",
        "dtypes: float64(2), int64(1), object(4)\n",
        "</pre>"
       ],
       "metadata": {},
       "output_type": "pyout",
       "prompt_number": 2,
       "text": [
        "<class 'pandas.core.frame.DataFrame'>\n",
        "Int64Index: 244 entries, 1 to 244\n",
        "Data columns (total 7 columns):\n",
        "total_bill    244  non-null values\n",
        "tip           244  non-null values\n",
        "sex           244  non-null values\n",
        "smoker        244  non-null values\n",
        "day           244  non-null values\n",
        "time          244  non-null values\n",
        "size          244  non-null values\n",
        "dtypes: float64(2), int64(1), object(4)"
       ]
      }
     ],
     "prompt_number": 2
    },
    {
     "cell_type": "code",
     "collapsed": false,
     "input": [
      "pd.scatter_matrix(tips)"
     ],
     "language": "python",
     "metadata": {},
     "outputs": [
      {
       "metadata": {},
       "output_type": "pyout",
       "prompt_number": 3,
       "text": [
        "array([[<matplotlib.axes.AxesSubplot object at 0x423e7d0>,\n",
        "        <matplotlib.axes.AxesSubplot object at 0x42fb450>,\n",
        "        <matplotlib.axes.AxesSubplot object at 0x4575990>],\n",
        "       [<matplotlib.axes.AxesSubplot object at 0x459aed0>,\n",
        "        <matplotlib.axes.AxesSubplot object at 0x46e3bd0>,\n",
        "        <matplotlib.axes.AxesSubplot object at 0x4706e90>],\n",
        "       [<matplotlib.axes.AxesSubplot object at 0x46f1290>,\n",
        "        <matplotlib.axes.AxesSubplot object at 0x4886490>,\n",
        "        <matplotlib.axes.AxesSubplot object at 0x49ec910>]], dtype=object)"
       ]
      }
     ],
     "prompt_number": 3
    },
    {
     "cell_type": "code",
     "collapsed": false,
     "input": [
      "tips.groupby(tips.sex).mean()"
     ],
     "language": "python",
     "metadata": {},
     "outputs": [
      {
       "html": [
        "<div style=\"max-height:1000px;max-width:1500px;overflow:auto;\">\n",
        "<table border=\"1\" class=\"dataframe\">\n",
        "  <thead>\n",
        "    <tr style=\"text-align: right;\">\n",
        "      <th></th>\n",
        "      <th>total_bill</th>\n",
        "      <th>tip</th>\n",
        "      <th>size</th>\n",
        "    </tr>\n",
        "    <tr>\n",
        "      <th>sex</th>\n",
        "      <th></th>\n",
        "      <th></th>\n",
        "      <th></th>\n",
        "    </tr>\n",
        "  </thead>\n",
        "  <tbody>\n",
        "    <tr>\n",
        "      <th>Female</th>\n",
        "      <td> 18.056897</td>\n",
        "      <td> 2.833448</td>\n",
        "      <td> 2.459770</td>\n",
        "    </tr>\n",
        "    <tr>\n",
        "      <th>Male</th>\n",
        "      <td> 20.744076</td>\n",
        "      <td> 3.089618</td>\n",
        "      <td> 2.630573</td>\n",
        "    </tr>\n",
        "  </tbody>\n",
        "</table>\n",
        "</div>"
       ],
       "metadata": {},
       "output_type": "pyout",
       "prompt_number": 4,
       "text": [
        "        total_bill       tip      size\n",
        "sex                                   \n",
        "Female   18.056897  2.833448  2.459770\n",
        "Male     20.744076  3.089618  2.630573"
       ]
      }
     ],
     "prompt_number": 4
    },
    {
     "cell_type": "code",
     "collapsed": false,
     "input": [
      "tips.size"
     ],
     "language": "python",
     "metadata": {},
     "outputs": [
      {
       "metadata": {},
       "output_type": "pyout",
       "prompt_number": 5,
       "text": [
        "1     2\n",
        "2     3\n",
        "3     3\n",
        "4     2\n",
        "5     4\n",
        "6     4\n",
        "7     2\n",
        "8     4\n",
        "9     2\n",
        "10    2\n",
        "11    2\n",
        "12    4\n",
        "13    2\n",
        "14    4\n",
        "15    2\n",
        "...\n",
        "230    2\n",
        "231    4\n",
        "232    3\n",
        "233    2\n",
        "234    2\n",
        "235    2\n",
        "236    2\n",
        "237    2\n",
        "238    2\n",
        "239    3\n",
        "240    3\n",
        "241    2\n",
        "242    2\n",
        "243    2\n",
        "244    2\n",
        "Name: size, Length: 244, dtype: int64"
       ]
      }
     ],
     "prompt_number": 5
    },
    {
     "cell_type": "code",
     "collapsed": false,
     "input": [
      "plt.show()"
     ],
     "language": "python",
     "metadata": {},
     "outputs": [],
     "prompt_number": 7
    },
    {
     "cell_type": "code",
     "collapsed": false,
     "input": [
      "tips['pct_tip']=100*tips.tip/tips.total_bill"
     ],
     "language": "python",
     "metadata": {},
     "outputs": [],
     "prompt_number": 15
    },
    {
     "cell_type": "code",
     "collapsed": false,
     "input": [
      "tips_by_gender = {}\n",
      "tips_by_gender['Male'] = tips[tips.sex=='Male'].pct_tip.mean()\n",
      "tips_by_gender['Female'] = tips[tips.sex=='Female'].pct_tip.mean()"
     ],
     "language": "python",
     "metadata": {},
     "outputs": [],
     "prompt_number": 37
    },
    {
     "cell_type": "code",
     "collapsed": false,
     "input": [
      "daily_tips = tips.groupby(tips.smoker).pct_tip.mean()\n",
      "# daily_tips.head()['tip'].plot(kind='bar')\n",
      "# plt.show()\n",
      "print daily_tips.head()"
     ],
     "language": "python",
     "metadata": {},
     "outputs": [
      {
       "output_type": "stream",
       "stream": "stdout",
       "text": [
        "smoker\n",
        "No        15.932846\n",
        "Yes       16.319604\n",
        "Name: pct_tip, dtype: float64\n"
       ]
      }
     ],
     "prompt_number": 82
    },
    {
     "cell_type": "code",
     "collapsed": false,
     "input": [
      "import matplotlib.pyplot as plt"
     ],
     "language": "python",
     "metadata": {},
     "outputs": [],
     "prompt_number": 27
    },
    {
     "cell_type": "code",
     "collapsed": false,
     "input": [
      "daily_tips.plot(kind='bar')\n",
      "plt.show()"
     ],
     "language": "python",
     "metadata": {},
     "outputs": [],
     "prompt_number": 64
    },
    {
     "cell_type": "code",
     "collapsed": false,
     "input": [
      "print daily_tips"
     ],
     "language": "python",
     "metadata": {},
     "outputs": [
      {
       "output_type": "stream",
       "stream": "stdout",
       "text": [
        "day\n",
        "Fri     16.991303\n",
        "Sat     15.315172\n",
        "Sun     16.689729\n",
        "Thur    16.127563\n",
        "Name: pct_tip, dtype: float64\n"
       ]
      }
     ],
     "prompt_number": 51
    },
    {
     "cell_type": "code",
     "collapsed": false,
     "input": [
      "pd.Series(tips_by_gender).plot(kind='bar')\n",
      "plt.show()"
     ],
     "language": "python",
     "metadata": {},
     "outputs": [],
     "prompt_number": 65
    },
    {
     "cell_type": "code",
     "collapsed": false,
     "input": [
      "daily_tips.plot(kind='bar')\n",
      "plt.show()"
     ],
     "language": "python",
     "metadata": {},
     "outputs": [],
     "prompt_number": 83
    },
    {
     "cell_type": "code",
     "collapsed": false,
     "input": [
      "tips.pivot_table(rows=['sex','day'],cols='smoker')"
     ],
     "language": "python",
     "metadata": {},
     "outputs": [
      {
       "html": [
        "<div style=\"max-height:1000px;max-width:1500px;overflow:auto;\">\n",
        "<table border=\"1\" class=\"dataframe\">\n",
        "  <thead>\n",
        "    <tr>\n",
        "      <th></th>\n",
        "      <th></th>\n",
        "      <th colspan=\"2\" halign=\"left\">total_bill</th>\n",
        "      <th colspan=\"2\" halign=\"left\">tip</th>\n",
        "      <th colspan=\"2\" halign=\"left\">size</th>\n",
        "      <th colspan=\"2\" halign=\"left\">pct.tip</th>\n",
        "      <th colspan=\"2\" halign=\"left\">pct_tip</th>\n",
        "    </tr>\n",
        "    <tr>\n",
        "      <th></th>\n",
        "      <th>smoker</th>\n",
        "      <th>No</th>\n",
        "      <th>Yes</th>\n",
        "      <th>No</th>\n",
        "      <th>Yes</th>\n",
        "      <th>No</th>\n",
        "      <th>Yes</th>\n",
        "      <th>No</th>\n",
        "      <th>Yes</th>\n",
        "      <th>No</th>\n",
        "      <th>Yes</th>\n",
        "    </tr>\n",
        "    <tr>\n",
        "      <th>sex</th>\n",
        "      <th>day</th>\n",
        "      <th></th>\n",
        "      <th></th>\n",
        "      <th></th>\n",
        "      <th></th>\n",
        "      <th></th>\n",
        "      <th></th>\n",
        "      <th></th>\n",
        "      <th></th>\n",
        "      <th></th>\n",
        "      <th></th>\n",
        "    </tr>\n",
        "  </thead>\n",
        "  <tbody>\n",
        "    <tr>\n",
        "      <th rowspan=\"4\" valign=\"top\">Female</th>\n",
        "      <th>Fri</th>\n",
        "      <td> 19.365000</td>\n",
        "      <td> 12.654286</td>\n",
        "      <td> 3.125000</td>\n",
        "      <td> 2.682857</td>\n",
        "      <td> 2.500000</td>\n",
        "      <td> 2.000000</td>\n",
        "      <td> 16.529591</td>\n",
        "      <td> 20.912912</td>\n",
        "      <td> 16.529591</td>\n",
        "      <td> 20.912912</td>\n",
        "    </tr>\n",
        "    <tr>\n",
        "      <th>Sat</th>\n",
        "      <td> 19.003846</td>\n",
        "      <td> 20.266667</td>\n",
        "      <td> 2.724615</td>\n",
        "      <td> 2.868667</td>\n",
        "      <td> 2.307692</td>\n",
        "      <td> 2.200000</td>\n",
        "      <td> 14.799347</td>\n",
        "      <td> 16.381673</td>\n",
        "      <td> 14.799347</td>\n",
        "      <td> 16.381673</td>\n",
        "    </tr>\n",
        "    <tr>\n",
        "      <th>Sun</th>\n",
        "      <td> 20.824286</td>\n",
        "      <td> 16.540000</td>\n",
        "      <td> 3.329286</td>\n",
        "      <td> 3.500000</td>\n",
        "      <td> 3.071429</td>\n",
        "      <td> 2.500000</td>\n",
        "      <td> 16.570992</td>\n",
        "      <td> 23.707473</td>\n",
        "      <td> 16.570992</td>\n",
        "      <td> 23.707473</td>\n",
        "    </tr>\n",
        "    <tr>\n",
        "      <th>Thur</th>\n",
        "      <td> 16.014400</td>\n",
        "      <td> 19.218571</td>\n",
        "      <td> 2.459600</td>\n",
        "      <td> 2.990000</td>\n",
        "      <td> 2.480000</td>\n",
        "      <td> 2.428571</td>\n",
        "      <td> 15.597147</td>\n",
        "      <td> 16.307257</td>\n",
        "      <td> 15.597147</td>\n",
        "      <td> 16.307257</td>\n",
        "    </tr>\n",
        "    <tr>\n",
        "      <th rowspan=\"4\" valign=\"top\">Male</th>\n",
        "      <th>Fri</th>\n",
        "      <td> 17.475000</td>\n",
        "      <td> 20.452500</td>\n",
        "      <td> 2.500000</td>\n",
        "      <td> 2.741250</td>\n",
        "      <td> 2.000000</td>\n",
        "      <td> 2.125000</td>\n",
        "      <td> 13.800498</td>\n",
        "      <td> 14.473025</td>\n",
        "      <td> 13.800498</td>\n",
        "      <td> 14.473025</td>\n",
        "    </tr>\n",
        "    <tr>\n",
        "      <th>Sat</th>\n",
        "      <td> 19.929063</td>\n",
        "      <td> 21.837778</td>\n",
        "      <td> 3.256563</td>\n",
        "      <td> 2.879259</td>\n",
        "      <td> 2.656250</td>\n",
        "      <td> 2.629630</td>\n",
        "      <td> 16.213217</td>\n",
        "      <td> 13.906681</td>\n",
        "      <td> 16.213217</td>\n",
        "      <td> 13.906681</td>\n",
        "    </tr>\n",
        "    <tr>\n",
        "      <th>Sun</th>\n",
        "      <td> 20.403256</td>\n",
        "      <td> 26.141333</td>\n",
        "      <td> 3.115349</td>\n",
        "      <td> 3.521333</td>\n",
        "      <td> 2.883721</td>\n",
        "      <td> 2.600000</td>\n",
        "      <td> 15.829067</td>\n",
        "      <td> 17.396381</td>\n",
        "      <td> 15.829067</td>\n",
        "      <td> 17.396381</td>\n",
        "    </tr>\n",
        "    <tr>\n",
        "      <th>Thur</th>\n",
        "      <td> 18.486500</td>\n",
        "      <td> 19.171000</td>\n",
        "      <td> 2.941500</td>\n",
        "      <td> 3.058000</td>\n",
        "      <td> 2.500000</td>\n",
        "      <td> 2.300000</td>\n",
        "      <td> 16.570635</td>\n",
        "      <td> 16.441676</td>\n",
        "      <td> 16.570635</td>\n",
        "      <td> 16.441676</td>\n",
        "    </tr>\n",
        "  </tbody>\n",
        "</table>\n",
        "</div>"
       ],
       "metadata": {},
       "output_type": "pyout",
       "prompt_number": 88,
       "text": [
        "             total_bill                  tip                size            \\\n",
        "smoker               No        Yes        No       Yes        No       Yes   \n",
        "sex    day                                                                   \n",
        "Female Fri    19.365000  12.654286  3.125000  2.682857  2.500000  2.000000   \n",
        "       Sat    19.003846  20.266667  2.724615  2.868667  2.307692  2.200000   \n",
        "       Sun    20.824286  16.540000  3.329286  3.500000  3.071429  2.500000   \n",
        "       Thur   16.014400  19.218571  2.459600  2.990000  2.480000  2.428571   \n",
        "Male   Fri    17.475000  20.452500  2.500000  2.741250  2.000000  2.125000   \n",
        "       Sat    19.929063  21.837778  3.256563  2.879259  2.656250  2.629630   \n",
        "       Sun    20.403256  26.141333  3.115349  3.521333  2.883721  2.600000   \n",
        "       Thur   18.486500  19.171000  2.941500  3.058000  2.500000  2.300000   \n",
        "\n",
        "               pct.tip               pct_tip             \n",
        "smoker              No        Yes         No        Yes  \n",
        "sex    day                                               \n",
        "Female Fri   16.529591  20.912912  16.529591  20.912912  \n",
        "       Sat   14.799347  16.381673  14.799347  16.381673  \n",
        "       Sun   16.570992  23.707473  16.570992  23.707473  \n",
        "       Thur  15.597147  16.307257  15.597147  16.307257  \n",
        "Male   Fri   13.800498  14.473025  13.800498  14.473025  \n",
        "       Sat   16.213217  13.906681  16.213217  13.906681  \n",
        "       Sun   15.829067  17.396381  15.829067  17.396381  \n",
        "       Thur  16.570635  16.441676  16.570635  16.441676  "
       ]
      }
     ],
     "prompt_number": 88
    },
    {
     "cell_type": "code",
     "collapsed": false,
     "input": [],
     "language": "python",
     "metadata": {},
     "outputs": []
    }
   ],
   "metadata": {}
  }
 ]
}