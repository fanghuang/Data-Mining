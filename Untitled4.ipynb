{
 "metadata": {
  "name": ""
 },
 "nbformat": 3,
 "nbformat_minor": 0,
 "worksheets": [
  {
   "cells": [
    {
     "cell_type": "code",
     "collapsed": false,
     "input": [
      "import numpy as np\n",
      "import matplotlib.pyplot as plt\n",
      "#bear start from (0,0)\n",
      "angles = np.random.rand(100)*2*np.pi#random angel bear will approach\n",
      "\n",
      "for i in range(100):\n",
      "    xstep = np.cos(angles)*1\n",
      "    ystep = np.sin(angles)*1\n",
      "    x = xstep.cumsum()\n",
      "    y = ystep.cumsum()\n",
      "    \n",
      "plt.plot(x,y)\n",
      "plt.show()"
     ],
     "language": "python",
     "metadata": {},
     "outputs": [],
     "prompt_number": 11
    },
    {
     "cell_type": "code",
     "collapsed": false,
     "input": [],
     "language": "python",
     "metadata": {},
     "outputs": [
      {
       "metadata": {},
       "output_type": "pyout",
       "prompt_number": 8,
       "text": [
        "array([ 0.62204568,  0.53895219,  0.14558729,  0.8938548 ,  0.64915878,\n",
        "        0.1418634 ,  0.94782507,  0.75338845,  0.67663871,  0.37439077])"
       ]
      }
     ],
     "prompt_number": 8
    },
    {
     "cell_type": "code",
     "collapsed": false,
     "input": [],
     "language": "python",
     "metadata": {},
     "outputs": []
    }
   ],
   "metadata": {}
  }
 ]
}