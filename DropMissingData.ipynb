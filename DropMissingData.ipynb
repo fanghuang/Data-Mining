{
 "metadata": {
  "name": ""
 },
 "nbformat": 3,
 "nbformat_minor": 0,
 "worksheets": [
  {
   "cells": [
    {
     "cell_type": "code",
     "collapsed": false,
     "input": [
      "run './Downloads/grades2.py'"
     ],
     "language": "python",
     "metadata": {},
     "outputs": [
      {
       "output_type": "stream",
       "stream": "stdout",
       "text": [
        "quizzes\n",
        "     Q1  Q2  Q3  Q4\n",
        "Bob  60  64  69  65\n",
        "Jim  52  57  59  55\n",
        "Kim  70  75  77  73\n",
        "Sue  90  93  97  95\n",
        "Tom  81  82  84  88\n",
        "\n",
        "lessons\n",
        "     L1  L2  L3  L4\n",
        "Bob  61  67  68  62\n",
        "Jim  56  54  52  53\n",
        "Kim  71  76  72  78\n",
        "Sue  91  92  93  97\n",
        "Tom  80  89  87  89\n",
        "\n",
        "tests\n",
        "     T1  T2  T3\n",
        "Bob  67  63  65\n",
        "Jim  52  51  58\n",
        "Kim  70  74  73\n",
        "Sue  98  97  92\n",
        "Tom  81  86  83\n",
        "\n",
        "weights\n",
        "lessons    0.3\n",
        "quizzes    0.3\n",
        "tests      0.4\n",
        "dtype: float64\n",
        "\n",
        "ID\n",
        "1290    Kim\n",
        "3331    Tom\n",
        "4915    Bob\n",
        "5567    Sue\n",
        "6518    Jim\n",
        "dtype: object\n",
        "\n",
        "year\n",
        "1290    sophomore\n",
        "3331     freshman\n",
        "4915    sophomore\n",
        "5567    sophomore\n",
        "6518     freshman\n",
        "dtype: object\n",
        "\n",
        "major\n",
        "1290    computer science\n",
        "3331    computer science\n",
        "4915    computer science\n",
        "5567         mathematics\n",
        "6518         mathematics\n",
        "dtype: object\n",
        "\n",
        "gender\n",
        "1290    F\n",
        "3331    M\n",
        "4915    M\n",
        "5567    F\n",
        "6518    M\n",
        "dtype: object\n",
        "\n",
        "gradebook\n",
        "     name gender             major       year  lessons  quizzes      tests  \\\n",
        "1290  Kim      F  computer science  sophomore    73.75    74.25  72.333333   \n",
        "3331  Tom      M  computer science   freshman    83.75    86.25  83.333333   \n",
        "4915  Bob      M  computer science  sophomore    64.50    64.50  65.000000   \n",
        "5567  Sue      F       mathematics  sophomore    93.75    93.25  95.666667   \n",
        "6518  Jim      M       mathematics   freshman    55.75    53.75  53.666667   \n",
        "\n",
        "            ave  \n",
        "1290  73.333333  \n",
        "3331  84.333333  \n",
        "4915  64.700000  \n",
        "5567  94.366667  \n",
        "6518  54.316667  "
       ]
      },
      {
       "output_type": "stream",
       "stream": "stdout",
       "text": [
        "\n"
       ]
      }
     ],
     "prompt_number": 7
    },
    {
     "cell_type": "code",
     "collapsed": false,
     "input": [
      "import pandas as pd\n",
      "import matplotlib.pyplot as plt"
     ],
     "language": "python",
     "metadata": {},
     "outputs": [],
     "prompt_number": 8
    },
    {
     "cell_type": "code",
     "collapsed": false,
     "input": [
      "stu=students[students!='freshman']"
     ],
     "language": "python",
     "metadata": {},
     "outputs": [],
     "prompt_number": 9
    },
    {
     "cell_type": "code",
     "collapsed": false,
     "input": [
      "stu.ix[3331,:]=None"
     ],
     "language": "python",
     "metadata": {},
     "outputs": [],
     "prompt_number": 10
    },
    {
     "cell_type": "code",
     "collapsed": false,
     "input": [
      "stu.dropna(how='all')"
     ],
     "language": "python",
     "metadata": {},
     "outputs": [
      {
       "html": [
        "<div style=\"max-height:1000px;max-width:1500px;overflow:auto;\">\n",
        "<table border=\"1\" class=\"dataframe\">\n",
        "  <thead>\n",
        "    <tr style=\"text-align: right;\">\n",
        "      <th></th>\n",
        "      <th>name</th>\n",
        "      <th>gender</th>\n",
        "      <th>major</th>\n",
        "      <th>year</th>\n",
        "    </tr>\n",
        "  </thead>\n",
        "  <tbody>\n",
        "    <tr>\n",
        "      <th>1290</th>\n",
        "      <td> Kim</td>\n",
        "      <td> F</td>\n",
        "      <td> computer science</td>\n",
        "      <td> sophomore</td>\n",
        "    </tr>\n",
        "    <tr>\n",
        "      <th>4915</th>\n",
        "      <td> Bob</td>\n",
        "      <td> M</td>\n",
        "      <td> computer science</td>\n",
        "      <td> sophomore</td>\n",
        "    </tr>\n",
        "    <tr>\n",
        "      <th>5567</th>\n",
        "      <td> Sue</td>\n",
        "      <td> F</td>\n",
        "      <td>      mathematics</td>\n",
        "      <td> sophomore</td>\n",
        "    </tr>\n",
        "    <tr>\n",
        "      <th>6518</th>\n",
        "      <td> Jim</td>\n",
        "      <td> M</td>\n",
        "      <td>      mathematics</td>\n",
        "      <td>       NaN</td>\n",
        "    </tr>\n",
        "  </tbody>\n",
        "</table>\n",
        "</div>"
       ],
       "metadata": {},
       "output_type": "pyout",
       "prompt_number": 11,
       "text": [
        "     name gender             major       year\n",
        "1290  Kim      F  computer science  sophomore\n",
        "4915  Bob      M  computer science  sophomore\n",
        "5567  Sue      F       mathematics  sophomore\n",
        "6518  Jim      M       mathematics        NaN"
       ]
      }
     ],
     "prompt_number": 11
    },
    {
     "cell_type": "code",
     "collapsed": false,
     "input": [
      "stu.dropna(how='all').dropna(axis=1)"
     ],
     "language": "python",
     "metadata": {},
     "outputs": [
      {
       "html": [
        "<div style=\"max-height:1000px;max-width:1500px;overflow:auto;\">\n",
        "<table border=\"1\" class=\"dataframe\">\n",
        "  <thead>\n",
        "    <tr style=\"text-align: right;\">\n",
        "      <th></th>\n",
        "      <th>name</th>\n",
        "      <th>gender</th>\n",
        "      <th>major</th>\n",
        "    </tr>\n",
        "  </thead>\n",
        "  <tbody>\n",
        "    <tr>\n",
        "      <th>1290</th>\n",
        "      <td> Kim</td>\n",
        "      <td> F</td>\n",
        "      <td> computer science</td>\n",
        "    </tr>\n",
        "    <tr>\n",
        "      <th>4915</th>\n",
        "      <td> Bob</td>\n",
        "      <td> M</td>\n",
        "      <td> computer science</td>\n",
        "    </tr>\n",
        "    <tr>\n",
        "      <th>5567</th>\n",
        "      <td> Sue</td>\n",
        "      <td> F</td>\n",
        "      <td>      mathematics</td>\n",
        "    </tr>\n",
        "    <tr>\n",
        "      <th>6518</th>\n",
        "      <td> Jim</td>\n",
        "      <td> M</td>\n",
        "      <td>      mathematics</td>\n",
        "    </tr>\n",
        "  </tbody>\n",
        "</table>\n",
        "</div>"
       ],
       "metadata": {},
       "output_type": "pyout",
       "prompt_number": 12,
       "text": [
        "     name gender             major\n",
        "1290  Kim      F  computer science\n",
        "4915  Bob      M  computer science\n",
        "5567  Sue      F       mathematics\n",
        "6518  Jim      M       mathematics"
       ]
      }
     ],
     "prompt_number": 12
    },
    {
     "cell_type": "code",
     "collapsed": false,
     "input": [
      "stu.fillna(0)"
     ],
     "language": "python",
     "metadata": {},
     "outputs": [
      {
       "html": [
        "<div style=\"max-height:1000px;max-width:1500px;overflow:auto;\">\n",
        "<table border=\"1\" class=\"dataframe\">\n",
        "  <thead>\n",
        "    <tr style=\"text-align: right;\">\n",
        "      <th></th>\n",
        "      <th>name</th>\n",
        "      <th>gender</th>\n",
        "      <th>major</th>\n",
        "      <th>year</th>\n",
        "    </tr>\n",
        "  </thead>\n",
        "  <tbody>\n",
        "    <tr>\n",
        "      <th>1290</th>\n",
        "      <td> Kim</td>\n",
        "      <td> F</td>\n",
        "      <td> computer science</td>\n",
        "      <td> sophomore</td>\n",
        "    </tr>\n",
        "    <tr>\n",
        "      <th>3331</th>\n",
        "      <td>   0</td>\n",
        "      <td> 0</td>\n",
        "      <td>                0</td>\n",
        "      <td>         0</td>\n",
        "    </tr>\n",
        "    <tr>\n",
        "      <th>4915</th>\n",
        "      <td> Bob</td>\n",
        "      <td> M</td>\n",
        "      <td> computer science</td>\n",
        "      <td> sophomore</td>\n",
        "    </tr>\n",
        "    <tr>\n",
        "      <th>5567</th>\n",
        "      <td> Sue</td>\n",
        "      <td> F</td>\n",
        "      <td>      mathematics</td>\n",
        "      <td> sophomore</td>\n",
        "    </tr>\n",
        "    <tr>\n",
        "      <th>6518</th>\n",
        "      <td> Jim</td>\n",
        "      <td> M</td>\n",
        "      <td>      mathematics</td>\n",
        "      <td>         0</td>\n",
        "    </tr>\n",
        "  </tbody>\n",
        "</table>\n",
        "</div>"
       ],
       "metadata": {},
       "output_type": "pyout",
       "prompt_number": 13,
       "text": [
        "     name gender             major       year\n",
        "1290  Kim      F  computer science  sophomore\n",
        "3331    0      0                 0          0\n",
        "4915  Bob      M  computer science  sophomore\n",
        "5567  Sue      F       mathematics  sophomore\n",
        "6518  Jim      M       mathematics          0"
       ]
      }
     ],
     "prompt_number": 13
    },
    {
     "cell_type": "code",
     "collapsed": false,
     "input": [],
     "language": "python",
     "metadata": {},
     "outputs": []
    }
   ],
   "metadata": {}
  }
 ]
}