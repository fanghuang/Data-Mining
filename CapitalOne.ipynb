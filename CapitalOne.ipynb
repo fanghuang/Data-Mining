{
 "metadata": {
  "name": ""
 },
 "nbformat": 3,
 "nbformat_minor": 0,
 "worksheets": [
  {
   "cells": [
    {
     "cell_type": "code",
     "collapsed": false,
     "input": [
      "import pandas as pd\n",
      "from pandas import DataFrame\n",
      "import matplotlib.pyplot as plt\n",
      "pop =pd.read_csv('./Downloads/Metropolitan_Populations__2010-2012_.csv',index_col=0,skipinitialspace=True)\n",
      "%pylab inline"
     ],
     "language": "python",
     "metadata": {},
     "outputs": [
      {
       "output_type": "stream",
       "stream": "stdout",
       "text": [
        "Populating the interactive namespace from numpy and matplotlib\n"
       ]
      },
      {
       "output_type": "stream",
       "stream": "stderr",
       "text": [
        "WARNING: pylab import has clobbered these variables: ['f']\n",
        "`%pylab --no-import-all` prevents importing * from pylab and numpy\n"
       ]
      }
     ],
     "prompt_number": 196
    },
    {
     "cell_type": "code",
     "collapsed": false,
     "input": [
      "pop"
     ],
     "language": "python",
     "metadata": {},
     "outputs": [
      {
       "html": [
        "<pre>\n",
        "&lt;class 'pandas.core.frame.DataFrame'&gt;\n",
        "Index: 19516 entries, Abbeville city, Alabama to Yoder town, Wyoming\n",
        "Data columns (total 3 columns):\n",
        "2010 Population    19516  non-null values\n",
        "2011 Population    19516  non-null values\n",
        "2012 Population    19516  non-null values\n",
        "dtypes: int64(3)\n",
        "</pre>"
       ],
       "metadata": {},
       "output_type": "pyout",
       "prompt_number": 197,
       "text": [
        "<class 'pandas.core.frame.DataFrame'>\n",
        "Index: 19516 entries, Abbeville city, Alabama to Yoder town, Wyoming\n",
        "Data columns (total 3 columns):\n",
        "2010 Population    19516  non-null values\n",
        "2011 Population    19516  non-null values\n",
        "2012 Population    19516  non-null values\n",
        "dtypes: int64(3)"
       ]
      }
     ],
     "prompt_number": 197
    },
    {
     "cell_type": "code",
     "collapsed": false,
     "input": [
      "pop.head()"
     ],
     "language": "python",
     "metadata": {},
     "outputs": [
      {
       "html": [
        "<div style=\"max-height:1000px;max-width:1500px;overflow:auto;\">\n",
        "<table border=\"1\" class=\"dataframe\">\n",
        "  <thead>\n",
        "    <tr style=\"text-align: right;\">\n",
        "      <th></th>\n",
        "      <th>2010 Population</th>\n",
        "      <th>2011 Population</th>\n",
        "      <th>2012 Population</th>\n",
        "    </tr>\n",
        "    <tr>\n",
        "      <th>Geography</th>\n",
        "      <th></th>\n",
        "      <th></th>\n",
        "      <th></th>\n",
        "    </tr>\n",
        "  </thead>\n",
        "  <tbody>\n",
        "    <tr>\n",
        "      <th>Abbeville city, Alabama</th>\n",
        "      <td>  2682</td>\n",
        "      <td>  2688</td>\n",
        "      <td>  2654</td>\n",
        "    </tr>\n",
        "    <tr>\n",
        "      <th>Adamsville city, Alabama</th>\n",
        "      <td>  4518</td>\n",
        "      <td>  4504</td>\n",
        "      <td>  4490</td>\n",
        "    </tr>\n",
        "    <tr>\n",
        "      <th>Addison town, Alabama</th>\n",
        "      <td>   753</td>\n",
        "      <td>   751</td>\n",
        "      <td>   746</td>\n",
        "    </tr>\n",
        "    <tr>\n",
        "      <th>Akron town, Alabama</th>\n",
        "      <td>   355</td>\n",
        "      <td>   345</td>\n",
        "      <td>   344</td>\n",
        "    </tr>\n",
        "    <tr>\n",
        "      <th>Alabaster city, Alabama</th>\n",
        "      <td> 30460</td>\n",
        "      <td> 30690</td>\n",
        "      <td> 30991</td>\n",
        "    </tr>\n",
        "  </tbody>\n",
        "</table>\n",
        "</div>"
       ],
       "metadata": {},
       "output_type": "pyout",
       "prompt_number": 198,
       "text": [
        "                          2010 Population  2011 Population  2012 Population\n",
        "Geography                                                                  \n",
        "Abbeville city, Alabama              2682             2688             2654\n",
        "Adamsville city, Alabama             4518             4504             4490\n",
        "Addison town, Alabama                 753              751              746\n",
        "Akron town, Alabama                   355              345              344\n",
        "Alabaster city, Alabama             30460            30690            30991"
       ]
      }
     ],
     "prompt_number": 198
    },
    {
     "cell_type": "code",
     "collapsed": false,
     "input": [
      "plt.plot(pop['2012 Population'])"
     ],
     "language": "python",
     "metadata": {},
     "outputs": [
      {
       "metadata": {},
       "output_type": "pyout",
       "prompt_number": 199,
       "text": [
        "[<matplotlib.lines.Line2D at 0x83f1810>]"
       ]
      },
      {
       "metadata": {},
       "output_type": "display_data",
       "png": "[encoded data removed]",
       "text": [
        "<matplotlib.figure.Figure at 0x7722490>"
       ]
      }
     ],
     "prompt_number": 199
    },
    {
     "cell_type": "code",
     "collapsed": false,
     "input": [
      "a=pop['2012 Population']-pop['2010 Population']"
     ],
     "language": "python",
     "metadata": {},
     "outputs": [],
     "prompt_number": 200
    },
    {
     "cell_type": "code",
     "collapsed": false,
     "input": [
      "a.head()"
     ],
     "language": "python",
     "metadata": {},
     "outputs": [
      {
       "metadata": {},
       "output_type": "pyout",
       "prompt_number": 201,
       "text": [
        "Geography\n",
        "Abbeville city, Alabama     -28\n",
        "Adamsville city, Alabama    -28\n",
        "Addison town, Alabama        -7\n",
        "Akron town, Alabama         -11\n",
        "Alabaster city, Alabama     531\n",
        "dtype: int64"
       ]
      }
     ],
     "prompt_number": 201
    },
    {
     "cell_type": "code",
     "collapsed": false,
     "input": [
      "b = 1.0*a/pop['2010 Population']"
     ],
     "language": "python",
     "metadata": {},
     "outputs": [],
     "prompt_number": 202
    },
    {
     "cell_type": "code",
     "collapsed": false,
     "input": [
      "b.head()"
     ],
     "language": "python",
     "metadata": {},
     "outputs": [
      {
       "metadata": {},
       "output_type": "pyout",
       "prompt_number": 203,
       "text": [
        "Geography\n",
        "Abbeville city, Alabama    -0.010440\n",
        "Adamsville city, Alabama   -0.006197\n",
        "Addison town, Alabama      -0.009296\n",
        "Akron town, Alabama        -0.030986\n",
        "Alabaster city, Alabama     0.017433\n",
        "dtype: float64"
       ]
      }
     ],
     "prompt_number": 203
    },
    {
     "cell_type": "code",
     "collapsed": false,
     "input": [
      "c = DataFrame(a,columns=['Pop_Increase'])\n",
      "d = DataFrame(b,columns=['Pop_In_Rate'])\n",
      "w=c.sort(['Pop_Increase'],ascending=False)\n",
      "w.head()"
     ],
     "language": "python",
     "metadata": {},
     "outputs": [
      {
       "html": [
        "<div style=\"max-height:1000px;max-width:1500px;overflow:auto;\">\n",
        "<table border=\"1\" class=\"dataframe\">\n",
        "  <thead>\n",
        "    <tr style=\"text-align: right;\">\n",
        "      <th></th>\n",
        "      <th>Pop_Increase</th>\n",
        "    </tr>\n",
        "    <tr>\n",
        "      <th>Geography</th>\n",
        "      <th></th>\n",
        "    </tr>\n",
        "  </thead>\n",
        "  <tbody>\n",
        "    <tr>\n",
        "      <th>New York city, New York</th>\n",
        "      <td> 146700</td>\n",
        "    </tr>\n",
        "    <tr>\n",
        "      <th>Los Angeles city, California</th>\n",
        "      <td>  62018</td>\n",
        "    </tr>\n",
        "    <tr>\n",
        "      <th>Houston city, Texas</th>\n",
        "      <td>  58141</td>\n",
        "    </tr>\n",
        "    <tr>\n",
        "      <th>San Antonio city, Texas</th>\n",
        "      <td>  48982</td>\n",
        "    </tr>\n",
        "    <tr>\n",
        "      <th>Austin city, Texas</th>\n",
        "      <td>  47642</td>\n",
        "    </tr>\n",
        "  </tbody>\n",
        "</table>\n",
        "</div>"
       ],
       "metadata": {},
       "output_type": "pyout",
       "prompt_number": 204,
       "text": [
        "                              Pop_Increase\n",
        "Geography                                 \n",
        "New York city, New York             146700\n",
        "Los Angeles city, California         62018\n",
        "Houston city, Texas                  58141\n",
        "San Antonio city, Texas              48982\n",
        "Austin city, Texas                   47642"
       ]
      }
     ],
     "prompt_number": 204
    },
    {
     "cell_type": "code",
     "collapsed": false,
     "input": [
      "f=c.join(d)\n",
      "f.head()"
     ],
     "language": "python",
     "metadata": {},
     "outputs": [
      {
       "html": [
        "<div style=\"max-height:1000px;max-width:1500px;overflow:auto;\">\n",
        "<table border=\"1\" class=\"dataframe\">\n",
        "  <thead>\n",
        "    <tr style=\"text-align: right;\">\n",
        "      <th></th>\n",
        "      <th>Pop_Increase</th>\n",
        "      <th>Pop_In_Rate</th>\n",
        "    </tr>\n",
        "    <tr>\n",
        "      <th>Geography</th>\n",
        "      <th></th>\n",
        "      <th></th>\n",
        "    </tr>\n",
        "  </thead>\n",
        "  <tbody>\n",
        "    <tr>\n",
        "      <th>Abbeville city, Alabama</th>\n",
        "      <td> -28</td>\n",
        "      <td>-0.010440</td>\n",
        "    </tr>\n",
        "    <tr>\n",
        "      <th>Adamsville city, Alabama</th>\n",
        "      <td> -28</td>\n",
        "      <td>-0.006197</td>\n",
        "    </tr>\n",
        "    <tr>\n",
        "      <th>Addison town, Alabama</th>\n",
        "      <td>  -7</td>\n",
        "      <td>-0.009296</td>\n",
        "    </tr>\n",
        "    <tr>\n",
        "      <th>Akron town, Alabama</th>\n",
        "      <td> -11</td>\n",
        "      <td>-0.030986</td>\n",
        "    </tr>\n",
        "    <tr>\n",
        "      <th>Alabaster city, Alabama</th>\n",
        "      <td> 531</td>\n",
        "      <td> 0.017433</td>\n",
        "    </tr>\n",
        "  </tbody>\n",
        "</table>\n",
        "</div>"
       ],
       "metadata": {},
       "output_type": "pyout",
       "prompt_number": 205,
       "text": [
        "                          Pop_Increase  Pop_In_Rate\n",
        "Geography                                          \n",
        "Abbeville city, Alabama            -28    -0.010440\n",
        "Adamsville city, Alabama           -28    -0.006197\n",
        "Addison town, Alabama               -7    -0.009296\n",
        "Akron town, Alabama                -11    -0.030986\n",
        "Alabaster city, Alabama            531     0.017433"
       ]
      }
     ],
     "prompt_number": 205
    },
    {
     "cell_type": "code",
     "collapsed": false,
     "input": [
      "g=f.join(pop)"
     ],
     "language": "python",
     "metadata": {},
     "outputs": [],
     "prompt_number": 211
    },
    {
     "cell_type": "code",
     "collapsed": false,
     "input": [
      "g.head()"
     ],
     "language": "python",
     "metadata": {},
     "outputs": [
      {
       "html": [
        "<div style=\"max-height:1000px;max-width:1500px;overflow:auto;\">\n",
        "<table border=\"1\" class=\"dataframe\">\n",
        "  <thead>\n",
        "    <tr style=\"text-align: right;\">\n",
        "      <th></th>\n",
        "      <th>Pop_Increase</th>\n",
        "      <th>Pop_In_Rate</th>\n",
        "      <th>2010 Population</th>\n",
        "      <th>2011 Population</th>\n",
        "      <th>2012 Population</th>\n",
        "    </tr>\n",
        "    <tr>\n",
        "      <th>Geography</th>\n",
        "      <th></th>\n",
        "      <th></th>\n",
        "      <th></th>\n",
        "      <th></th>\n",
        "      <th></th>\n",
        "    </tr>\n",
        "  </thead>\n",
        "  <tbody>\n",
        "    <tr>\n",
        "      <th>Abbeville city, Alabama</th>\n",
        "      <td> -28</td>\n",
        "      <td>-0.010440</td>\n",
        "      <td>  2682</td>\n",
        "      <td>  2688</td>\n",
        "      <td>  2654</td>\n",
        "    </tr>\n",
        "    <tr>\n",
        "      <th>Adamsville city, Alabama</th>\n",
        "      <td> -28</td>\n",
        "      <td>-0.006197</td>\n",
        "      <td>  4518</td>\n",
        "      <td>  4504</td>\n",
        "      <td>  4490</td>\n",
        "    </tr>\n",
        "    <tr>\n",
        "      <th>Addison town, Alabama</th>\n",
        "      <td>  -7</td>\n",
        "      <td>-0.009296</td>\n",
        "      <td>   753</td>\n",
        "      <td>   751</td>\n",
        "      <td>   746</td>\n",
        "    </tr>\n",
        "    <tr>\n",
        "      <th>Akron town, Alabama</th>\n",
        "      <td> -11</td>\n",
        "      <td>-0.030986</td>\n",
        "      <td>   355</td>\n",
        "      <td>   345</td>\n",
        "      <td>   344</td>\n",
        "    </tr>\n",
        "    <tr>\n",
        "      <th>Alabaster city, Alabama</th>\n",
        "      <td> 531</td>\n",
        "      <td> 0.017433</td>\n",
        "      <td> 30460</td>\n",
        "      <td> 30690</td>\n",
        "      <td> 30991</td>\n",
        "    </tr>\n",
        "  </tbody>\n",
        "</table>\n",
        "</div>"
       ],
       "metadata": {},
       "output_type": "pyout",
       "prompt_number": 212,
       "text": [
        "                          Pop_Increase  Pop_In_Rate  2010 Population  \\\n",
        "Geography                                                              \n",
        "Abbeville city, Alabama            -28    -0.010440             2682   \n",
        "Adamsville city, Alabama           -28    -0.006197             4518   \n",
        "Addison town, Alabama               -7    -0.009296              753   \n",
        "Akron town, Alabama                -11    -0.030986              355   \n",
        "Alabaster city, Alabama            531     0.017433            30460   \n",
        "\n",
        "                          2011 Population  2012 Population  \n",
        "Geography                                                   \n",
        "Abbeville city, Alabama              2688             2654  \n",
        "Adamsville city, Alabama             4504             4490  \n",
        "Addison town, Alabama                 751              746  \n",
        "Akron town, Alabama                   345              344  \n",
        "Alabaster city, Alabama             30690            30991  "
       ]
      }
     ],
     "prompt_number": 212
    },
    {
     "cell_type": "code",
     "collapsed": false,
     "input": [
      "h=g[['2012 Population'] < 50000 ]"
     ],
     "language": "python",
     "metadata": {},
     "outputs": [
      {
       "ename": "KeyError",
       "evalue": "u'no item named False'",
       "output_type": "pyerr",
       "traceback": [
        "\u001b[1;31m---------------------------------------------------------------------------\u001b[0m\n\u001b[1;31mKeyError\u001b[0m                                  Traceback (most recent call last)",
        "\u001b[1;32m<ipython-input-217-df518d1cb817>\u001b[0m in \u001b[0;36m<module>\u001b[1;34m()\u001b[0m\n\u001b[1;32m----> 1\u001b[1;33m \u001b[0mh\u001b[0m\u001b[1;33m=\u001b[0m\u001b[0mg\u001b[0m\u001b[1;33m[\u001b[0m\u001b[1;33m[\u001b[0m\u001b[1;34m'2012 Population'\u001b[0m\u001b[1;33m]\u001b[0m \u001b[1;33m<\u001b[0m \u001b[1;36m50000\u001b[0m \u001b[1;33m]\u001b[0m\u001b[1;33m\u001b[0m\u001b[0m\n\u001b[0m",
        "\u001b[1;32m/home/huangf/anaconda/lib/python2.7/site-packages/pandas/core/frame.pyc\u001b[0m in \u001b[0;36m__getitem__\u001b[1;34m(self, key)\u001b[0m\n\u001b[0;32m   2001\u001b[0m             \u001b[1;31m# get column\u001b[0m\u001b[1;33m\u001b[0m\u001b[1;33m\u001b[0m\u001b[0m\n\u001b[0;32m   2002\u001b[0m             \u001b[1;32mif\u001b[0m \u001b[0mself\u001b[0m\u001b[1;33m.\u001b[0m\u001b[0mcolumns\u001b[0m\u001b[1;33m.\u001b[0m\u001b[0mis_unique\u001b[0m\u001b[1;33m:\u001b[0m\u001b[1;33m\u001b[0m\u001b[0m\n\u001b[1;32m-> 2003\u001b[1;33m                 \u001b[1;32mreturn\u001b[0m \u001b[0mself\u001b[0m\u001b[1;33m.\u001b[0m\u001b[0m_get_item_cache\u001b[0m\u001b[1;33m(\u001b[0m\u001b[0mkey\u001b[0m\u001b[1;33m)\u001b[0m\u001b[1;33m\u001b[0m\u001b[0m\n\u001b[0m\u001b[0;32m   2004\u001b[0m \u001b[1;33m\u001b[0m\u001b[0m\n\u001b[0;32m   2005\u001b[0m             \u001b[1;31m# duplicate columns\u001b[0m\u001b[1;33m\u001b[0m\u001b[1;33m\u001b[0m\u001b[0m\n",
        "\u001b[1;32m/home/huangf/anaconda/lib/python2.7/site-packages/pandas/core/generic.pyc\u001b[0m in \u001b[0;36m_get_item_cache\u001b[1;34m(self, item)\u001b[0m\n\u001b[0;32m    665\u001b[0m             \u001b[1;32mreturn\u001b[0m \u001b[0mcache\u001b[0m\u001b[1;33m[\u001b[0m\u001b[0mitem\u001b[0m\u001b[1;33m]\u001b[0m\u001b[1;33m\u001b[0m\u001b[0m\n\u001b[0;32m    666\u001b[0m         \u001b[1;32mexcept\u001b[0m \u001b[0mException\u001b[0m\u001b[1;33m:\u001b[0m\u001b[1;33m\u001b[0m\u001b[0m\n\u001b[1;32m--> 667\u001b[1;33m             \u001b[0mvalues\u001b[0m \u001b[1;33m=\u001b[0m \u001b[0mself\u001b[0m\u001b[1;33m.\u001b[0m\u001b[0m_data\u001b[0m\u001b[1;33m.\u001b[0m\u001b[0mget\u001b[0m\u001b[1;33m(\u001b[0m\u001b[0mitem\u001b[0m\u001b[1;33m)\u001b[0m\u001b[1;33m\u001b[0m\u001b[0m\n\u001b[0m\u001b[0;32m    668\u001b[0m             \u001b[0mres\u001b[0m \u001b[1;33m=\u001b[0m \u001b[0mself\u001b[0m\u001b[1;33m.\u001b[0m\u001b[0m_box_item_values\u001b[0m\u001b[1;33m(\u001b[0m\u001b[0mitem\u001b[0m\u001b[1;33m,\u001b[0m \u001b[0mvalues\u001b[0m\u001b[1;33m)\u001b[0m\u001b[1;33m\u001b[0m\u001b[0m\n\u001b[0;32m    669\u001b[0m             \u001b[0mcache\u001b[0m\u001b[1;33m[\u001b[0m\u001b[0mitem\u001b[0m\u001b[1;33m]\u001b[0m \u001b[1;33m=\u001b[0m \u001b[0mres\u001b[0m\u001b[1;33m\u001b[0m\u001b[0m\n",
        "\u001b[1;32m/home/huangf/anaconda/lib/python2.7/site-packages/pandas/core/internals.pyc\u001b[0m in \u001b[0;36mget\u001b[1;34m(self, item)\u001b[0m\n\u001b[0;32m   1653\u001b[0m     \u001b[1;32mdef\u001b[0m \u001b[0mget\u001b[0m\u001b[1;33m(\u001b[0m\u001b[0mself\u001b[0m\u001b[1;33m,\u001b[0m \u001b[0mitem\u001b[0m\u001b[1;33m)\u001b[0m\u001b[1;33m:\u001b[0m\u001b[1;33m\u001b[0m\u001b[0m\n\u001b[0;32m   1654\u001b[0m         \u001b[1;32mif\u001b[0m \u001b[0mself\u001b[0m\u001b[1;33m.\u001b[0m\u001b[0mitems\u001b[0m\u001b[1;33m.\u001b[0m\u001b[0mis_unique\u001b[0m\u001b[1;33m:\u001b[0m\u001b[1;33m\u001b[0m\u001b[0m\n\u001b[1;32m-> 1655\u001b[1;33m             \u001b[0m_\u001b[0m\u001b[1;33m,\u001b[0m \u001b[0mblock\u001b[0m \u001b[1;33m=\u001b[0m \u001b[0mself\u001b[0m\u001b[1;33m.\u001b[0m\u001b[0m_find_block\u001b[0m\u001b[1;33m(\u001b[0m\u001b[0mitem\u001b[0m\u001b[1;33m)\u001b[0m\u001b[1;33m\u001b[0m\u001b[0m\n\u001b[0m\u001b[0;32m   1656\u001b[0m             \u001b[1;32mreturn\u001b[0m \u001b[0mblock\u001b[0m\u001b[1;33m.\u001b[0m\u001b[0mget\u001b[0m\u001b[1;33m(\u001b[0m\u001b[0mitem\u001b[0m\u001b[1;33m)\u001b[0m\u001b[1;33m\u001b[0m\u001b[0m\n\u001b[0;32m   1657\u001b[0m         \u001b[1;32melse\u001b[0m\u001b[1;33m:\u001b[0m\u001b[1;33m\u001b[0m\u001b[0m\n",
        "\u001b[1;32m/home/huangf/anaconda/lib/python2.7/site-packages/pandas/core/internals.pyc\u001b[0m in \u001b[0;36m_find_block\u001b[1;34m(self, item)\u001b[0m\n\u001b[0;32m   1933\u001b[0m \u001b[1;33m\u001b[0m\u001b[0m\n\u001b[0;32m   1934\u001b[0m     \u001b[1;32mdef\u001b[0m \u001b[0m_find_block\u001b[0m\u001b[1;33m(\u001b[0m\u001b[0mself\u001b[0m\u001b[1;33m,\u001b[0m \u001b[0mitem\u001b[0m\u001b[1;33m)\u001b[0m\u001b[1;33m:\u001b[0m\u001b[1;33m\u001b[0m\u001b[0m\n\u001b[1;32m-> 1935\u001b[1;33m         \u001b[0mself\u001b[0m\u001b[1;33m.\u001b[0m\u001b[0m_check_have\u001b[0m\u001b[1;33m(\u001b[0m\u001b[0mitem\u001b[0m\u001b[1;33m)\u001b[0m\u001b[1;33m\u001b[0m\u001b[0m\n\u001b[0m\u001b[0;32m   1936\u001b[0m         \u001b[1;32mfor\u001b[0m \u001b[0mi\u001b[0m\u001b[1;33m,\u001b[0m \u001b[0mblock\u001b[0m \u001b[1;32min\u001b[0m \u001b[0menumerate\u001b[0m\u001b[1;33m(\u001b[0m\u001b[0mself\u001b[0m\u001b[1;33m.\u001b[0m\u001b[0mblocks\u001b[0m\u001b[1;33m)\u001b[0m\u001b[1;33m:\u001b[0m\u001b[1;33m\u001b[0m\u001b[0m\n\u001b[0;32m   1937\u001b[0m             \u001b[1;32mif\u001b[0m \u001b[0mitem\u001b[0m \u001b[1;32min\u001b[0m \u001b[0mblock\u001b[0m\u001b[1;33m:\u001b[0m\u001b[1;33m\u001b[0m\u001b[0m\n",
        "\u001b[1;32m/home/huangf/anaconda/lib/python2.7/site-packages/pandas/core/internals.pyc\u001b[0m in \u001b[0;36m_check_have\u001b[1;34m(self, item)\u001b[0m\n\u001b[0;32m   1940\u001b[0m     \u001b[1;32mdef\u001b[0m \u001b[0m_check_have\u001b[0m\u001b[1;33m(\u001b[0m\u001b[0mself\u001b[0m\u001b[1;33m,\u001b[0m \u001b[0mitem\u001b[0m\u001b[1;33m)\u001b[0m\u001b[1;33m:\u001b[0m\u001b[1;33m\u001b[0m\u001b[0m\n\u001b[0;32m   1941\u001b[0m         \u001b[1;32mif\u001b[0m \u001b[0mitem\u001b[0m \u001b[1;32mnot\u001b[0m \u001b[1;32min\u001b[0m \u001b[0mself\u001b[0m\u001b[1;33m.\u001b[0m\u001b[0mitems\u001b[0m\u001b[1;33m:\u001b[0m\u001b[1;33m\u001b[0m\u001b[0m\n\u001b[1;32m-> 1942\u001b[1;33m             \u001b[1;32mraise\u001b[0m \u001b[0mKeyError\u001b[0m\u001b[1;33m(\u001b[0m\u001b[1;34m'no item named %s'\u001b[0m \u001b[1;33m%\u001b[0m \u001b[0mcom\u001b[0m\u001b[1;33m.\u001b[0m\u001b[0mpprint_thing\u001b[0m\u001b[1;33m(\u001b[0m\u001b[0mitem\u001b[0m\u001b[1;33m)\u001b[0m\u001b[1;33m)\u001b[0m\u001b[1;33m\u001b[0m\u001b[0m\n\u001b[0m\u001b[0;32m   1943\u001b[0m \u001b[1;33m\u001b[0m\u001b[0m\n\u001b[0;32m   1944\u001b[0m     \u001b[1;32mdef\u001b[0m \u001b[0mreindex_axis\u001b[0m\u001b[1;33m(\u001b[0m\u001b[0mself\u001b[0m\u001b[1;33m,\u001b[0m \u001b[0mnew_axis\u001b[0m\u001b[1;33m,\u001b[0m \u001b[0mmethod\u001b[0m\u001b[1;33m=\u001b[0m\u001b[0mNone\u001b[0m\u001b[1;33m,\u001b[0m \u001b[0maxis\u001b[0m\u001b[1;33m=\u001b[0m\u001b[1;36m0\u001b[0m\u001b[1;33m,\u001b[0m \u001b[0mcopy\u001b[0m\u001b[1;33m=\u001b[0m\u001b[0mTrue\u001b[0m\u001b[1;33m)\u001b[0m\u001b[1;33m:\u001b[0m\u001b[1;33m\u001b[0m\u001b[0m\n",
        "\u001b[1;31mKeyError\u001b[0m: u'no item named False'"
       ]
      }
     ],
     "prompt_number": 217
    },
    {
     "cell_type": "code",
     "collapsed": false,
     "input": [
      "h.head()"
     ],
     "language": "python",
     "metadata": {},
     "outputs": [
      {
       "html": [
        "<div style=\"max-height:1000px;max-width:1500px;overflow:auto;\">\n",
        "<table border=\"1\" class=\"dataframe\">\n",
        "  <thead>\n",
        "    <tr style=\"text-align: right;\">\n",
        "      <th></th>\n",
        "      <th>Pop_Increase</th>\n",
        "      <th>Pop_In_Rate</th>\n",
        "      <th>2010 Population</th>\n",
        "      <th>2011 Population</th>\n",
        "      <th>2012 Population</th>\n",
        "    </tr>\n",
        "    <tr>\n",
        "      <th>Geography</th>\n",
        "      <th></th>\n",
        "      <th></th>\n",
        "      <th></th>\n",
        "      <th></th>\n",
        "      <th></th>\n",
        "    </tr>\n",
        "  </thead>\n",
        "  <tbody>\n",
        "    <tr>\n",
        "      <th>Goss town, Missouri</th>\n",
        "      <td>   0</td>\n",
        "      <td>      inf</td>\n",
        "      <td>    0</td>\n",
        "      <td>    0</td>\n",
        "      <td>    0</td>\n",
        "    </tr>\n",
        "    <tr>\n",
        "      <th>Granville town, West Virginia</th>\n",
        "      <td> 691</td>\n",
        "      <td> 0.879135</td>\n",
        "      <td>  786</td>\n",
        "      <td>  798</td>\n",
        "      <td> 1477</td>\n",
        "    </tr>\n",
        "    <tr>\n",
        "      <th>Timnath town, Colorado</th>\n",
        "      <td> 530</td>\n",
        "      <td> 0.845295</td>\n",
        "      <td>  627</td>\n",
        "      <td>  793</td>\n",
        "      <td> 1157</td>\n",
        "    </tr>\n",
        "    <tr>\n",
        "      <th>Vineyard town, Utah</th>\n",
        "      <td>  92</td>\n",
        "      <td> 0.643357</td>\n",
        "      <td>  143</td>\n",
        "      <td>  180</td>\n",
        "      <td>  235</td>\n",
        "    </tr>\n",
        "    <tr>\n",
        "      <th>Fulshear city, Texas</th>\n",
        "      <td> 709</td>\n",
        "      <td> 0.603918</td>\n",
        "      <td> 1174</td>\n",
        "      <td> 1178</td>\n",
        "      <td> 1883</td>\n",
        "    </tr>\n",
        "  </tbody>\n",
        "</table>\n",
        "</div>"
       ],
       "metadata": {},
       "output_type": "pyout",
       "prompt_number": 215,
       "text": [
        "                               Pop_Increase  Pop_In_Rate  2010 Population  \\\n",
        "Geography                                                                   \n",
        "Goss town, Missouri                       0          inf                0   \n",
        "Granville town, West Virginia           691     0.879135              786   \n",
        "Timnath town, Colorado                  530     0.845295              627   \n",
        "Vineyard town, Utah                      92     0.643357              143   \n",
        "Fulshear city, Texas                    709     0.603918             1174   \n",
        "\n",
        "                               2011 Population  2012 Population  \n",
        "Geography                                                        \n",
        "Goss town, Missouri                          0                0  \n",
        "Granville town, West Virginia              798             1477  \n",
        "Timnath town, Colorado                     793             1157  \n",
        "Vineyard town, Utah                        180              235  \n",
        "Fulshear city, Texas                      1178             1883  "
       ]
      }
     ],
     "prompt_number": 215
    },
    {
     "cell_type": "code",
     "collapsed": false,
     "input": [],
     "language": "python",
     "metadata": {},
     "outputs": [],
     "prompt_number": 215
    },
    {
     "cell_type": "code",
     "collapsed": false,
     "input": [],
     "language": "python",
     "metadata": {},
     "outputs": []
    }
   ],
   "metadata": {}
  }
 ]
}