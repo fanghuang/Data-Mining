{
 "metadata": {
  "name": ""
 },
 "nbformat": 3,
 "nbformat_minor": 0,
 "worksheets": [
  {
   "cells": [
    {
     "cell_type": "code",
     "collapsed": false,
     "input": [
      "import pandas as pd\n",
      "finalA = pd.read_csv('Documents/grades/finalA.csv',index_col = 0)\n",
      "finalB = pd.read_csv('Documents/grades/finalB.csv',index_col = 0)\n",
      "homeworkA = pd.read_csv('Documents/grades/homeworkA.csv',index_col = 0)\n",
      "homeworkB = pd.read_csv('Documents/grades/homeworkB.csv',index_col = 0)\n",
      "lessonsA = pd.read_csv('Documents/grades/lessonsA.csv',index_col = 0)\n",
      "lessonsB = pd.read_csv('Documents/grades/lessonsB.csv',index_col = 0)\n",
      "quizzesA2 = pd.read_csv('Documents/grades/quizzesA2.csv',index_col = 0)\n",
      "quizzesB2 = pd.read_csv('Documents/grades/quizzesB2.csv',index_col = 0)\n",
      "testsA = pd.read_csv('Documents/grades/testsA.csv',index_col = 0)\n",
      "testsB = pd.read_csv('Documents/grades/testsB.csv',index_col = 0)\n",
      "MaxScore = pd.read_csv('Documents/grades/MaxScore.csv',header= None,index_col = 0)\n",
      "weights = pd.read_csv('Documents/grades/weights.csv',header= None,index_col = 0,squeeze=True)\n"
     ],
     "language": "python",
     "metadata": {},
     "outputs": [],
     "prompt_number": 209
    },
    {
     "cell_type": "code",
     "collapsed": false,
     "input": [
      "H_aveA = (100.0 * homeworkA / MaxScore.ix['H1':'H15',1]).mean(axis=1)\n",
      "H_aveB = (100.0 * homeworkB / MaxScore.ix['H1':'H15',1]).mean(axis=1)"
     ],
     "language": "python",
     "metadata": {},
     "outputs": [],
     "prompt_number": 210
    },
    {
     "cell_type": "code",
     "collapsed": false,
     "input": [
      "H_aveA #calculate the average hw score of each student"
     ],
     "language": "python",
     "metadata": {},
     "outputs": [
      {
       "metadata": {},
       "output_type": "pyout",
       "prompt_number": 211,
       "text": [
        "1     73.808797\n",
        "2     70.908444\n",
        "3     87.340947\n",
        "4     80.728555\n",
        "5     82.801005\n",
        "6     79.491745\n",
        "7     84.916468\n",
        "8     73.693702\n",
        "9     86.708656\n",
        "10    88.094138\n",
        "11    82.409358\n",
        "12    71.859741\n",
        "13    91.335026\n",
        "14    89.092380\n",
        "15    77.163082\n",
        "16    82.545101\n",
        "17    72.881609\n",
        "18    84.008503\n",
        "19    78.171783\n",
        "20    68.122058\n",
        "dtype: float64"
       ]
      }
     ],
     "prompt_number": 211
    },
    {
     "cell_type": "code",
     "collapsed": false,
     "input": [
      "T_aveA = (100.0 * testsA / MaxScore.ix['T1':'T3',1]).mean(axis=1)\n",
      "T_aveB = (100.0 * testsB / MaxScore.ix['T1':'T3',1]).mean(axis=1)"
     ],
     "language": "python",
     "metadata": {},
     "outputs": [],
     "prompt_number": 212
    },
    {
     "cell_type": "code",
     "collapsed": false,
     "input": [
      "T_aveA #calculate the average test score of each student"
     ],
     "language": "python",
     "metadata": {},
     "outputs": [
      {
       "metadata": {},
       "output_type": "pyout",
       "prompt_number": 213,
       "text": [
        "1     85.000000\n",
        "2     85.000000\n",
        "3     91.666667\n",
        "4     68.333333\n",
        "5     69.166667\n",
        "6     70.833333\n",
        "7     80.833333\n",
        "8     64.166667\n",
        "9     75.000000\n",
        "10    94.166667\n",
        "11    63.333333\n",
        "12    67.500000\n",
        "13    91.666667\n",
        "14    87.500000\n",
        "15    80.000000\n",
        "16    79.166667\n",
        "17    70.000000\n",
        "18    88.333333\n",
        "19    65.000000\n",
        "20    50.833333\n",
        "dtype: float64"
       ]
      }
     ],
     "prompt_number": 213
    },
    {
     "cell_type": "code",
     "collapsed": false,
     "input": [
      "F_aveA = (100.0 * finalA / MaxScore.ix['F1':'F2',1]).mean(axis=1)\n",
      "F_aveB = (100.0 * finalB / MaxScore.ix['F1':'F2',1]).mean(axis=1)"
     ],
     "language": "python",
     "metadata": {},
     "outputs": [],
     "prompt_number": 214
    },
    {
     "cell_type": "code",
     "collapsed": false,
     "input": [
      "F_aveA #calculate the average final score of each student"
     ],
     "language": "python",
     "metadata": {},
     "outputs": [
      {
       "metadata": {},
       "output_type": "pyout",
       "prompt_number": 215,
       "text": [
        "1     61.695652\n",
        "2     78.956522\n",
        "3     75.130435\n",
        "4     78.217391\n",
        "5     68.782609\n",
        "6     63.347826\n",
        "7     70.043478\n",
        "8     56.782609\n",
        "9     77.478261\n",
        "10    92.739130\n",
        "11    82.217391\n",
        "12    73.304348\n",
        "13    94.000000\n",
        "14    92.739130\n",
        "15    70.043478\n",
        "16    83.304348\n",
        "17    74.391304\n",
        "18    79.478261\n",
        "19    75.869565\n",
        "20    65.130435\n",
        "dtype: float64"
       ]
      }
     ],
     "prompt_number": 215
    },
    {
     "cell_type": "code",
     "collapsed": false,
     "input": [
      "L_aveA = (100.0 * lessonsA / MaxScore.ix['L1':'L5',1]).mean(axis=1)\n",
      "L_aveB = (100.0 * lessonsB / MaxScore.ix['L1':'L5',1]).mean(axis=1)"
     ],
     "language": "python",
     "metadata": {},
     "outputs": [],
     "prompt_number": 216
    },
    {
     "cell_type": "code",
     "collapsed": false,
     "input": [
      "L_aveA #calculate the average lessons score of each student"
     ],
     "language": "python",
     "metadata": {},
     "outputs": [
      {
       "metadata": {},
       "output_type": "pyout",
       "prompt_number": 217,
       "text": [
        "1      90.000000\n",
        "2      86.000000\n",
        "3     100.000000\n",
        "4      94.000000\n",
        "5      90.000000\n",
        "6      92.000000\n",
        "7     100.000000\n",
        "8      82.000000\n",
        "9      98.000000\n",
        "10    100.000000\n",
        "11     96.000000\n",
        "12     92.000000\n",
        "13    100.000000\n",
        "14    100.000000\n",
        "15     98.000000\n",
        "16     98.000000\n",
        "17     88.000000\n",
        "18     98.000000\n",
        "19     96.666667\n",
        "20     72.000000\n",
        "dtype: float64"
       ]
      }
     ],
     "prompt_number": 217
    },
    {
     "cell_type": "code",
     "collapsed": false,
     "input": [
      "Q_aveA = (100.0 * quizzesA2 / MaxScore.ix['Q1':'Q6',1]).mean(axis=1)\n",
      "Q_aveB = (100.0 * quizzesB2 / MaxScore.ix['Q1':'Q6',1]).mean(axis=1)"
     ],
     "language": "python",
     "metadata": {},
     "outputs": [],
     "prompt_number": 218
    },
    {
     "cell_type": "code",
     "collapsed": false,
     "input": [
      "Q_aveA #calculate the average quizzes score of each student"
     ],
     "language": "python",
     "metadata": {},
     "outputs": [
      {
       "metadata": {},
       "output_type": "pyout",
       "prompt_number": 219,
       "text": [
        "1     81.666667\n",
        "2     88.333333\n",
        "3     85.000000\n",
        "4     91.666667\n",
        "5     83.333333\n",
        "6     81.666667\n",
        "7     70.000000\n",
        "8     61.666667\n",
        "9     80.000000\n",
        "10    95.000000\n",
        "11    83.333333\n",
        "12    80.000000\n",
        "13    91.666667\n",
        "14    91.666667\n",
        "15    90.000000\n",
        "16    81.666667\n",
        "17    70.000000\n",
        "18    78.333333\n",
        "19    78.333333\n",
        "20    63.333333\n",
        "dtype: float64"
       ]
      }
     ],
     "prompt_number": 219
    },
    {
     "cell_type": "code",
     "collapsed": false,
     "input": [
      "weights"
     ],
     "language": "python",
     "metadata": {},
     "outputs": [
      {
       "metadata": {},
       "output_type": "pyout",
       "prompt_number": 220,
       "text": [
        "0\n",
        "tests       0.450\n",
        "final       0.250\n",
        "homework    0.150\n",
        "quizzes     0.075\n",
        "lessons     0.075\n",
        "Name: 1, dtype: float64"
       ]
      }
     ],
     "prompt_number": 220
    },
    {
     "cell_type": "code",
     "collapsed": false,
     "input": [
      "A_courseAve = weights['tests'] * T_aveA + weights['final'] * F_aveA + weights['homework'] * H_aveA + weights['quizzes']*Q_aveA+weights['lessons']*L_aveA\n",
      "A_courseAve # average times weights get course average."
     ],
     "language": "python",
     "metadata": {},
     "outputs": [
      {
       "metadata": {},
       "output_type": "pyout",
       "prompt_number": 221,
       "text": [
        "1     77.620233\n",
        "2     81.700397\n",
        "3     87.008751\n",
        "4     76.338631\n",
        "5     73.740803\n",
        "6     72.660718\n",
        "7     79.373340\n",
        "8     64.899707\n",
        "9     79.475864\n",
        "10    93.398903\n",
        "11    74.865752\n",
        "12    72.380048\n",
        "13    92.825254\n",
        "14    90.298640\n",
        "15    79.185332\n",
        "16    82.307852\n",
        "17    72.880067\n",
        "18    85.445841\n",
        "19    73.068159\n",
        "20    59.525917\n",
        "dtype: float64"
       ]
      }
     ],
     "prompt_number": 221
    },
    {
     "cell_type": "code",
     "collapsed": false,
     "input": [
      "B_courseAve = weights['tests'] * T_aveB + weights['final'] * F_aveB + weights['homework'] * H_aveB + weights['quizzes']*Q_aveB+weights['lessons']*L_aveB\n",
      "B_courseAve"
     ],
     "language": "python",
     "metadata": {},
     "outputs": [
      {
       "metadata": {},
       "output_type": "pyout",
       "prompt_number": 222,
       "text": [
        "1     72.098995\n",
        "2     76.701377\n",
        "3     83.499792\n",
        "4     68.660841\n",
        "5     91.686374\n",
        "6     72.919026\n",
        "7     75.432210\n",
        "8     76.528391\n",
        "9     83.563006\n",
        "10    76.610698\n",
        "11    74.460711\n",
        "12    86.769488\n",
        "13    88.972938\n",
        "14    78.172030\n",
        "15    66.827382\n",
        "16    73.255323\n",
        "17    86.286573\n",
        "18    71.930621\n",
        "19    92.008593\n",
        "20    88.455770\n",
        "dtype: float64"
       ]
      }
     ],
     "prompt_number": 222
    },
    {
     "cell_type": "code",
     "collapsed": false,
     "input": [
      "# calculate percent of score\n",
      "TperA=1.0*testsA / MaxScore.ix['T1':'T3',1]\n",
      "TperB=1.0*testsB / MaxScore.ix['T1':'T3',1]\n",
      "FperA=1.0*finalA / MaxScore.ix['F1':'F2',1]\n",
      "FperB=1.0*finalB / MaxScore.ix['F1':'F2',1]\n",
      "LperA=1.0*lessonsA / MaxScore.ix['L1':'L6',1]\n",
      "LperB=1.0*lessonsB / MaxScore.ix['L1':'L6',1]\n",
      "QperA=1.0*quizzesA2 / MaxScore.ix['Q1':'Q6',1]\n",
      "QperB=1.0*quizzesB2 / MaxScore.ix['Q1':'Q6',1]\n",
      "HperA=1.0*homeworkA / MaxScore.ix['H1':'H15',1]\n",
      "HperB=1.0*homeworkB / MaxScore.ix['H1':'H15',1]"
     ],
     "language": "python",
     "metadata": {},
     "outputs": [],
     "prompt_number": 223
    },
    {
     "cell_type": "code",
     "collapsed": false,
     "input": [
      "# using rank to drop the lower percent score\n",
      "AT=TperA[TperA.rank(axis=1,method='first')!=1]\n",
      "BT=TperB[TperB.rank(axis=1,method='first')!=1]\n",
      "AF=FperA[FperA.rank(axis=1,method='first')!=1]\n",
      "BF=FperB[FperB.rank(axis=1,method='first')!=1]\n",
      "AL=LperA[LperA.rank(axis=1,method='first')!=1]\n",
      "BL=LperB[LperB.rank(axis=1,method='first')!=1]\n",
      "AQ=QperA[QperA.rank(axis=1,method='first')!=1]\n",
      "BQ=QperB[QperB.rank(axis=1,method='first')!=1]\n",
      "AH=HperA[HperA.rank(axis=1,method='first')!=1]\n",
      "BH=HperB[HperB.rank(axis=1,method='first')!=1]"
     ],
     "language": "python",
     "metadata": {},
     "outputs": [],
     "prompt_number": 224
    },
    {
     "cell_type": "code",
     "collapsed": false,
     "input": [
      "AT=AT.mean(axis=1)\n",
      "BT=BT.mean(axis=1)\n",
      "AF=AF.mean(axis=1)\n",
      "BF=BF.mean(axis=1)\n",
      "AL=AL.mean(axis=1)\n",
      "BL=BL.mean(axis=1)\n",
      "AQ=AQ.mean(axis=1)\n",
      "BQ=BQ.mean(axis=1)\n",
      "AH=AH.mean(axis=1)\n",
      "BH=BH.mean(axis=1)"
     ],
     "language": "python",
     "metadata": {},
     "outputs": [],
     "prompt_number": 225
    },
    {
     "cell_type": "code",
     "collapsed": false,
     "input": [
      "A_courseAve_drop = 100*(weights['tests'] * AT + weights['final'] * AF + weights['homework'] * AH + weights['quizzes']*AQ+weights['lessons']*AL)\n",
      "A_courseAve_drop"
     ],
     "language": "python",
     "metadata": {},
     "outputs": [
      {
       "metadata": {},
       "output_type": "pyout",
       "prompt_number": 226,
       "text": [
        "1     81.283826\n",
        "2     86.979929\n",
        "3     90.807136\n",
        "4     83.307155\n",
        "5     78.774204\n",
        "6     77.106099\n",
        "7     83.624113\n",
        "8     72.873030\n",
        "9     86.007345\n",
        "10    96.194751\n",
        "11    80.004337\n",
        "12    83.127336\n",
        "13    97.002568\n",
        "14    94.190960\n",
        "15    84.152936\n",
        "16    85.723381\n",
        "17    78.692101\n",
        "18    88.841047\n",
        "19    78.689929\n",
        "20    67.515473\n",
        "dtype: float64"
       ]
      }
     ],
     "prompt_number": 226
    },
    {
     "cell_type": "code",
     "collapsed": false,
     "input": [
      "B_courseAve_drop = 100*(weights['tests'] * BT + weights['final'] * BF + weights['homework'] * BH + weights['quizzes']*BQ+weights['lessons']*BL)\n",
      "B_courseAve_drop"
     ],
     "language": "python",
     "metadata": {},
     "outputs": [
      {
       "metadata": {},
       "output_type": "pyout",
       "prompt_number": 227,
       "text": [
        "1     81.194005\n",
        "2     81.963959\n",
        "3     89.155834\n",
        "4     77.018164\n",
        "5     94.472357\n",
        "6     78.840563\n",
        "7     80.311090\n",
        "8     82.857472\n",
        "9     88.917562\n",
        "10    83.068334\n",
        "11    83.414833\n",
        "12    91.864894\n",
        "13    92.627741\n",
        "14    81.942814\n",
        "15    71.544222\n",
        "16    77.797431\n",
        "17    89.590019\n",
        "18    81.985830\n",
        "19    93.764719\n",
        "20    92.853243\n",
        "dtype: float64"
       ]
      }
     ],
     "prompt_number": 227
    },
    {
     "cell_type": "code",
     "collapsed": false,
     "input": [],
     "language": "python",
     "metadata": {},
     "outputs": [],
     "prompt_number": 227
    }
   ],
   "metadata": {}
  }
 ]
}