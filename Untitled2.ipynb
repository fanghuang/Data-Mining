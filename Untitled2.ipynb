{
 "metadata": {
  "name": ""
 },
 "nbformat": 3,
 "nbformat_minor": 0,
 "worksheets": [
  {
   "cells": [
    {
     "cell_type": "code",
     "collapsed": false,
     "input": [
      "run Downloads/grades.py"
     ],
     "language": "python",
     "metadata": {},
     "outputs": [
      {
       "output_type": "stream",
       "stream": "stdout",
       "text": [
        "quizzes\n",
        "     Q1  Q2  Q3  Q4\n",
        "Bob  60  64  69  65\n",
        "Jim  52  57  59  55\n",
        "Kim  70  75  77  73\n",
        "Sue  90  93  97  95\n",
        "Tom  81  82  84  88\n",
        "\n",
        "lessons\n",
        "     L1  L2  L3  L4\n",
        "Bob  61  67  68  62\n",
        "Jim  56  54  52  53\n",
        "Kim  71  76  72  78\n",
        "Sue  91  92  93  97\n",
        "Tom  80  89  87  89\n",
        "\n",
        "tests\n",
        "     T1  T2  T3\n",
        "Bob  67  63  65\n",
        "Jim  52  51  58\n",
        "Kim  70  74  73\n",
        "Sue  98  97  92\n",
        "Tom  81  86  83\n",
        "\n",
        "weights\n",
        "lessons    0.3\n",
        "quizzes    0.3\n",
        "tests      0.4\n",
        "dtype: float64\n",
        "\n",
        "ID\n",
        "1290    Kim\n",
        "3331    Tom\n",
        "4915    Bob\n",
        "5567    Sue\n",
        "6518    Jim\n",
        "dtype: object\n",
        "\n",
        "year\n",
        "1290    sophomore\n",
        "3331     freshman\n",
        "4915    sophomore\n",
        "5567    sophomore\n",
        "6518     freshman\n",
        "dtype: object\n",
        "\n",
        "major\n",
        "1290    computer science\n",
        "3331    computer science\n",
        "4915    computer science\n",
        "5567         mathematics\n",
        "6518         mathematics\n",
        "dtype: object\n",
        "\n"
       ]
      }
     ],
     "prompt_number": 3
    },
    {
     "cell_type": "code",
     "collapsed": false,
     "input": [
      "weights['tests']"
     ],
     "language": "python",
     "metadata": {},
     "outputs": [
      {
       "metadata": {},
       "output_type": "pyout",
       "prompt_number": 4,
       "text": [
        "0.40000000000000002"
       ]
      }
     ],
     "prompt_number": 4
    },
    {
     "cell_type": "code",
     "collapsed": false,
     "input": [
      "tests"
     ],
     "language": "python",
     "metadata": {},
     "outputs": [
      {
       "html": [
        "<div style=\"max-height:1000px;max-width:1500px;overflow:auto;\">\n",
        "<table border=\"1\" class=\"dataframe\">\n",
        "  <thead>\n",
        "    <tr style=\"text-align: right;\">\n",
        "      <th></th>\n",
        "      <th>T1</th>\n",
        "      <th>T2</th>\n",
        "      <th>T3</th>\n",
        "    </tr>\n",
        "  </thead>\n",
        "  <tbody>\n",
        "    <tr>\n",
        "      <th>Bob</th>\n",
        "      <td> 67</td>\n",
        "      <td> 63</td>\n",
        "      <td> 65</td>\n",
        "    </tr>\n",
        "    <tr>\n",
        "      <th>Jim</th>\n",
        "      <td> 52</td>\n",
        "      <td> 51</td>\n",
        "      <td> 58</td>\n",
        "    </tr>\n",
        "    <tr>\n",
        "      <th>Kim</th>\n",
        "      <td> 70</td>\n",
        "      <td> 74</td>\n",
        "      <td> 73</td>\n",
        "    </tr>\n",
        "    <tr>\n",
        "      <th>Sue</th>\n",
        "      <td> 98</td>\n",
        "      <td> 97</td>\n",
        "      <td> 92</td>\n",
        "    </tr>\n",
        "    <tr>\n",
        "      <th>Tom</th>\n",
        "      <td> 81</td>\n",
        "      <td> 86</td>\n",
        "      <td> 83</td>\n",
        "    </tr>\n",
        "  </tbody>\n",
        "</table>\n",
        "</div>"
       ],
       "metadata": {},
       "output_type": "pyout",
       "prompt_number": 5,
       "text": [
        "     T1  T2  T3\n",
        "Bob  67  63  65\n",
        "Jim  52  51  58\n",
        "Kim  70  74  73\n",
        "Sue  98  97  92\n",
        "Tom  81  86  83"
       ]
      }
     ],
     "prompt_number": 5
    },
    {
     "cell_type": "code",
     "collapsed": false,
     "input": [
      "whos"
     ],
     "language": "python",
     "metadata": {},
     "outputs": [
      {
       "output_type": "stream",
       "stream": "stdout",
       "text": [
        "Variable    Type         Data/Info\n",
        "----------------------------------\n",
        "DataFrame   type         <class 'pandas.core.frame.DataFrame'>\n",
        "F1          list         n=5\n",
        "ID          Series       1290    Kim\\n3331    Tom\\<...>518    Jim\\ndtype: object\n",
        "Series      type         <class 'pandas.core.series.Series'>\n",
        "col1        list         n=3\n",
        "idx1        list         n=5\n",
        "lessons     DataFrame         L1  L2  L3  L4\\nBob <...>  97\\nTom  80  89  87  89\n",
        "major       Series       1290    computer science\\<...>athematics\\ndtype: object\n",
        "np          module       <module 'numpy' from '/ho<...>ages/numpy/__init__.pyc'>\n",
        "pd          module       <module 'pandas' from '/h<...>ges/pandas/__init__.pyc'>\n",
        "quizzes     DataFrame         Q1  Q2  Q3  Q4\\nBob <...>  95\\nTom  81  82  84  88\n",
        "tests       DataFrame         T1  T2  T3\\nBob  67 <...>  97  92\\nTom  81  86  83\n",
        "weights     Series       lessons    0.3\\nquizzes  <...>      0.4\\ndtype: float64\n",
        "year        Series       1290    sophomore\\n3331  <...>  freshman\\ndtype: object\n"
       ]
      }
     ],
     "prompt_number": 6
    },
    {
     "cell_type": "code",
     "collapsed": false,
     "input": [
      "weights[weights==0.3]"
     ],
     "language": "python",
     "metadata": {},
     "outputs": [
      {
       "metadata": {},
       "output_type": "pyout",
       "prompt_number": 7,
       "text": [
        "lessons    0.3\n",
        "quizzes    0.3\n",
        "dtype: float64"
       ]
      }
     ],
     "prompt_number": 7
    },
    {
     "cell_type": "code",
     "collapsed": false,
     "input": [
      "weights1= Series([0.3,0.3,0.4], index=['lessons','quizzes','tests'])"
     ],
     "language": "python",
     "metadata": {},
     "outputs": []
    }
   ],
   "metadata": {}
  }
 ]
}