{
 "metadata": {
  "name": ""
 },
 "nbformat": 3,
 "nbformat_minor": 0,
 "worksheets": [
  {
   "cells": [
    {
     "cell_type": "code",
     "collapsed": false,
     "input": [
      "import pandas as pd\n",
      "import matplotlib.pyplot as plt\n",
      "crime = pd.read_csv('Crimes_-_2001_to_present.csv')\n",
      "crime"
     ],
     "language": "python",
     "metadata": {},
     "outputs": [
      {
       "html": [
        "<pre>\n",
        "&lt;class 'pandas.core.frame.DataFrame'&gt;\n",
        "Int64Index: 5351512 entries, 0 to 5351511\n",
        "Columns: 22 entries, ID to Location\n",
        "dtypes: bool(2), float64(5), int64(3), object(12)\n",
        "</pre>"
       ],
       "metadata": {},
       "output_type": "pyout",
       "prompt_number": 1,
       "text": [
        "<class 'pandas.core.frame.DataFrame'>\n",
        "Int64Index: 5351512 entries, 0 to 5351511\n",
        "Columns: 22 entries, ID to Location\n",
        "dtypes: bool(2), float64(5), int64(3), object(12)"
       ]
      }
     ],
     "prompt_number": 1
    },
    {
     "cell_type": "code",
     "collapsed": false,
     "input": [
      "plt.hexbin(crime['Longitude'],crime['Latitude'],bins='log')\n",
      "cb = plt.colorbar()\n",
      "cb.set_label('Crime Rate')"
     ],
     "language": "python",
     "metadata": {},
     "outputs": [],
     "prompt_number": 2
    },
    {
     "cell_type": "code",
     "collapsed": false,
     "input": [
      "plt.show()"
     ],
     "language": "python",
     "metadata": {},
     "outputs": [],
     "prompt_number": 3
    },
    {
     "cell_type": "code",
     "collapsed": false,
     "input": [],
     "language": "python",
     "metadata": {},
     "outputs": [],
     "prompt_number": "*"
    }
   ],
   "metadata": {}
  }
 ]
}